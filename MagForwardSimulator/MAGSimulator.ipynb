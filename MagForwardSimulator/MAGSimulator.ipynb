{
 "cells": [
  {
   "cell_type": "markdown",
   "metadata": {
    "extensions": {
     "jupyter_dashboards": {
      "version": 1,
      "views": {
       "grid_default": {
        "col": 0,
        "height": 5,
        "hidden": false,
        "row": 0,
        "width": null
       },
       "report_default": {}
      }
     }
    }
   },
   "source": [
    "Parametric Forward Simulator\n",
    "----------------------------\n",
    "\n",
    "Forward modeling the response of a simple prism and compares the profile to a given dataset.\n",
    "\n",
    "Created: Feb $2^{th}$, 2017 \n",
    "Author: Dom Fournier"
   ]
  },
  {
   "cell_type": "code",
   "execution_count": 1,
   "metadata": {
    "extensions": {
     "jupyter_dashboards": {
      "version": 1,
      "views": {
       "grid_default": {
        "col": 0,
        "height": 2,
        "hidden": false,
        "row": 5,
        "width": 12
       },
       "report_default": {}
      }
     }
    }
   },
   "outputs": [],
   "source": [
    "%matplotlib inline\n",
    "import Simulator as Sim\n",
    "import Mag\n",
    "from SimPEG import PF, Utils, Mesh\n",
    "import numpy as np\n",
    "import matplotlib.pyplot as plt\n",
    "from mpl_toolkits.mplot3d.art3d import Poly3DCollection\n",
    "from scipy import interpolate\n",
    "import os\n",
    "from IPython.display import display"
   ]
  },
  {
   "cell_type": "code",
   "execution_count": 2,
   "metadata": {
    "extensions": {
     "jupyter_dashboards": {
      "version": 1,
      "views": {
       "grid_default": {
        "hidden": true
       },
       "report_default": {}
      }
     }
    }
   },
   "outputs": [],
   "source": [
    "#Input parameters\n",
    "work_dir = '.\\\\'\n",
    "obsfile = 'MB_TMI_OBS_100m.prn' # OBS file in UBC format\n",
    "\n",
    "sep = os.path.sep\n"
   ]
  },
  {
   "cell_type": "code",
   "execution_count": 6,
   "metadata": {
    "extensions": {
     "jupyter_dashboards": {
      "version": 1,
      "views": {
       "grid_default": {
        "col": 0,
        "height": 22,
        "hidden": false,
        "row": 7,
        "width": 12
       },
       "report_default": {}
      }
     }
    }
   },
   "outputs": [
    {
     "data": {
      "application/vnd.jupyter.widget-view+json": {
       "model_id": "b2ea0aa0c50c451580ea4b9889499548",
       "version_major": 2,
       "version_minor": 0
      },
      "text/plain": [
       "interactive(children=(FloatSlider(value=597600.0, continuous_update=False, description='East', max=628740.0, m…"
      ]
     },
     "metadata": {},
     "output_type": "display_data"
    },
    {
     "data": {
      "image/png": "[encoded data removed]",
      "text/plain": [
       "<Figure size 432x648 with 1 Axes>"
      ]
     },
     "metadata": {
      "needs_background": "light"
     },
     "output_type": "display_data"
    },
    {
     "data": {
      "image/png": "[encoded data removed]",
      "text/plain": [
       "<Figure size 432x648 with 1 Axes>"
      ]
     },
     "metadata": {
      "needs_background": "light"
     },
     "output_type": "display_data"
    }
   ],
   "source": [
    "# View the data and chose a profile\n",
    "driver = PF.MagneticsDriver.MagneticsDriver_Inv()\n",
    "driver.basePath = work_dir + sep\n",
    "driver.obsfile = obsfile\n",
    "survey = driver.survey\n",
    "\n",
    "param = Sim.ViewMagSurvey2D(survey)\n",
    "display(param)\n"
   ]
  },
  {
   "cell_type": "code",
   "execution_count": 5,
   "metadata": {
    "extensions": {
     "jupyter_dashboards": {
      "version": 1,
      "views": {
       "grid_default": {
        "col": 0,
        "height": 36,
        "hidden": false,
        "row": 29,
        "width": 6
       },
       "report_default": {}
      }
     }
    },
    "scrolled": true
   },
   "outputs": [
    {
     "ename": "AttributeError",
     "evalue": "'NoneType' object has no attribute 'srcField'",
     "output_type": "error",
     "traceback": [
      "\u001b[1;31m---------------------------------------------------------------------------\u001b[0m",
      "\u001b[1;31mAttributeError\u001b[0m                            Traceback (most recent call last)",
      "\u001b[1;32m<ipython-input-5-63ff59401125>\u001b[0m in \u001b[0;36m<module>\u001b[1;34m\u001b[0m\n\u001b[0;32m      1\u001b[0m \u001b[1;31m# Define the parametric model interactively\u001b[0m\u001b[1;33m\u001b[0m\u001b[1;33m\u001b[0m\u001b[1;33m\u001b[0m\u001b[0m\n\u001b[1;32m----> 2\u001b[1;33m \u001b[0mmodel\u001b[0m \u001b[1;33m=\u001b[0m \u001b[0mSim\u001b[0m\u001b[1;33m.\u001b[0m\u001b[0mViewPrism\u001b[0m\u001b[1;33m(\u001b[0m\u001b[0mparam\u001b[0m\u001b[1;33m)\u001b[0m\u001b[1;33m\u001b[0m\u001b[1;33m\u001b[0m\u001b[0m\n\u001b[0m\u001b[0;32m      3\u001b[0m \u001b[0mdisplay\u001b[0m\u001b[1;33m(\u001b[0m\u001b[0mmodel\u001b[0m\u001b[1;33m)\u001b[0m\u001b[1;33m\u001b[0m\u001b[1;33m\u001b[0m\u001b[0m\n\u001b[0;32m      4\u001b[0m \u001b[1;33m\u001b[0m\u001b[0m\n",
      "\u001b[1;32mc:\\Users\\jpeacock\\Documents\\GitHub\\sandbox\\MagForwardSimulator\\Simulator.py\u001b[0m in \u001b[0;36mViewPrism\u001b[1;34m(param)\u001b[0m\n\u001b[0;32m    346\u001b[0m \u001b[1;33m\u001b[0m\u001b[0m\n\u001b[0;32m    347\u001b[0m     \u001b[0msurvey\u001b[0m \u001b[1;33m=\u001b[0m \u001b[0mparam\u001b[0m\u001b[1;33m.\u001b[0m\u001b[0mresult\u001b[0m\u001b[1;33m\u001b[0m\u001b[1;33m\u001b[0m\u001b[0m\n\u001b[1;32m--> 348\u001b[1;33m     \u001b[0mrxLoc\u001b[0m \u001b[1;33m=\u001b[0m \u001b[0msurvey\u001b[0m\u001b[1;33m.\u001b[0m\u001b[0msrcField\u001b[0m\u001b[1;33m.\u001b[0m\u001b[0mrxList\u001b[0m\u001b[1;33m[\u001b[0m\u001b[1;36m0\u001b[0m\u001b[1;33m]\u001b[0m\u001b[1;33m.\u001b[0m\u001b[0mlocs\u001b[0m\u001b[1;33m\u001b[0m\u001b[1;33m\u001b[0m\u001b[0m\n\u001b[0m\u001b[0;32m    349\u001b[0m     \u001b[0mcntr\u001b[0m \u001b[1;33m=\u001b[0m \u001b[0mnp\u001b[0m\u001b[1;33m.\u001b[0m\u001b[0mmean\u001b[0m\u001b[1;33m(\u001b[0m\u001b[0mrxLoc\u001b[0m\u001b[1;33m[\u001b[0m\u001b[1;33m:\u001b[0m\u001b[1;33m,\u001b[0m \u001b[1;33m:\u001b[0m\u001b[1;36m2\u001b[0m\u001b[1;33m]\u001b[0m\u001b[1;33m,\u001b[0m \u001b[0maxis\u001b[0m\u001b[1;33m=\u001b[0m\u001b[1;36m0\u001b[0m\u001b[1;33m)\u001b[0m\u001b[1;33m\u001b[0m\u001b[1;33m\u001b[0m\u001b[0m\n\u001b[0;32m    350\u001b[0m \u001b[1;33m\u001b[0m\u001b[0m\n",
      "\u001b[1;31mAttributeError\u001b[0m: 'NoneType' object has no attribute 'srcField'"
     ]
    }
   ],
   "source": [
    "# Define the parametric model interactively\n",
    "model = Sim.ViewPrism(param)\n",
    "display(model)\n",
    "\n"
   ]
  },
  {
   "cell_type": "code",
   "execution_count": 5,
   "metadata": {
    "extensions": {
     "jupyter_dashboards": {
      "version": 1,
      "views": {
       "grid_default": {
        "col": 6,
        "height": 36,
        "hidden": false,
        "row": 29,
        "width": 6
       },
       "report_default": {}
      }
     }
    },
    "scrolled": true
   },
   "outputs": [
    {
     "data": {
      "application/vnd.jupyter.widget-view+json": {
       "model_id": "091891d25a6448c09360e12516b9bf81"
      }
     },
     "metadata": {},
     "output_type": "display_data"
    }
   ],
   "source": [
    "plotwidget = Sim.PFSimulator(model, param)\n",
    "display(plotwidget)"
   ]
  },
  {
   "cell_type": "code",
   "execution_count": 6,
   "metadata": {},
   "outputs": [
    {
     "name": "stdout",
     "output_type": "stream",
     "text": [
      "Observation file saved to: .\\\\Synthetic_dyke.obs\n"
     ]
    }
   ],
   "source": [
    "\n",
    "PF.Magnetics.writeUBCobs(work_dir + \"\\\\Synthetic_dyke.obs\",survey,plotwidget.result)"
   ]
  },
  {
   "cell_type": "code",
   "execution_count": 7,
   "metadata": {},
   "outputs": [],
   "source": [
    "## EXPORT TO GOCAD\n",
    "# import Utils\n",
    "\n",
    "\n",
    "# prism=model.result\n",
    "# depth = prism.z0\n",
    "# x1, x2 = prism.xn[0]-prism.xc, prism.xn[1]-prism.xc\n",
    "# y1, y2 = prism.yn[0]-prism.yc, prism.yn[1]-prism.yc\n",
    "# z1, z2 = prism.zn[0]-prism.zc, prism.zn[1]-prism.zc\n",
    "# pinc, pdec = prism.pinc, prism.pdec\n",
    "\n",
    "# cntr = [prism.x0, prism.y0]\n",
    "\n",
    "# # Create a rectangular prism, rotate and plot\n",
    "# block_xyz = np.asarray([[x1, x1, x2, x2, x1, x1, x2, x2],\n",
    "#                        [y1, y2, y2, y1, y1, y2, y2, y1],\n",
    "#                        [z1, z1, z1, z1, z2, z2, z2, z2]])\n",
    "\n",
    "# R = Utils.rotationMatrix(pinc, pdec)\n",
    "\n",
    "# xyz = R.dot(block_xyz).T\n",
    "\n",
    "# # Offset the prism to true coordinate\n",
    "# offx = prism.xc\n",
    "# offy = prism.yc\n",
    "# offz = prism.zc\n",
    "\n",
    "# xyz[:,0] += offx\n",
    "# xyz[:,1] += offy\n",
    "# xyz[:,2] += offz\n",
    "\n",
    "# # Create triangulation\n",
    "# trgl = []\n",
    "# trgl += [[0, 1, 2]]\n",
    "# trgl += [[0, 2, 3]]\n",
    "\n",
    "# trgl += [[4, 6, 5]]\n",
    "# trgl += [[4, 7, 6]]\n",
    "\n",
    "# trgl += [[6, 7, 2]]\n",
    "# trgl += [[7, 3, 2]]\n",
    "\n",
    "# trgl += [[1, 5, 6]]\n",
    "# trgl += [[1, 6, 2]]\n",
    "\n",
    "# trgl += [[4, 5, 1]]\n",
    "# trgl += [[4, 1, 0]]\n",
    "\n",
    "# trgl += [[0, 4, 7]]\n",
    "# trgl += [[0, 3, 7]]\n",
    "\n",
    "# trgl = np.c_[trgl] +1\n",
    "\n",
    "# # Write block to Gocad file\n",
    "# mesh = Mesh.TensorMesh.readUBC(work_dir + \"\\\\MB_50m_Mesh.txt\")\n",
    "\n",
    "# fid = open(work_dir + \"\\\\Block.ts\", 'w')\n",
    "# fid.write(\"GOCAD TSurf 1 \\n\")\n",
    "# fid.write(\"HEADER {}\\n\")\n",
    "# fid.write(\"TFACE\\n\")\n",
    "\n",
    "# for ii in range(xyz.shape[0]):\n",
    "#     fid.write(\"VRTX \" + str(ii+1) + \" \" + str(xyz[ii,0]) + \" \" + str(xyz[ii,1]) + \" \" + str(xyz[ii,2]) + \"\\n\")\n",
    "\n",
    "# for ii in range(trgl.shape[0]):\n",
    "#     fid.write(\"TRGL \" + str(trgl[ii,0]) + \" \" + str(trgl[ii,1]) + \" \" + str(trgl[ii,2]) + \"\\n\")\n",
    "    \n",
    "# fid.write(\"END \\n\")\n",
    "# fid.close()    \n"
   ]
  }
 ],
 "metadata": {
  "anaconda-cloud": {},
  "extensions": {
   "jupyter_dashboards": {
    "activeView": "grid_default",
    "version": 1,
    "views": {
     "grid_default": {
      "cellMargin": 10,
      "defaultCellHeight": 20,
      "maxColumns": 12,
      "name": "grid",
      "type": "grid"
     },
     "report_default": {
      "name": "report",
      "type": "report"
     }
    }
   }
  },
  "kernelspec": {
   "display_name": "Python 3",
   "language": "python",
   "name": "python3"
  },
  "language_info": {
   "codemirror_mode": {
    "name": "ipython",
    "version": 3
   },
   "file_extension": ".py",
   "mimetype": "text/x-python",
   "name": "python",
   "nbconvert_exporter": "python",
   "pygments_lexer": "ipython3",
   "version": "3.7.3"
  },
  "widgets": {
   "state": {
    "e2ee710bc7434bb4a93b4ddef2a9ead3": {
     "views": [
      {
       "cell_index": 3
      }
     ]
    }
   },
   "version": "1.2.0"
  }
 },
 "nbformat": 4,
 "nbformat_minor": 1
}
