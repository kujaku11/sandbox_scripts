{
 "cells": [
  {
   "cell_type": "markdown",
   "id": "5d0eeafb-5047-44bb-bda1-0acb9e91329d",
   "metadata": {},
   "source": [
    "# Build MTH5 from USGS Geomagnetic data\n",
    "\n",
    "Its common to look at observatory data for geomagnetic storms or to use as a remote reference.  The USGS provides geomagnetic observatory data for observatories in North America.  In the future this will be expanded to the various other observatories using well developed packages like [geomagpy](https://pypi.org/project/geomagpy/). \n",
    "\n",
    "You will need to know ahead of time what observatories you would like to download data from, dates, and type of data.  There are no wildcards.  See [USGS Geomagnetic webservices](https://www.usgs.gov/tools/web-service-geomagnetism-data) for more information on allowed options.\n",
    "\n",
    "Here we will download 2 days of data from 2 different observatories for the x and y components of calibrated data ('adjusted')."
   ]
  },
  {
   "cell_type": "code",
   "execution_count": 1,
   "id": "900acc26-2155-4b3b-9468-2b0877c76b43",
   "metadata": {},
   "outputs": [
    {
     "name": "stderr",
     "output_type": "stream",
     "text": [
      "2023-06-29 16:36:01,709 [line 141] mth5.setup_logger - INFO: Logging file can be found C:\\Users\\jpeacock\\OneDrive - DOI\\Documents\\GitHub\\mth5\\logs\\mth5_debug.log\n"
     ]
    }
   ],
   "source": [
    "import pandas as pd\n",
    "\n",
    "from mth5.clients import MakeMTH5"
   ]
  },
  {
   "cell_type": "markdown",
   "id": "4e3d46ba-9671-4730-8a5f-e25d023e3795",
   "metadata": {},
   "source": [
    "\n",
    "\n",
    "## Create a request DataFrame\n",
    "\n",
    "The request input is in the form of a `pandas.DataFrame` with the following columns\n",
    "\n",
    "| Column | Description | Options |\n",
    "|--------|-------------|---------|\n",
    "| observatory | Observatory code | BDT, BOU, TST, BRW, BRT, BSL, CMO, CMT, DED, DHT, FRD, FRN, GUA, HON, NEW, SHU, SIT, SJG, TUC,  USGS, BLC, BRD, CBB, EUA, FCC, IQA, MEA, OTT, RES, SNK, STJ, VIC, YKC, HAD, HER, KAK|\n",
    "| type | The type of data to download | variation, adjusted, quasi-definitive, definitivevariation, adjusted (*default*), quasi-definitive, definitive |\n",
    "| elements | Components or elements of the geomagnetic data to download, should be a list| D, DIST, DST, E, E-E, E-N, F, G, H, SQ, SV, UK1, UK2, UK3, UK4, X, Y, ZD, DIST, DST, E, E-E, E-N, F, G, H, SQ, SV, UK1, UK2, UK3, UK4, X, Y, Z |\n",
    "| sampling_period | Sampling period of data to download in seconds | 1, 60, 3600 |\n",
    "| start | Start time (YYYY-MM-DDThh:mm:ss)  in UTC time| |\n",
    "| end | End time (YYYY-MM-DDThh:mm:ss) in UTC time||"
   ]
  },
  {
   "cell_type": "code",
   "execution_count": 5,
   "id": "f2f4829b-e7ae-4e60-9bf4-98fbe20499d4",
   "metadata": {},
   "outputs": [],
   "source": [
    "request_df = (\n",
    "    pd.DataFrame(\n",
    "        {\n",
    "            \"observatory\": [\"frn\"] * 4,\n",
    "            \"type\": [\"adjusted\"] * 4,\n",
    "            \"elements\": [[\"x\", \"y\"]] * 4,\n",
    "            \"sampling_period\": [1] * 4,\n",
    "            \"start\": [\n",
    "                \"2021-04-26T00:00:00\",\n",
    "                \"2021-05-18T00:00:00\",\n",
    "                \"2022-07-08T00:00:00\",\n",
    "                \"2022-10-27T00:00:00\",\n",
    "            ],\n",
    "            \"end\": [\n",
    "                \"2021-05-06T00:00:00\",\n",
    "                \"2021-05-27T00:00:00\",\n",
    "                \"2022-07-15T00:00:00\",\n",
    "                \"2022-11-05T00:00:00\",\n",
    "            ],\n",
    "        }\n",
    "    )\n",
    ")"
   ]
  },
  {
   "cell_type": "code",
   "execution_count": 6,
   "id": "5aeb84bc-db48-47dd-9a82-50b137f942db",
   "metadata": {},
   "outputs": [
    {
     "data": {
      "text/html": [
       "<div>\n",
       "<style scoped>\n",
       "    .dataframe tbody tr th:only-of-type {\n",
       "        vertical-align: middle;\n",
       "    }\n",
       "\n",
       "    .dataframe tbody tr th {\n",
       "        vertical-align: top;\n",
       "    }\n",
       "\n",
       "    .dataframe thead th {\n",
       "        text-align: right;\n",
       "    }\n",
       "</style>\n",
       "<table border=\"1\" class=\"dataframe\">\n",
       "  <thead>\n",
       "    <tr style=\"text-align: right;\">\n",
       "      <th></th>\n",
       "      <th>observatory</th>\n",
       "      <th>type</th>\n",
       "      <th>elements</th>\n",
       "      <th>sampling_period</th>\n",
       "      <th>start</th>\n",
       "      <th>end</th>\n",
       "    </tr>\n",
       "  </thead>\n",
       "  <tbody>\n",
       "    <tr>\n",
       "      <th>0</th>\n",
       "      <td>frn</td>\n",
       "      <td>adjusted</td>\n",
       "      <td>[x, y]</td>\n",
       "      <td>1</td>\n",
       "      <td>2021-04-26T00:00:00</td>\n",
       "      <td>2021-05-06T00:00:00</td>\n",
       "    </tr>\n",
       "    <tr>\n",
       "      <th>1</th>\n",
       "      <td>frn</td>\n",
       "      <td>adjusted</td>\n",
       "      <td>[x, y]</td>\n",
       "      <td>1</td>\n",
       "      <td>2021-05-18T00:00:00</td>\n",
       "      <td>2021-05-27T00:00:00</td>\n",
       "    </tr>\n",
       "    <tr>\n",
       "      <th>2</th>\n",
       "      <td>frn</td>\n",
       "      <td>adjusted</td>\n",
       "      <td>[x, y]</td>\n",
       "      <td>1</td>\n",
       "      <td>2022-07-08T00:00:00</td>\n",
       "      <td>2022-07-15T00:00:00</td>\n",
       "    </tr>\n",
       "    <tr>\n",
       "      <th>3</th>\n",
       "      <td>frn</td>\n",
       "      <td>adjusted</td>\n",
       "      <td>[x, y]</td>\n",
       "      <td>1</td>\n",
       "      <td>2022-10-27T00:00:00</td>\n",
       "      <td>2022-11-05T00:00:00</td>\n",
       "    </tr>\n",
       "  </tbody>\n",
       "</table>\n",
       "</div>"
      ],
      "text/plain": [
       "  observatory      type elements  sampling_period                start  \\\n",
       "0         frn  adjusted   [x, y]                1  2021-04-26T00:00:00   \n",
       "1         frn  adjusted   [x, y]                1  2021-05-18T00:00:00   \n",
       "2         frn  adjusted   [x, y]                1  2022-07-08T00:00:00   \n",
       "3         frn  adjusted   [x, y]                1  2022-10-27T00:00:00   \n",
       "\n",
       "                   end  \n",
       "0  2021-05-06T00:00:00  \n",
       "1  2021-05-27T00:00:00  \n",
       "2  2022-07-15T00:00:00  \n",
       "3  2022-11-05T00:00:00  "
      ]
     },
     "execution_count": 6,
     "metadata": {},
     "output_type": "execute_result"
    }
   ],
   "source": [
    "request_df"
   ]
  },
  {
   "cell_type": "markdown",
   "id": "88cae780-8999-4632-88c1-c02d63eae7c8",
   "metadata": {},
   "source": [
    "### Adding Run ID\n",
    "\n",
    "When the request is input automatically run names will be assigned to different windows of time by `f\"sp{sampling_period}_{count:03}\"`. So the first run is `sp1_001`, alternatively you can add a run column and name them as you like.  "
   ]
  },
  {
   "cell_type": "markdown",
   "id": "d9118cc1-87ab-4a34-99e2-93282364ea96",
   "metadata": {},
   "source": [
    "## Create MTH5\n",
    "\n",
    "Once the request is complete get the data. The file name will be created automatically as `usgs_geomag_{list of observatories}_{list of elements}.h5`"
   ]
  },
  {
   "cell_type": "code",
   "execution_count": 7,
   "id": "7c2ca6b6-136a-435f-9714-2b52238742b9",
   "metadata": {},
   "outputs": [
    {
     "name": "stderr",
     "output_type": "stream",
     "text": [
      "2023-06-29 16:39:44,713 [line 673] mth5.mth5.MTH5._initialize_file - INFO: Initialized MTH5 0.2.0 file c:\\Users\\jpeacock\\OneDrive - DOI\\MTData\\CL2021\\usgs_geomag_frn_xy.h5 in mode a\n",
      "2023-06-29 16:40:09,307 [line 658] mth5.timeseries.run_ts.RunTS.validate_metadata - WARNING: end time of dataset 2021-05-06T00:00:04+00:00 does not match metadata end 2021-05-06T00:00:00+00:00 updating metatdata value to 2021-05-06T00:00:04+00:00\n",
      "2023-06-29 16:40:31,352 [line 658] mth5.timeseries.run_ts.RunTS.validate_metadata - WARNING: end time of dataset 2021-05-27T00:00:04+00:00 does not match metadata end 2021-05-27T00:00:00+00:00 updating metatdata value to 2021-05-27T00:00:04+00:00\n",
      "2023-06-29 16:40:31,401 [line 313] mth5.groups.base.MasterStation.add_station - INFO: Station Fresno already exists, returning existing group.\n",
      "2023-06-29 16:40:48,921 [line 658] mth5.timeseries.run_ts.RunTS.validate_metadata - WARNING: end time of dataset 2022-07-15T00:00:03+00:00 does not match metadata end 2022-07-15T00:00:00+00:00 updating metatdata value to 2022-07-15T00:00:03+00:00\n",
      "2023-06-29 16:40:48,967 [line 313] mth5.groups.base.MasterStation.add_station - INFO: Station Fresno already exists, returning existing group.\n",
      "2023-06-29 16:41:14,623 [line 658] mth5.timeseries.run_ts.RunTS.validate_metadata - WARNING: end time of dataset 2022-11-05T00:00:04+00:00 does not match metadata end 2022-11-05T00:00:00+00:00 updating metatdata value to 2022-11-05T00:00:04+00:00\n",
      "2023-06-29 16:41:14,676 [line 313] mth5.groups.base.MasterStation.add_station - INFO: Station Fresno already exists, returning existing group.\n"
     ]
    }
   ],
   "source": [
    "make_mth5_object = MakeMTH5(\n",
    "    mth5_version=\"0.2.0\",\n",
    "    interact=True,\n",
    "    save_path=r\"c:\\Users\\jpeacock\\OneDrive - DOI\\MTData\\CL2021\",\n",
    ")\n",
    "mth5_object = make_mth5_object.from_usgs_geomag(request_df)"
   ]
  },
  {
   "cell_type": "markdown",
   "id": "04f6bdef-c503-4406-849d-cf7804fb71c2",
   "metadata": {},
   "source": [
    "### Check to make sure everything was downloaded properly"
   ]
  },
  {
   "cell_type": "code",
   "execution_count": 8,
   "id": "14b6b830-dd04-4313-abed-f12dbb0a5dee",
   "metadata": {},
   "outputs": [
    {
     "data": {
      "text/html": [
       "<div>\n",
       "<style scoped>\n",
       "    .dataframe tbody tr th:only-of-type {\n",
       "        vertical-align: middle;\n",
       "    }\n",
       "\n",
       "    .dataframe tbody tr th {\n",
       "        vertical-align: top;\n",
       "    }\n",
       "\n",
       "    .dataframe thead th {\n",
       "        text-align: right;\n",
       "    }\n",
       "</style>\n",
       "<table border=\"1\" class=\"dataframe\">\n",
       "  <thead>\n",
       "    <tr style=\"text-align: right;\">\n",
       "      <th></th>\n",
       "      <th>survey</th>\n",
       "      <th>station</th>\n",
       "      <th>run</th>\n",
       "      <th>latitude</th>\n",
       "      <th>longitude</th>\n",
       "      <th>elevation</th>\n",
       "      <th>component</th>\n",
       "      <th>start</th>\n",
       "      <th>end</th>\n",
       "      <th>n_samples</th>\n",
       "      <th>sample_rate</th>\n",
       "      <th>measurement_type</th>\n",
       "      <th>azimuth</th>\n",
       "      <th>tilt</th>\n",
       "      <th>units</th>\n",
       "      <th>hdf5_reference</th>\n",
       "      <th>run_hdf5_reference</th>\n",
       "      <th>station_hdf5_reference</th>\n",
       "    </tr>\n",
       "  </thead>\n",
       "  <tbody>\n",
       "    <tr>\n",
       "      <th>0</th>\n",
       "      <td>USGS-GEOMAG</td>\n",
       "      <td>Fresno</td>\n",
       "      <td>sp1_001</td>\n",
       "      <td>37.091</td>\n",
       "      <td>-119.718</td>\n",
       "      <td>331.0</td>\n",
       "      <td>hx</td>\n",
       "      <td>2021-04-26 00:00:00+00:00</td>\n",
       "      <td>2021-05-06 00:00:04+00:00</td>\n",
       "      <td>864005</td>\n",
       "      <td>1.0</td>\n",
       "      <td>magnetic</td>\n",
       "      <td>0.0</td>\n",
       "      <td>0.0</td>\n",
       "      <td>nanotesla</td>\n",
       "      <td>&lt;HDF5 object reference&gt;</td>\n",
       "      <td>&lt;HDF5 object reference&gt;</td>\n",
       "      <td>&lt;HDF5 object reference&gt;</td>\n",
       "    </tr>\n",
       "    <tr>\n",
       "      <th>1</th>\n",
       "      <td>USGS-GEOMAG</td>\n",
       "      <td>Fresno</td>\n",
       "      <td>sp1_001</td>\n",
       "      <td>37.091</td>\n",
       "      <td>-119.718</td>\n",
       "      <td>331.0</td>\n",
       "      <td>hy</td>\n",
       "      <td>2021-04-26 00:00:00+00:00</td>\n",
       "      <td>2021-05-06 00:00:04+00:00</td>\n",
       "      <td>864005</td>\n",
       "      <td>1.0</td>\n",
       "      <td>magnetic</td>\n",
       "      <td>90.0</td>\n",
       "      <td>0.0</td>\n",
       "      <td>nanotesla</td>\n",
       "      <td>&lt;HDF5 object reference&gt;</td>\n",
       "      <td>&lt;HDF5 object reference&gt;</td>\n",
       "      <td>&lt;HDF5 object reference&gt;</td>\n",
       "    </tr>\n",
       "    <tr>\n",
       "      <th>2</th>\n",
       "      <td>USGS-GEOMAG</td>\n",
       "      <td>Fresno</td>\n",
       "      <td>sp1_002</td>\n",
       "      <td>37.091</td>\n",
       "      <td>-119.718</td>\n",
       "      <td>331.0</td>\n",
       "      <td>hx</td>\n",
       "      <td>2021-05-18 00:00:00+00:00</td>\n",
       "      <td>2021-05-27 00:00:04+00:00</td>\n",
       "      <td>777605</td>\n",
       "      <td>1.0</td>\n",
       "      <td>magnetic</td>\n",
       "      <td>0.0</td>\n",
       "      <td>0.0</td>\n",
       "      <td>nanotesla</td>\n",
       "      <td>&lt;HDF5 object reference&gt;</td>\n",
       "      <td>&lt;HDF5 object reference&gt;</td>\n",
       "      <td>&lt;HDF5 object reference&gt;</td>\n",
       "    </tr>\n",
       "    <tr>\n",
       "      <th>3</th>\n",
       "      <td>USGS-GEOMAG</td>\n",
       "      <td>Fresno</td>\n",
       "      <td>sp1_002</td>\n",
       "      <td>37.091</td>\n",
       "      <td>-119.718</td>\n",
       "      <td>331.0</td>\n",
       "      <td>hy</td>\n",
       "      <td>2021-05-18 00:00:00+00:00</td>\n",
       "      <td>2021-05-27 00:00:04+00:00</td>\n",
       "      <td>777605</td>\n",
       "      <td>1.0</td>\n",
       "      <td>magnetic</td>\n",
       "      <td>90.0</td>\n",
       "      <td>0.0</td>\n",
       "      <td>nanotesla</td>\n",
       "      <td>&lt;HDF5 object reference&gt;</td>\n",
       "      <td>&lt;HDF5 object reference&gt;</td>\n",
       "      <td>&lt;HDF5 object reference&gt;</td>\n",
       "    </tr>\n",
       "    <tr>\n",
       "      <th>4</th>\n",
       "      <td>USGS-GEOMAG</td>\n",
       "      <td>Fresno</td>\n",
       "      <td>sp1_003</td>\n",
       "      <td>37.091</td>\n",
       "      <td>-119.718</td>\n",
       "      <td>331.0</td>\n",
       "      <td>hx</td>\n",
       "      <td>2022-07-08 00:00:00+00:00</td>\n",
       "      <td>2022-07-15 00:00:03+00:00</td>\n",
       "      <td>604804</td>\n",
       "      <td>1.0</td>\n",
       "      <td>magnetic</td>\n",
       "      <td>0.0</td>\n",
       "      <td>0.0</td>\n",
       "      <td>nanotesla</td>\n",
       "      <td>&lt;HDF5 object reference&gt;</td>\n",
       "      <td>&lt;HDF5 object reference&gt;</td>\n",
       "      <td>&lt;HDF5 object reference&gt;</td>\n",
       "    </tr>\n",
       "    <tr>\n",
       "      <th>5</th>\n",
       "      <td>USGS-GEOMAG</td>\n",
       "      <td>Fresno</td>\n",
       "      <td>sp1_003</td>\n",
       "      <td>37.091</td>\n",
       "      <td>-119.718</td>\n",
       "      <td>331.0</td>\n",
       "      <td>hy</td>\n",
       "      <td>2022-07-08 00:00:00+00:00</td>\n",
       "      <td>2022-07-15 00:00:03+00:00</td>\n",
       "      <td>604804</td>\n",
       "      <td>1.0</td>\n",
       "      <td>magnetic</td>\n",
       "      <td>90.0</td>\n",
       "      <td>0.0</td>\n",
       "      <td>nanotesla</td>\n",
       "      <td>&lt;HDF5 object reference&gt;</td>\n",
       "      <td>&lt;HDF5 object reference&gt;</td>\n",
       "      <td>&lt;HDF5 object reference&gt;</td>\n",
       "    </tr>\n",
       "    <tr>\n",
       "      <th>6</th>\n",
       "      <td>USGS-GEOMAG</td>\n",
       "      <td>Fresno</td>\n",
       "      <td>sp1_004</td>\n",
       "      <td>37.091</td>\n",
       "      <td>-119.718</td>\n",
       "      <td>331.0</td>\n",
       "      <td>hx</td>\n",
       "      <td>2022-10-27 00:00:00+00:00</td>\n",
       "      <td>2022-11-05 00:00:04+00:00</td>\n",
       "      <td>777605</td>\n",
       "      <td>1.0</td>\n",
       "      <td>magnetic</td>\n",
       "      <td>0.0</td>\n",
       "      <td>0.0</td>\n",
       "      <td>nanotesla</td>\n",
       "      <td>&lt;HDF5 object reference&gt;</td>\n",
       "      <td>&lt;HDF5 object reference&gt;</td>\n",
       "      <td>&lt;HDF5 object reference&gt;</td>\n",
       "    </tr>\n",
       "    <tr>\n",
       "      <th>7</th>\n",
       "      <td>USGS-GEOMAG</td>\n",
       "      <td>Fresno</td>\n",
       "      <td>sp1_004</td>\n",
       "      <td>37.091</td>\n",
       "      <td>-119.718</td>\n",
       "      <td>331.0</td>\n",
       "      <td>hy</td>\n",
       "      <td>2022-10-27 00:00:00+00:00</td>\n",
       "      <td>2022-11-05 00:00:04+00:00</td>\n",
       "      <td>777605</td>\n",
       "      <td>1.0</td>\n",
       "      <td>magnetic</td>\n",
       "      <td>90.0</td>\n",
       "      <td>0.0</td>\n",
       "      <td>nanotesla</td>\n",
       "      <td>&lt;HDF5 object reference&gt;</td>\n",
       "      <td>&lt;HDF5 object reference&gt;</td>\n",
       "      <td>&lt;HDF5 object reference&gt;</td>\n",
       "    </tr>\n",
       "  </tbody>\n",
       "</table>\n",
       "</div>"
      ],
      "text/plain": [
       "        survey station      run  latitude  longitude  elevation component  \\\n",
       "0  USGS-GEOMAG  Fresno  sp1_001    37.091   -119.718      331.0        hx   \n",
       "1  USGS-GEOMAG  Fresno  sp1_001    37.091   -119.718      331.0        hy   \n",
       "2  USGS-GEOMAG  Fresno  sp1_002    37.091   -119.718      331.0        hx   \n",
       "3  USGS-GEOMAG  Fresno  sp1_002    37.091   -119.718      331.0        hy   \n",
       "4  USGS-GEOMAG  Fresno  sp1_003    37.091   -119.718      331.0        hx   \n",
       "5  USGS-GEOMAG  Fresno  sp1_003    37.091   -119.718      331.0        hy   \n",
       "6  USGS-GEOMAG  Fresno  sp1_004    37.091   -119.718      331.0        hx   \n",
       "7  USGS-GEOMAG  Fresno  sp1_004    37.091   -119.718      331.0        hy   \n",
       "\n",
       "                      start                       end  n_samples  sample_rate  \\\n",
       "0 2021-04-26 00:00:00+00:00 2021-05-06 00:00:04+00:00     864005          1.0   \n",
       "1 2021-04-26 00:00:00+00:00 2021-05-06 00:00:04+00:00     864005          1.0   \n",
       "2 2021-05-18 00:00:00+00:00 2021-05-27 00:00:04+00:00     777605          1.0   \n",
       "3 2021-05-18 00:00:00+00:00 2021-05-27 00:00:04+00:00     777605          1.0   \n",
       "4 2022-07-08 00:00:00+00:00 2022-07-15 00:00:03+00:00     604804          1.0   \n",
       "5 2022-07-08 00:00:00+00:00 2022-07-15 00:00:03+00:00     604804          1.0   \n",
       "6 2022-10-27 00:00:00+00:00 2022-11-05 00:00:04+00:00     777605          1.0   \n",
       "7 2022-10-27 00:00:00+00:00 2022-11-05 00:00:04+00:00     777605          1.0   \n",
       "\n",
       "  measurement_type  azimuth  tilt      units           hdf5_reference  \\\n",
       "0         magnetic      0.0   0.0  nanotesla  <HDF5 object reference>   \n",
       "1         magnetic     90.0   0.0  nanotesla  <HDF5 object reference>   \n",
       "2         magnetic      0.0   0.0  nanotesla  <HDF5 object reference>   \n",
       "3         magnetic     90.0   0.0  nanotesla  <HDF5 object reference>   \n",
       "4         magnetic      0.0   0.0  nanotesla  <HDF5 object reference>   \n",
       "5         magnetic     90.0   0.0  nanotesla  <HDF5 object reference>   \n",
       "6         magnetic      0.0   0.0  nanotesla  <HDF5 object reference>   \n",
       "7         magnetic     90.0   0.0  nanotesla  <HDF5 object reference>   \n",
       "\n",
       "        run_hdf5_reference   station_hdf5_reference  \n",
       "0  <HDF5 object reference>  <HDF5 object reference>  \n",
       "1  <HDF5 object reference>  <HDF5 object reference>  \n",
       "2  <HDF5 object reference>  <HDF5 object reference>  \n",
       "3  <HDF5 object reference>  <HDF5 object reference>  \n",
       "4  <HDF5 object reference>  <HDF5 object reference>  \n",
       "5  <HDF5 object reference>  <HDF5 object reference>  \n",
       "6  <HDF5 object reference>  <HDF5 object reference>  \n",
       "7  <HDF5 object reference>  <HDF5 object reference>  "
      ]
     },
     "execution_count": 8,
     "metadata": {},
     "output_type": "execute_result"
    }
   ],
   "source": [
    "mth5_object.channel_summary.summarize()\n",
    "mth5_object.channel_summary.to_dataframe()"
   ]
  },
  {
   "cell_type": "markdown",
   "id": "5f9b1794-adf3-4a7a-b4fd-ca7fb85e414f",
   "metadata": {},
   "source": [
    "### Have a look at a run"
   ]
  },
  {
   "cell_type": "code",
   "execution_count": 9,
   "id": "9b8ad5ab-84ef-4186-9995-66d79e70ddfb",
   "metadata": {},
   "outputs": [],
   "source": [
    "run = mth5_object.get_run(\"Fresno\", \"sp1_001\", \"USGS-GEOMAG\")"
   ]
  },
  {
   "cell_type": "code",
   "execution_count": 10,
   "id": "8decef9a-e0d3-4a12-a575-263dbb3ff489",
   "metadata": {},
   "outputs": [],
   "source": [
    "hx = run.get_channel(\"hx\")"
   ]
  },
  {
   "cell_type": "code",
   "execution_count": 11,
   "id": "d3dfc88b-292a-42e8-a695-ad6911d75105",
   "metadata": {},
   "outputs": [
    {
     "data": {
      "text/plain": [
       "array([22579.81 , 22579.796, 22579.769, 22579.767, 22579.761, 22579.713,\n",
       "       22579.696, 22579.694, 22579.669, 22579.647, 22579.602, 22579.574,\n",
       "       22579.568, 22579.556, 22579.541, 22579.539, 22579.511, 22579.501,\n",
       "       22579.479, 22579.466, 22579.471, 22579.428, 22579.414, 22579.405,\n",
       "       22579.377, 22579.385, 22579.372, 22579.328, 22579.32 , 22579.293,\n",
       "       22579.276, 22579.249, 22579.221, 22579.185, 22579.168, 22579.155,\n",
       "       22579.124, 22579.127, 22579.104, 22579.075, 22579.062, 22579.025,\n",
       "       22579.027, 22579.027, 22578.99 , 22578.997, 22578.976, 22578.972,\n",
       "       22578.944, 22578.934, 22578.926, 22578.925, 22578.925, 22578.917,\n",
       "       22578.892, 22578.873, 22578.844, 22578.795, 22578.757, 22578.714,\n",
       "       22578.672, 22578.621, 22578.585, 22578.558, 22578.526, 22578.5  ,\n",
       "       22578.486, 22578.489, 22578.47 , 22578.468, 22578.473, 22578.5  ,\n",
       "       22578.489, 22578.505, 22578.515, 22578.531, 22578.52 , 22578.518,\n",
       "       22578.505, 22578.485, 22578.513, 22578.463, 22578.456, 22578.451,\n",
       "       22578.426, 22578.422, 22578.424, 22578.41 , 22578.439, 22578.437,\n",
       "       22578.433, 22578.444, 22578.422, 22578.429, 22578.426, 22578.396,\n",
       "       22578.4  , 22578.389, 22578.34 , 22578.322])"
      ]
     },
     "execution_count": 11,
     "metadata": {},
     "output_type": "execute_result"
    }
   ],
   "source": [
    "hx.hdf5_dataset[0:100]"
   ]
  },
  {
   "cell_type": "code",
   "execution_count": 12,
   "id": "4ccd3498-3bfe-4bc4-80e7-118bf944b102",
   "metadata": {},
   "outputs": [
    {
     "data": {
      "image/png": "[encoded data removed]",
      "text/plain": [
       "<Figure size 432x288 with 2 Axes>"
      ]
     },
     "execution_count": 12,
     "metadata": {},
     "output_type": "execute_result"
    },
    {
     "data": {
      "image/png": "[encoded data removed]",
      "text/plain": [
       "<Figure size 432x288 with 2 Axes>"
      ]
     },
     "metadata": {
      "needs_background": "light"
     },
     "output_type": "display_data"
    }
   ],
   "source": [
    "run_ts = run.to_runts()\n",
    "run_ts.plot()"
   ]
  },
  {
   "cell_type": "markdown",
   "id": "5c8d9616-a639-4dd4-9e14-5e7d18b42a6c",
   "metadata": {},
   "source": [
    "## Close the MTH5 file\n",
    "\n",
    "**IMPORTANT**: Be sure to close the file, otherwise bad things can happen."
   ]
  },
  {
   "cell_type": "code",
   "execution_count": 13,
   "id": "b434b1b1-ab9d-4335-8514-8ffe051e602d",
   "metadata": {},
   "outputs": [
    {
     "name": "stderr",
     "output_type": "stream",
     "text": [
      "2023-06-29 16:41:41,959 [line 754] mth5.mth5.MTH5.close_mth5 - INFO: Flushing and closing c:\\Users\\jpeacock\\OneDrive - DOI\\MTData\\CL2021\\usgs_geomag_frn_xy.h5\n"
     ]
    }
   ],
   "source": [
    "mth5_object.close_mth5()"
   ]
  },
  {
   "cell_type": "code",
   "execution_count": null,
   "id": "afb109f1-220f-4d0b-aa59-22ef5a21ee9f",
   "metadata": {},
   "outputs": [],
   "source": []
  }
 ],
 "metadata": {
  "kernelspec": {
   "display_name": "Python 3 (ipykernel)",
   "language": "python",
   "name": "python3"
  },
  "language_info": {
   "codemirror_mode": {
    "name": "ipython",
    "version": 3
   },
   "file_extension": ".py",
   "mimetype": "text/x-python",
   "name": "python",
   "nbconvert_exporter": "python",
   "pygments_lexer": "ipython3",
   "version": "3.8.13"
  }
 },
 "nbformat": 4,
 "nbformat_minor": 5
}
