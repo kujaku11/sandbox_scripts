{
 "cells": [
  {
   "cell_type": "code",
   "execution_count": 9,
   "metadata": {
    "collapsed": true,
    "jupyter": {
     "outputs_hidden": true
    }
   },
   "outputs": [],
   "source": [
    "import pymc\n",
    "import numpy as np\n",
    "import matplotlib.pyplot as plt\n",
    "import scipy.stats as stats\n",
    "%matplotlib inline"
   ]
  },
  {
   "cell_type": "code",
   "execution_count": 10,
   "metadata": {
    "collapsed": true,
    "jupyter": {
     "outputs_hidden": true
    }
   },
   "outputs": [],
   "source": [
    "num_obs = 200"
   ]
  },
  {
   "cell_type": "code",
   "execution_count": 27,
   "metadata": {
    "collapsed": false,
    "jupyter": {
     "outputs_hidden": false
    }
   },
   "outputs": [],
   "source": [
    "data_obs = 1./np.random.normal(loc=8, scale=4, size=num_obs)"
   ]
  },
  {
   "cell_type": "code",
   "execution_count": 38,
   "metadata": {
    "collapsed": false,
    "jupyter": {
     "outputs_hidden": false
    }
   },
   "outputs": [],
   "source": [
    "sigma_r = 1./(np.random.normal(loc=200., scale=100., size=num_obs))\n",
    "sigma_m = np.random.normal(loc=1, scale=.15, size=num_obs)\n",
    "\n",
    "m_r = np.random.normal(loc=.03, scale=.02, size=num_obs)\n",
    "m_m = np.random.normal(loc=1.7, scale=.3, size=num_obs)"
   ]
  },
  {
   "cell_type": "code",
   "execution_count": 39,
   "metadata": {
    "collapsed": false,
    "jupyter": {
     "outputs_hidden": false
    }
   },
   "outputs": [
    {
     "data": {
      "image/png": "[encoded data removed]",
      "text/plain": [
       "<matplotlib.figure.Figure at 0x1211e2b0>"
      ]
     },
     "metadata": {},
     "output_type": "display_data"
    }
   ],
   "source": [
    "fig = plt.figure(1, [12, 6], dpi=300)\n",
    "fig.subplots_adjust(hspace=.3)\n",
    "ax1 = fig.add_subplot(2,3,1)\n",
    "counts, bins, ignored = ax1.hist(1./data_obs, normed=False, color='black')\n",
    "ax1.set_xlabel(r'$\\rho_{obs}$', fontdict={'size':18})\n",
    "\n",
    "ax2 = fig.add_subplot(2,3,2)\n",
    "counts, bins, ignored = ax2.hist(1./sigma_r, normed=False, color='blue')\n",
    "ax2.set_xlabel(r'$\\rho_{rock}$', fontdict={'size':18})\n",
    "\n",
    "ax3 = fig.add_subplot(2,3,3)\n",
    "counts, bins, ignored = ax3.hist(sigma_m, normed=False, color='red')\n",
    "ax3.set_xlabel(r'$\\sigma_{fluid}$', fontdict={'size':18})\n",
    "\n",
    "ax6 = fig.add_subplot(2,3,5)\n",
    "counts, bins, ignored = ax6.hist(m_r, normed=False, color='blue')\n",
    "ax6.set_xlabel(r'$m_{rock}$', fontdict={'size':18})\n",
    "\n",
    "ax8 = fig.add_subplot(2,3,6)\n",
    "counts, bins, ignored = ax8.hist(m_m, normed=False, color='green')\n",
    "ax8.set_xlabel(r'$m_{fluid}$', fontdict={'size':18})\n",
    "plt.show()"
   ]
  },
  {
   "cell_type": "code",
   "execution_count": 112,
   "metadata": {
    "collapsed": false,
    "jupyter": {
     "outputs_hidden": false
    }
   },
   "outputs": [],
   "source": [
    "# prior information of unknown model parameters\n",
    "phi_r = pymc.Normal('phi_r', mu=.8, tau=.5)\n",
    "phi_m = pymc.Normal('phi_m', mu=.3, tau=.2)"
   ]
  },
  {
   "cell_type": "code",
   "execution_count": 113,
   "metadata": {
    "collapsed": false,
    "jupyter": {
     "outputs_hidden": false
    }
   },
   "outputs": [],
   "source": [
    "# expected outcome is governed by Archies equation of Glove 2010\n",
    "@pymc.deterministic\n",
    "def archies(s_r=sigma_r, s_m=sigma_m, \n",
    "            p_r=phi_r, p_m=phi_m, \n",
    "            m_r=m_r, m_m=m_m):\n",
    "    if p_r+p_m != 1.0:\n",
    "        archie_return = np.nan\n",
    "    else:\n",
    "        archie_return = (s_r*p_r**m_r)+(s_m*p_m**m_m)\n",
    "    return archie_return\n",
    "\n",
    "\n",
    "# likelihood of the observations is a normal distribution\n",
    "# and is the data itself\n",
    "sigma_obs = pymc.Normal('sigma_obs', mu=archies, value=data_obs, observed=True)\n",
    "\n",
    "archie_model = pymc.Model([archies, sigma_r, sigma_m, \n",
    "                           phi_r, phi_m, \n",
    "                           m_r, m_m, \n",
    "                           sigma_obs, \n",
    "                           data_obs])\n"
   ]
  },
  {
   "cell_type": "code",
   "execution_count": 114,
   "metadata": {
    "collapsed": false,
    "jupyter": {
     "outputs_hidden": false
    }
   },
   "outputs": [
    {
     "name": "stdout",
     "output_type": "stream",
     "text": [
      " [-----------------100%-----------------] 100000 of 100000 complete in 11.7 sec"
     ]
    }
   ],
   "source": [
    "model_fit = pymc.MCMC(archie_model)\n",
    "model_fit.sample(iter=100000)"
   ]
  },
  {
   "cell_type": "code",
   "execution_count": 115,
   "metadata": {
    "collapsed": false,
    "jupyter": {
     "outputs_hidden": false
    }
   },
   "outputs": [
    {
     "name": "stdout",
     "output_type": "stream",
     "text": [
      "             Rock   Fluid\n",
      "Mean Percent   0.49   0.51\n",
      "Median Percent 0.49   0.48\n",
      "Mode Percent   0.07   0.04\n",
      "Min Percent    0.07   0.04\n",
      "Max Percent    0.94   0.86\n",
      "STD            0.25   0.22\n"
     ]
    },
    {
     "data": {
      "image/png": "[encoded data removed]",
      "text/plain": [
       "<matplotlib.figure.Figure at 0x1283b9d0>"
      ]
     },
     "metadata": {},
     "output_type": "display_data"
    }
   ],
   "source": [
    "pr_arr = model_fit.trace('phi_r')[:]\n",
    "pm_arr = model_fit.trace('phi_m')[:]\n",
    "\n",
    "pr_arr = pr_arr[np.where((pr_arr>=0)& (pr_arr<=1))]\n",
    "pm_arr = pm_arr[np.where((pm_arr>=0)& (pm_arr<=1))]\n",
    "\n",
    "# make sure that the rock percentage is confined to values where the \n",
    "# total proportion is equal to 1\n",
    "#pr_arr = pr_arr[np.where(pr_arr > 1-(stats.mode(pm_arr)[0][0])*1.2)]\n",
    "\n",
    "fig_2 = plt.figure(2, [12, 6], dpi=300)\n",
    "ax1 = fig_2.add_subplot(1, 2, 1)\n",
    "h1 = ax1.hist(pr_arr, bins=20, color='blue')\n",
    "ax1.set_xlim(0, 1)\n",
    "ax1.set_xlabel(r'$\\phi_{rock}$', fontdict={'size':18})\n",
    "\n",
    "\n",
    "ax3 = fig_2.add_subplot(1, 2, 2)\n",
    "h3 = ax3.hist(pm_arr, bins=20, color='green')\n",
    "ax3.set_xlim(0, 1)\n",
    "ax3.set_xlabel(r'$\\phi_{fluid}$', fontdict={'size':18})\n",
    "\n",
    "\n",
    "print '             Rock   Fluid'\n",
    "print 'Mean Percent   {0:.2f}   {1:.2f}'.format(pr_arr.mean(),\n",
    "                                                pm_arr.mean())\n",
    "print 'Median Percent {0:.2f}   {1:.2f}'.format(np.median(pr_arr),\n",
    "                                                np.median(pm_arr))\n",
    "print 'Mode Percent   {0:.2f}   {1:.2f}'.format(stats.mode(pr_arr)[0][0],\n",
    "                                                stats.mode(pm_arr)[0][0])\n",
    "print 'Min Percent    {0:.2f}   {1:.2f}'.format(pr_arr.min(),\n",
    "                                                pm_arr.min())\n",
    "print 'Max Percent    {0:.2f}   {1:.2f}'.format(pr_arr.max(),\n",
    "                                                pm_arr.max())\n",
    "print 'STD            {0:.2f}   {1:.2f}'.format(pr_arr.std(),\n",
    "                                                pm_arr.std()) "
   ]
  },
  {
   "cell_type": "code",
   "execution_count": 78,
   "metadata": {
    "collapsed": false,
    "jupyter": {
     "outputs_hidden": false
    }
   },
   "outputs": [
    {
     "data": {
      "text/plain": [
       "array([ 0.39560922,  0.2878765 ,  0.0244084 ,  0.07060327,  0.26674422,\n",
       "        0.06466304,  0.14771287,  0.01647458,  0.46331567,  0.21642902,\n",
       "        0.3460257 ,  0.74910675,  0.63032472,  0.43205192,  0.63728261,\n",
       "        0.86615924,  0.86713492,  0.31016082,  0.0809406 ,  0.05146423,\n",
       "        0.0164066 ,  0.39699151,  0.83388729,  0.97731798,  0.52900142,\n",
       "        0.29710563,  0.62290122,  0.85757035,  0.8420302 ,  0.96846656,\n",
       "        0.44000372,  0.478753  ,  0.3925271 ,  0.2073435 ,  0.27641763,\n",
       "        0.34745147,  0.1052079 ,  0.08514151,  0.21603934,  0.28051176,\n",
       "        0.71713937,  0.42123583,  0.27764009,  0.32774367,  0.02989375,\n",
       "        0.24846533,  0.41829222,  0.3654623 ,  0.44857544,  0.98877956,\n",
       "        0.92709833,  0.90667414,  0.9788108 ,  0.90450771,  0.63976478,\n",
       "        0.67450844,  0.28144597,  0.89759263,  0.02175846,  0.86536155,\n",
       "        0.74356601,  0.12199305,  0.78632526])"
      ]
     },
     "execution_count": 78,
     "metadata": {},
     "output_type": "execute_result"
    }
   ],
   "source": [
    "pr_arr\n"
   ]
  },
  {
   "cell_type": "code",
   "execution_count": 79,
   "metadata": {
    "collapsed": false,
    "jupyter": {
     "outputs_hidden": false
    }
   },
   "outputs": [
    {
     "data": {
      "text/plain": [
       "array([ 0.5476066 ,  0.85185107,  0.35510643,  0.61401394,  0.70195781,\n",
       "        0.69352253,  0.61706381,  0.76851642])"
      ]
     },
     "execution_count": 79,
     "metadata": {},
     "output_type": "execute_result"
    }
   ],
   "source": [
    "pm_arr"
   ]
  },
  {
   "cell_type": "code",
   "execution_count": 80,
   "metadata": {
    "collapsed": false,
    "jupyter": {
     "outputs_hidden": false
    }
   },
   "outputs": [
    {
     "data": {
      "text/plain": [
       "<pymc.distributions.Normal 'phi_r' at 0x126E7130>"
      ]
     },
     "execution_count": 80,
     "metadata": {},
     "output_type": "execute_result"
    }
   ],
   "source": [
    "phi_r"
   ]
  },
  {
   "cell_type": "code",
   "execution_count": 83,
   "metadata": {
    "collapsed": false,
    "jupyter": {
     "outputs_hidden": false
    }
   },
   "outputs": [
    {
     "data": {
      "text/plain": [
       "array([  1.70664827e+100])"
      ]
     },
     "execution_count": 83,
     "metadata": {},
     "output_type": "execute_result"
    }
   ],
   "source": [
    "phi_r.get_stoch_value()"
   ]
  },
  {
   "cell_type": "code",
   "execution_count": 95,
   "metadata": {
    "collapsed": false,
    "jupyter": {
     "outputs_hidden": false
    }
   },
   "outputs": [
    {
     "name": "stdout",
     "output_type": "stream",
     "text": [
      "Help on Normal in module pymc.distributions object:\n",
      "\n",
      "phi_r = class Normal(pymc.PyMCObjects.Stochastic)\n",
      " |  N = Normal(name, mu, tau, value=None, observed=False, size=1, trace=True, rseed=True, doc=None, verbose=-1, debug=False)\n",
      " |  \n",
      " |  Stochastic variable with Normal distribution.\n",
      " |  Parents are: mu, tau.\n",
      " |  \n",
      " |  Docstring of log-probability function:\n",
      " |  \n",
      " |      Normal log-likelihood.\n",
      " |  \n",
      " |      .. math::\n",
      " |          f(x \\mid \\mu, \\tau) = \\sqrt{\\frac{\\tau}{2\\pi}} \\exp\\left\\{ -\\frac{\\tau}{2} (x-\\mu)^2 \\right\\}\n",
      " |  \n",
      " |      :Parameters:\n",
      " |        - `x` : Input data.\n",
      " |        - `mu` : Mean of the distribution.\n",
      " |        - `tau` : Precision of the distribution, which corresponds to\n",
      " |          :math:`1/\\sigma^2` (tau > 0).\n",
      " |  \n",
      " |      .. note::\n",
      " |         - :math:`E(X) = \\mu`\n",
      " |         - :math:`Var(X) = 1/\\tau`\n",
      " |  \n",
      " |  Method resolution order:\n",
      " |      Normal\n",
      " |      pymc.PyMCObjects.Stochastic\n",
      " |      pymc.Node.StochasticBase\n",
      " |      pymc.six.NewBase\n",
      " |      pymc.Node.Variable\n",
      " |      pymc.Node.Node\n",
      " |      __builtin__.object\n",
      " |  \n",
      " |  Methods defined here:\n",
      " |  \n",
      " |  __init__(self, *args, **kwds)\n",
      " |  \n",
      " |  ----------------------------------------------------------------------\n",
      " |  Data and other attributes defined here:\n",
      " |  \n",
      " |  dtype = <type 'float'>\n",
      " |      float(x) -> floating point number\n",
      " |      \n",
      " |      Convert a string or number to a floating point number, if possible.\n",
      " |  \n",
      " |  mv = False\n",
      " |  \n",
      " |  parent_names = ['mu', 'tau']\n",
      " |  \n",
      " |  parents_default = {'mu': 0.3, 'tau': 0.1}\n",
      " |  \n",
      " |  raw_fns = {'logp': <function wrapper>, 'random': <function rnormal>}\n",
      " |  \n",
      " |  ----------------------------------------------------------------------\n",
      " |  Methods inherited from pymc.PyMCObjects.Stochastic:\n",
      " |  \n",
      " |  gen_lazy_function(self)\n",
      " |      Will be called by Node at instantiation.\n",
      " |  \n",
      " |  get_logp(self)\n",
      " |  \n",
      " |  get_stoch_value(self)\n",
      " |  \n",
      " |  get_value(self)\n",
      " |  \n",
      " |  logp_gradient_contribution(self, calculation_set=None)\n",
      " |      Calculates the gradient of the joint log posterior with respect to self.\n",
      " |      Calculation of the log posterior is restricted to the variables in calculation_set.\n",
      " |  \n",
      " |  logp_partial_gradient(self, variable, calculation_set=None)\n",
      " |      Calculates the partial gradient of the posterior of self with respect to variable.\n",
      " |      Returns zero if self is not in calculation_set.\n",
      " |  \n",
      " |  rand = random(self)\n",
      " |      Draws a new value for a stoch conditional on its parents\n",
      " |      and returns it.\n",
      " |      \n",
      " |      Raises an error if no 'random' argument was passed to __init__.\n",
      " |  \n",
      " |  random(self)\n",
      " |      Draws a new value for a stoch conditional on its parents\n",
      " |      and returns it.\n",
      " |      \n",
      " |      Raises an error if no 'random' argument was passed to __init__.\n",
      " |  \n",
      " |  revert(self)\n",
      " |      Sets self's value to self's last value. Bypasses the data cleaning in\n",
      " |      the set_value method.\n",
      " |  \n",
      " |  set_logp(self, new_logp)\n",
      " |  \n",
      " |  set_value(self, value, force=False)\n",
      " |  \n",
      " |  ----------------------------------------------------------------------\n",
      " |  Data descriptors inherited from pymc.PyMCObjects.Stochastic:\n",
      " |  \n",
      " |  coparents\n",
      " |      All the variables whose extended children intersect with self's.\n",
      " |  \n",
      " |  isdata\n",
      " |  \n",
      " |  logp\n",
      " |      Log-probability or log-density of self's current value\n",
      " |      given values of parents.\n",
      " |  \n",
      " |  markov_blanket\n",
      " |      Self's coparents, self's extended parents, self's children and self.\n",
      " |  \n",
      " |  mask\n",
      " |      Returns the mask for missing values\n",
      " |  \n",
      " |  moral_neighbors\n",
      " |      Self's neighbors in the moral graph: self's Markov blanket with self removed.\n",
      " |  \n",
      " |  observed\n",
      " |  \n",
      " |  shape\n",
      " |      The shape of the value of self.\n",
      " |  \n",
      " |  value\n",
      " |      Self's current value.\n",
      " |  \n",
      " |  ----------------------------------------------------------------------\n",
      " |  Data and other attributes inherited from pymc.PyMCObjects.Stochastic:\n",
      " |  \n",
      " |  __array_priority__ = 1000\n",
      " |  \n",
      " |  ----------------------------------------------------------------------\n",
      " |  Methods inherited from pymc.Node.Variable:\n",
      " |  \n",
      " |  __abs__(self)\n",
      " |  \n",
      " |  __add__(self, other, prefix='')\n",
      " |  \n",
      " |  __and__(self, other, prefix='')\n",
      " |  \n",
      " |  __call__(self, *args, **kwargs)\n",
      " |  \n",
      " |  __complex__(self, op=<type 'complex'>)\n",
      " |      # This function will become the actual method.\n",
      " |  \n",
      " |  __div__(self, other, prefix='')\n",
      " |  \n",
      " |  __divmod__(self, other, prefix='')\n",
      " |  \n",
      " |  __float__(self, op=<type 'float'>)\n",
      " |      # This function will become the actual method.\n",
      " |  \n",
      " |  __floordiv__(self, other, prefix='')\n",
      " |  \n",
      " |  __ge__(self, other)\n",
      " |      # This function will become the method.\n",
      " |  \n",
      " |  __getitem__(self, index)\n",
      " |      # Create __getitem__ method.\n",
      " |  \n",
      " |  __gt__(self, other)\n",
      " |      # This function will become the method.\n",
      " |  \n",
      " |  __hex__(self, op=<built-in function hex>)\n",
      " |      # This function will become the actual method.\n",
      " |  \n",
      " |  __iadd__(self, *args)\n",
      " |  \n",
      " |  __iand__(self, *args)\n",
      " |  \n",
      " |  __idiv__(self, *args)\n",
      " |  \n",
      " |  __ifloordiv__(self, *args)\n",
      " |  \n",
      " |  __ilshift__(self, *args)\n",
      " |  \n",
      " |  __imod__(self, *args)\n",
      " |  \n",
      " |  __imul__(self, *args)\n",
      " |  \n",
      " |  __int__(self, op=<type 'int'>)\n",
      " |      # This function will become the actual method.\n",
      " |  \n",
      " |  __invert__(self)\n",
      " |  \n",
      " |  __ior__(self, *args)\n",
      " |  \n",
      " |  __ipow__(self, *args)\n",
      " |  \n",
      " |  __irshift__(self, *args)\n",
      " |  \n",
      " |  __isub__(self, *args)\n",
      " |  \n",
      " |  __iter__(self, op=<built-in function iter>)\n",
      " |      # This function will become the actual method.\n",
      " |  \n",
      " |  __itruediv__(self, *args)\n",
      " |  \n",
      " |  __ixor__(self, *args)\n",
      " |  \n",
      " |  __le__(self, other)\n",
      " |      # This function will become the method.\n",
      " |  \n",
      " |  __long__(self, op=<type 'long'>)\n",
      " |      # This function will become the actual method.\n",
      " |  \n",
      " |  __lshift__(self, other, prefix='')\n",
      " |  \n",
      " |  __lt__(self, other)\n",
      " |      # This function will become the method.\n",
      " |  \n",
      " |  __mod__(self, other, prefix='')\n",
      " |  \n",
      " |  __mul__(self, other, prefix='')\n",
      " |  \n",
      " |  __ne__(self, other)\n",
      " |      # This function will become the method.\n",
      " |  \n",
      " |  __neg__(self)\n",
      " |  \n",
      " |  __oct__(self, op=<built-in function oct>)\n",
      " |      # This function will become the actual method.\n",
      " |  \n",
      " |  __or__(self, other, prefix='')\n",
      " |  \n",
      " |  __pow__(self, other, prefix='')\n",
      " |  \n",
      " |  __radd__(self, other, prefix='r')\n",
      " |  \n",
      " |  __rand__(self, other, prefix='r')\n",
      " |  \n",
      " |  __rdiv__(self, other, prefix='r')\n",
      " |  \n",
      " |  __rdivmod__(self, other, prefix='r')\n",
      " |  \n",
      " |  __rfloordiv__(self, other, prefix='r')\n",
      " |  \n",
      " |  __rlshift__(self, other, prefix='r')\n",
      " |  \n",
      " |  __rmod__(self, other, prefix='r')\n",
      " |  \n",
      " |  __rmul__(self, other, prefix='r')\n",
      " |  \n",
      " |  __ror__(self, other, prefix='r')\n",
      " |  \n",
      " |  __rpow__(self, other, prefix='r')\n",
      " |  \n",
      " |  __rrshift__(self, other, prefix='r')\n",
      " |  \n",
      " |  __rshift__(self, other, prefix='')\n",
      " |  \n",
      " |  __rsub__(self, other, prefix='r')\n",
      " |  \n",
      " |  __rtruediv__(self, other, prefix='r')\n",
      " |  \n",
      " |  __rxor__(self, other, prefix='r')\n",
      " |  \n",
      " |  __str__(self)\n",
      " |  \n",
      " |  __sub__(self, other, prefix='')\n",
      " |  \n",
      " |  __truediv__(self, other, prefix='')\n",
      " |  \n",
      " |  __xor__(self, other, prefix='')\n",
      " |  \n",
      " |  stats(self, alpha=0.05, start=0, batches=100, chain=None, quantiles=(2.5, 25, 50, 75, 97.5))\n",
      " |      Generate posterior statistics for node.\n",
      " |      \n",
      " |      :Parameters:\n",
      " |      alpha : float\n",
      " |        The alpha level for generating posterior intervals. Defaults to\n",
      " |        0.05.\n",
      " |      \n",
      " |      start : int\n",
      " |        The starting index from which to summarize (each) chain. Defaults\n",
      " |        to zero.\n",
      " |      \n",
      " |      batches : int\n",
      " |        Batch size for calculating standard deviation for non-independent\n",
      " |        samples. Defaults to 100.\n",
      " |      \n",
      " |      chain : int\n",
      " |        The index for which chain to summarize. Defaults to None (all\n",
      " |        chains).\n",
      " |      \n",
      " |      quantiles : tuple or list\n",
      " |        The desired quantiles to be calculated. Defaults to (2.5, 25, 50, 75, 97.5).\n",
      " |  \n",
      " |  summary(self, alpha=0.05, start=0, batches=100, chain=None, roundto=3)\n",
      " |      Generate a pretty-printed summary of the node.\n",
      " |      \n",
      " |      :Parameters:\n",
      " |      alpha : float\n",
      " |        The alpha level for generating posterior intervals. Defaults to\n",
      " |        0.05.\n",
      " |      \n",
      " |      start : int\n",
      " |        The starting index from which to summarize (each) chain. Defaults\n",
      " |        to zero.\n",
      " |      \n",
      " |      batches : int\n",
      " |        Batch size for calculating standard deviation for non-independent\n",
      " |        samples. Defaults to 100.\n",
      " |      \n",
      " |      chain : int\n",
      " |        The index for which chain to summarize. Defaults to None (all\n",
      " |        chains).\n",
      " |      \n",
      " |      roundto : int\n",
      " |        The number of digits to round posterior statistics.\n",
      " |  \n",
      " |  ----------------------------------------------------------------------\n",
      " |  Data descriptors inherited from pymc.Node.Variable:\n",
      " |  \n",
      " |  plot\n",
      " |      A flag indicating whether self should be plotted.\n",
      " |  \n",
      " |  ----------------------------------------------------------------------\n",
      " |  Methods inherited from pymc.Node.Node:\n",
      " |  \n",
      " |  __repr__(self)\n",
      " |  \n",
      " |  ----------------------------------------------------------------------\n",
      " |  Data descriptors inherited from pymc.Node.Node:\n",
      " |  \n",
      " |  __dict__\n",
      " |      dictionary for instance variables (if defined)\n",
      " |  \n",
      " |  __weakref__\n",
      " |      list of weak references to the object (if defined)\n",
      " |  \n",
      " |  parents\n",
      " |      Self's parents: the variables referred to in self's declaration.\n",
      "\n"
     ]
    }
   ],
   "source": [
    "help(phi_r)"
   ]
  },
  {
   "cell_type": "code",
   "execution_count": null,
   "metadata": {
    "collapsed": true,
    "jupyter": {
     "outputs_hidden": true
    }
   },
   "outputs": [],
   "source": []
  }
 ],
 "metadata": {
  "kernelspec": {
   "display_name": "Python 3 (ipykernel)",
   "language": "python",
   "name": "python3"
  },
  "language_info": {
   "codemirror_mode": {
    "name": "ipython",
    "version": 3
   },
   "file_extension": ".py",
   "mimetype": "text/x-python",
   "name": "python",
   "nbconvert_exporter": "python",
   "pygments_lexer": "ipython3",
   "version": "3.8.13"
  }
 },
 "nbformat": 4,
 "nbformat_minor": 4
}
