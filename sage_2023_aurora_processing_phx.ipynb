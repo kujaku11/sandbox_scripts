{
 "cells": [
  {
   "cell_type": "markdown",
   "id": "19bfcdef-6903-425c-905e-9a31065d1ec6",
   "metadata": {
    "tags": []
   },
   "source": [
    "# Processing SAGE Phoenix data with Aurora\n",
    "\n",
    "This is an example of how to process data collected with a Phoenix MTU-5c data with Aurora.  For now this assumes that an MTH5 has already been created. "
   ]
  },
  {
   "cell_type": "markdown",
   "id": "4ab8069d-aaf4-47ee-bdd5-87991b8796c6",
   "metadata": {},
   "source": [
    "## Process With Aurora"
   ]
  },
  {
   "cell_type": "code",
   "execution_count": 1,
   "id": "e868dbbb-4c1d-41d8-9945-708ad9e207a1",
   "metadata": {},
   "outputs": [],
   "source": [
    "# Required imports for the program.\n",
    "%matplotlib widget\n",
    "\n",
    "from pathlib import Path\n",
    "import warnings\n",
    "\n",
    "from aurora.config.config_creator import ConfigCreator\n",
    "from aurora.pipelines.process_mth5 import process_mth5\n",
    "from aurora.pipelines.run_summary import RunSummary\n",
    "from aurora.transfer_function.kernel_dataset import KernelDataset\n",
    "\n",
    "from mth5.helpers import close_open_files\n",
    "from mtpy import MT\n",
    "\n",
    "warnings.filterwarnings(\"ignore\")"
   ]
  },
  {
   "cell_type": "markdown",
   "id": "24d899b6-f024-4b2a-9746-37df313b9dd5",
   "metadata": {},
   "source": [
    "## Set paths\n",
    "\n",
    "Set path the the `local` and `remote` reference stations, both paths and IDs."
   ]
  },
  {
   "cell_type": "code",
   "execution_count": 2,
   "id": "30b368ee-3325-4939-bde6-acbdc6bea83d",
   "metadata": {},
   "outputs": [],
   "source": [
    "local_station = \"102\"\n",
    "local_mth5_path = Path(r\"c:\\Users\\jpeacock\\OneDrive - DOI\\MTData\\SAGE2023\\102_060923\\mth5_from_phoenix.h5\")\n",
    "\n",
    "remote_station = None\n",
    "remote_mth5_path = None\n"
   ]
  },
  {
   "cell_type": "markdown",
   "id": "52613d22-1d73-4d92-affd-99e49c44cc50",
   "metadata": {},
   "source": [
    "## Create Run Summary\n",
    "\n",
    "Create a run summary for a single sample rate for local and remote stations.\n"
   ]
  },
  {
   "cell_type": "code",
   "execution_count": 3,
   "id": "263d12f8-f98a-40cf-9d64-25fe9857dcaf",
   "metadata": {},
   "outputs": [
    {
     "name": "stdout",
     "output_type": "stream",
     "text": [
      "2023-06-30T11:54:00 [line 758] mth5.mth5.MTH5.close_mth5 - INFO: Flushing and closing c:\\Users\\jpeacock\\OneDrive - DOI\\MTData\\SAGE2023\\102_060923\\mth5_from_phoenix.h5\n"
     ]
    },
    {
     "data": {
      "text/html": [
       "<div>\n",
       "<style scoped>\n",
       "    .dataframe tbody tr th:only-of-type {\n",
       "        vertical-align: middle;\n",
       "    }\n",
       "\n",
       "    .dataframe tbody tr th {\n",
       "        vertical-align: top;\n",
       "    }\n",
       "\n",
       "    .dataframe thead th {\n",
       "        text-align: right;\n",
       "    }\n",
       "</style>\n",
       "<table border=\"1\" class=\"dataframe\">\n",
       "  <thead>\n",
       "    <tr style=\"text-align: right;\">\n",
       "      <th></th>\n",
       "      <th>survey</th>\n",
       "      <th>station_id</th>\n",
       "      <th>run_id</th>\n",
       "      <th>start</th>\n",
       "      <th>end</th>\n",
       "    </tr>\n",
       "  </thead>\n",
       "  <tbody>\n",
       "    <tr>\n",
       "      <th>0</th>\n",
       "      <td>VAL</td>\n",
       "      <td>102</td>\n",
       "      <td>sr150_0001</td>\n",
       "      <td>2023-06-07 10:45:32+00:00</td>\n",
       "      <td>2023-06-09 09:45:39.993333333+00:00</td>\n",
       "    </tr>\n",
       "  </tbody>\n",
       "</table>\n",
       "</div>"
      ],
      "text/plain": [
       "  survey station_id      run_id                     start  \\\n",
       "0    VAL        102  sr150_0001 2023-06-07 10:45:32+00:00   \n",
       "\n",
       "                                  end  \n",
       "0 2023-06-09 09:45:39.993333333+00:00  "
      ]
     },
     "execution_count": 3,
     "metadata": {},
     "output_type": "execute_result"
    }
   ],
   "source": [
    "close_open_files()\n",
    "\n",
    "sample_rate = 150\n",
    "mth5_run_summary = RunSummary()\n",
    "if remote_mth5_path is not None:\n",
    "    mth5_run_summary.from_mth5s([local_mth5_path, remote_mth5_path])\n",
    "else:\n",
    "    mth5_run_summary.from_mth5s([local_mth5_path])\n",
    "run_summary = mth5_run_summary.clone()\n",
    "run_summary.add_duration()\n",
    "run_summary.df = run_summary.df[run_summary.df.sample_rate == sample_rate].iloc[:]\n",
    "run_summary.mini_summary"
   ]
  },
  {
   "cell_type": "markdown",
   "id": "15e4c062-666f-49a4-b7bb-4ffcc1ede56f",
   "metadata": {},
   "source": [
    "## Create Kernel Dataset\n",
    "\n",
    "This sets the runs for Aurora to process.  "
   ]
  },
  {
   "cell_type": "code",
   "execution_count": 4,
   "id": "df8fd266-d216-4768-9421-fad10ad0dfda",
   "metadata": {},
   "outputs": [
    {
     "data": {
      "text/html": [
       "<div>\n",
       "<style scoped>\n",
       "    .dataframe tbody tr th:only-of-type {\n",
       "        vertical-align: middle;\n",
       "    }\n",
       "\n",
       "    .dataframe tbody tr th {\n",
       "        vertical-align: top;\n",
       "    }\n",
       "\n",
       "    .dataframe thead th {\n",
       "        text-align: right;\n",
       "    }\n",
       "</style>\n",
       "<table border=\"1\" class=\"dataframe\">\n",
       "  <thead>\n",
       "    <tr style=\"text-align: right;\">\n",
       "      <th></th>\n",
       "      <th>survey</th>\n",
       "      <th>station_id</th>\n",
       "      <th>run_id</th>\n",
       "      <th>start</th>\n",
       "      <th>end</th>\n",
       "      <th>duration</th>\n",
       "    </tr>\n",
       "  </thead>\n",
       "  <tbody>\n",
       "    <tr>\n",
       "      <th>0</th>\n",
       "      <td>VAL</td>\n",
       "      <td>102</td>\n",
       "      <td>sr150_0001</td>\n",
       "      <td>2023-06-07 10:45:32+00:00</td>\n",
       "      <td>2023-06-09 09:45:39.993333333+00:00</td>\n",
       "      <td>169207.993333</td>\n",
       "    </tr>\n",
       "  </tbody>\n",
       "</table>\n",
       "</div>"
      ],
      "text/plain": [
       "  survey station_id      run_id                     start  \\\n",
       "0    VAL        102  sr150_0001 2023-06-07 10:45:32+00:00   \n",
       "\n",
       "                                  end       duration  \n",
       "0 2023-06-09 09:45:39.993333333+00:00  169207.993333  "
      ]
     },
     "execution_count": 4,
     "metadata": {},
     "output_type": "execute_result"
    }
   ],
   "source": [
    "kernel_dataset = KernelDataset()\n",
    "if remote_station is not None:\n",
    "    kernel_dataset.from_run_summary(run_summary, zen_station, rr_zen_station)\n",
    "else:\n",
    "    kernel_dataset.from_run_summary(run_summary, local_station)\n",
    "mimimum_run_duration = 1  # seconds\n",
    "kernel_dataset.drop_runs_shorter_than(mimimum_run_duration)\n",
    "kernel_dataset.mini_summary"
   ]
  },
  {
   "cell_type": "markdown",
   "id": "15f9796c-f5b2-4b4c-931b-fca9f4806d2b",
   "metadata": {},
   "source": [
    "## Create Aurora Configuration\n",
    "\n",
    "Create the Aurora configuration file.  These are the parameters to tell Aurora how to run."
   ]
  },
  {
   "cell_type": "code",
   "execution_count": 5,
   "id": "897aef38-234b-4e50-8a5c-0fc6e84517a2",
   "metadata": {},
   "outputs": [
    {
     "name": "stdout",
     "output_type": "stream",
     "text": [
      "c:\\Users\\jpeacock\\OneDrive - DOI\\Documents\\GitHub\\aurora\\aurora\\config\\emtf_band_setup\\bs_six_level.cfg\n"
     ]
    }
   ],
   "source": [
    "cc = ConfigCreator()\n",
    "config = cc.create_from_kernel_dataset(\n",
    "    kernel_dataset,\n",
    "    emtf_band_file=r\"c:\\Users\\jpeacock\\OneDrive - DOI\\Documents\\GitHub\\aurora\\aurora\\config\\emtf_band_setup\\bs_six_level.cfg\",\n",
    ")\n",
    "\n",
    "# need to update the channel nomenclature to what phoenix uses\n",
    "config.channel_nomenclature.ex = \"e1\"\n",
    "config.channel_nomenclature.ey = \"e2\"\n",
    "config.channel_nomenclature.hx = \"h1\"\n",
    "config.channel_nomenclature.hy = \"h2\"\n",
    "config.channel_nomenclature.hz = \"h3\"\n",
    "\n",
    "for decimation in config.decimations:\n",
    "    if remote_station is not None:\n",
    "        decimation.estimator.engine = \"RME_RR\"\n",
    "    else:\n",
    "        decimation.estimator.engine = \"RME\"\n",
    "    decimation.window.type = \"dpss\"\n",
    "    decimation.window.additional_args = {\"alpha\":2.5}\n",
    "    decimation.output_channels = [\"e1\", \"e2\", \"h3\"]\n",
    "    decimation.input_channels = [\"h1\", \"h2\"]\n",
    "    decimation.window.overlap = 64\n",
    "    decimation.window.num_samples = 128"
   ]
  },
  {
   "cell_type": "markdown",
   "id": "1c3735af-18ca-4762-afa0-f99d50a69575",
   "metadata": {},
   "source": [
    "## Process\n",
    "\n",
    "Now that everything is set up, estimate a transfer functions and create an EDI and figure."
   ]
  },
  {
   "cell_type": "code",
   "execution_count": 6,
   "id": "b7e0210e-089f-47ef-ba5b-d8975674b231",
   "metadata": {},
   "outputs": [
    {
     "name": "stderr",
     "output_type": "stream",
     "text": [
      "2023-06-30 11:54:25.961 | INFO     | aurora.pipelines.transfer_function_kernel:memory_warning:227 - Total memory: 15.88 GB\n",
      "2023-06-30 11:54:25.963 | INFO     | aurora.pipelines.transfer_function_kernel:memory_warning:231 - Total Bytes of Raw Data: 0.189 GB\n",
      "2023-06-30 11:54:25.965 | INFO     | aurora.pipelines.transfer_function_kernel:memory_warning:234 - Raw Data will use: 1.191 % of memory\n",
      "2023-06-30 11:54:40.061 | INFO     | aurora.transfer_function.kernel_dataset:initialize_dataframe_for_processing:338 - DATASET POPULATED\n",
      "2023-06-30 11:54:40.109 | INFO     | aurora.pipelines.process_mth5:process_mth5:314 - Processing config indicates 6 decimation levels \n",
      "2023-06-30 11:54:40.113 | DEBUG    | aurora.pipelines.transfer_function_kernel:valid_decimations:173 - After validation there are 6 valid decimation levels\n",
      "2023-06-30 11:54:40.114 | DEBUG    | aurora.pipelines.process_mth5:update_dataset_df:252 - DATASET DF UPDATED\n",
      "2023-06-30 11:55:38.325 | WARNING  | aurora.pipelines.time_series_helpers:calibrate_stft_obj:275 - UNEXPECTED CHANNEL WITH NO FILTERS\n",
      "2023-06-30 11:55:38.588 | WARNING  | aurora.pipelines.time_series_helpers:calibrate_stft_obj:275 - UNEXPECTED CHANNEL WITH NO FILTERS\n",
      "2023-06-30 11:55:38.850 | WARNING  | aurora.pipelines.time_series_helpers:calibrate_stft_obj:275 - UNEXPECTED CHANNEL WITH NO FILTERS\n",
      "2023-06-30 11:55:39.111 | WARNING  | aurora.pipelines.time_series_helpers:calibrate_stft_obj:275 - UNEXPECTED CHANNEL WITH NO FILTERS\n",
      "2023-06-30 11:55:39.381 | WARNING  | aurora.pipelines.time_series_helpers:calibrate_stft_obj:275 - UNEXPECTED CHANNEL WITH NO FILTERS\n"
     ]
    },
    {
     "name": "stdout",
     "output_type": "stream",
     "text": [
      "2023-06-30T11:55:40 [line 133] aurora.transfer_function_helpers.get_band_for_tf_estimate - INFO: Processing band 0.114803s\n",
      "2023-06-30T11:56:50 [line 133] aurora.transfer_function_helpers.get_band_for_tf_estimate - INFO: Processing band 0.090326s\n",
      "2023-06-30T11:57:57 [line 133] aurora.transfer_function_helpers.get_band_for_tf_estimate - INFO: Processing band 0.071673s\n",
      "2023-06-30T11:59:13 [line 133] aurora.transfer_function_helpers.get_band_for_tf_estimate - INFO: Processing band 0.055518s\n",
      "2023-06-30T12:01:20 [line 133] aurora.transfer_function_helpers.get_band_for_tf_estimate - INFO: Processing band 0.042079s\n",
      "2023-06-30T12:04:23 [line 133] aurora.transfer_function_helpers.get_band_for_tf_estimate - INFO: Processing band 0.029786s\n"
     ]
    },
    {
     "name": "stderr",
     "output_type": "stream",
     "text": [
      "2023-06-30 12:08:34.775 | INFO     | aurora.pipelines.process_mth5:update_dataset_df:239 - DECIMATION LEVEL 1\n",
      "2023-06-30 12:08:39.423 | DEBUG    | aurora.pipelines.process_mth5:update_dataset_df:252 - DATASET DF UPDATED\n",
      "2023-06-30 12:08:50.725 | WARNING  | aurora.pipelines.time_series_helpers:calibrate_stft_obj:275 - UNEXPECTED CHANNEL WITH NO FILTERS\n",
      "2023-06-30 12:08:50.783 | WARNING  | aurora.pipelines.time_series_helpers:calibrate_stft_obj:275 - UNEXPECTED CHANNEL WITH NO FILTERS\n",
      "2023-06-30 12:08:50.845 | WARNING  | aurora.pipelines.time_series_helpers:calibrate_stft_obj:275 - UNEXPECTED CHANNEL WITH NO FILTERS\n",
      "2023-06-30 12:08:50.900 | WARNING  | aurora.pipelines.time_series_helpers:calibrate_stft_obj:275 - UNEXPECTED CHANNEL WITH NO FILTERS\n",
      "2023-06-30 12:08:50.953 | WARNING  | aurora.pipelines.time_series_helpers:calibrate_stft_obj:275 - UNEXPECTED CHANNEL WITH NO FILTERS\n"
     ]
    },
    {
     "name": "stdout",
     "output_type": "stream",
     "text": [
      "2023-06-30T12:08:51 [line 133] aurora.transfer_function_helpers.get_band_for_tf_estimate - INFO: Processing band 0.631126s\n",
      "2023-06-30T12:09:10 [line 133] aurora.transfer_function_helpers.get_band_for_tf_estimate - INFO: Processing band 0.459211s\n",
      "2023-06-30T12:09:27 [line 133] aurora.transfer_function_helpers.get_band_for_tf_estimate - INFO: Processing band 0.286693s\n",
      "2023-06-30T12:10:00 [line 133] aurora.transfer_function_helpers.get_band_for_tf_estimate - INFO: Processing band 0.222071s\n",
      "2023-06-30T12:10:35 [line 133] aurora.transfer_function_helpers.get_band_for_tf_estimate - INFO: Processing band 0.168316s\n"
     ]
    },
    {
     "name": "stderr",
     "output_type": "stream",
     "text": [
      "2023-06-30 12:11:14.532 | INFO     | aurora.pipelines.process_mth5:update_dataset_df:239 - DECIMATION LEVEL 2\n",
      "2023-06-30 12:11:15.452 | DEBUG    | aurora.pipelines.process_mth5:update_dataset_df:252 - DATASET DF UPDATED\n",
      "2023-06-30 12:11:18.563 | WARNING  | aurora.pipelines.time_series_helpers:calibrate_stft_obj:275 - UNEXPECTED CHANNEL WITH NO FILTERS\n",
      "2023-06-30 12:11:18.610 | WARNING  | aurora.pipelines.time_series_helpers:calibrate_stft_obj:275 - UNEXPECTED CHANNEL WITH NO FILTERS\n",
      "2023-06-30 12:11:18.642 | WARNING  | aurora.pipelines.time_series_helpers:calibrate_stft_obj:275 - UNEXPECTED CHANNEL WITH NO FILTERS\n",
      "2023-06-30 12:11:18.679 | WARNING  | aurora.pipelines.time_series_helpers:calibrate_stft_obj:275 - UNEXPECTED CHANNEL WITH NO FILTERS\n",
      "2023-06-30 12:11:18.710 | WARNING  | aurora.pipelines.time_series_helpers:calibrate_stft_obj:275 - UNEXPECTED CHANNEL WITH NO FILTERS\n"
     ]
    },
    {
     "name": "stdout",
     "output_type": "stream",
     "text": [
      "2023-06-30T12:11:18 [line 133] aurora.transfer_function_helpers.get_band_for_tf_estimate - INFO: Processing band 2.524502s\n",
      "2023-06-30T12:11:23 [line 133] aurora.transfer_function_helpers.get_band_for_tf_estimate - INFO: Processing band 1.836845s\n",
      "2023-06-30T12:11:29 [line 133] aurora.transfer_function_helpers.get_band_for_tf_estimate - INFO: Processing band 1.445222s\n",
      "2023-06-30T12:11:34 [line 133] aurora.transfer_function_helpers.get_band_for_tf_estimate - INFO: Processing band 1.146772s\n",
      "2023-06-30T12:11:40 [line 133] aurora.transfer_function_helpers.get_band_for_tf_estimate - INFO: Processing band 0.888286s\n"
     ]
    },
    {
     "name": "stderr",
     "output_type": "stream",
     "text": [
      "2023-06-30 12:11:50.910 | INFO     | aurora.pipelines.process_mth5:update_dataset_df:239 - DECIMATION LEVEL 3\n",
      "2023-06-30 12:11:51.206 | DEBUG    | aurora.pipelines.process_mth5:update_dataset_df:252 - DATASET DF UPDATED\n",
      "2023-06-30 12:11:52.221 | WARNING  | aurora.pipelines.time_series_helpers:calibrate_stft_obj:275 - UNEXPECTED CHANNEL WITH NO FILTERS\n",
      "2023-06-30 12:11:52.256 | WARNING  | aurora.pipelines.time_series_helpers:calibrate_stft_obj:275 - UNEXPECTED CHANNEL WITH NO FILTERS\n",
      "2023-06-30 12:11:52.280 | WARNING  | aurora.pipelines.time_series_helpers:calibrate_stft_obj:275 - UNEXPECTED CHANNEL WITH NO FILTERS\n",
      "2023-06-30 12:11:52.312 | WARNING  | aurora.pipelines.time_series_helpers:calibrate_stft_obj:275 - UNEXPECTED CHANNEL WITH NO FILTERS\n",
      "2023-06-30 12:11:52.344 | WARNING  | aurora.pipelines.time_series_helpers:calibrate_stft_obj:275 - UNEXPECTED CHANNEL WITH NO FILTERS\n"
     ]
    },
    {
     "name": "stdout",
     "output_type": "stream",
     "text": [
      "2023-06-30T12:11:52 [line 133] aurora.transfer_function_helpers.get_band_for_tf_estimate - INFO: Processing band 10.098009s\n",
      "2023-06-30T12:11:53 [line 133] aurora.transfer_function_helpers.get_band_for_tf_estimate - INFO: Processing band 6.949926s\n",
      "2023-06-30T12:11:55 [line 133] aurora.transfer_function_helpers.get_band_for_tf_estimate - INFO: Processing band 4.822475s\n",
      "2023-06-30T12:11:58 [line 133] aurora.transfer_function_helpers.get_band_for_tf_estimate - INFO: Processing band 3.553144s\n"
     ]
    },
    {
     "name": "stderr",
     "output_type": "stream",
     "text": [
      "2023-06-30 12:12:00.927 | INFO     | aurora.pipelines.process_mth5:update_dataset_df:239 - DECIMATION LEVEL 4\n",
      "2023-06-30 12:12:01.021 | DEBUG    | aurora.pipelines.process_mth5:update_dataset_df:252 - DATASET DF UPDATED\n",
      "2023-06-30 12:12:01.501 | WARNING  | aurora.pipelines.time_series_helpers:calibrate_stft_obj:275 - UNEXPECTED CHANNEL WITH NO FILTERS\n",
      "2023-06-30 12:12:01.533 | WARNING  | aurora.pipelines.time_series_helpers:calibrate_stft_obj:275 - UNEXPECTED CHANNEL WITH NO FILTERS\n",
      "2023-06-30 12:12:01.560 | WARNING  | aurora.pipelines.time_series_helpers:calibrate_stft_obj:275 - UNEXPECTED CHANNEL WITH NO FILTERS\n",
      "2023-06-30 12:12:01.593 | WARNING  | aurora.pipelines.time_series_helpers:calibrate_stft_obj:275 - UNEXPECTED CHANNEL WITH NO FILTERS\n",
      "2023-06-30 12:12:01.619 | WARNING  | aurora.pipelines.time_series_helpers:calibrate_stft_obj:275 - UNEXPECTED CHANNEL WITH NO FILTERS\n"
     ]
    },
    {
     "name": "stdout",
     "output_type": "stream",
     "text": [
      "2023-06-30T12:12:01 [line 133] aurora.transfer_function_helpers.get_band_for_tf_estimate - INFO: Processing band 40.392036s\n",
      "2023-06-30T12:12:02 [line 133] aurora.transfer_function_helpers.get_band_for_tf_estimate - INFO: Processing band 27.799705s\n",
      "2023-06-30T12:12:03 [line 133] aurora.transfer_function_helpers.get_band_for_tf_estimate - INFO: Processing band 19.289901s\n",
      "2023-06-30T12:12:04 [line 133] aurora.transfer_function_helpers.get_band_for_tf_estimate - INFO: Processing band 14.212575s\n"
     ]
    },
    {
     "name": "stderr",
     "output_type": "stream",
     "text": [
      "2023-06-30 12:12:05.876 | INFO     | aurora.pipelines.process_mth5:update_dataset_df:239 - DECIMATION LEVEL 5\n",
      "2023-06-30 12:12:05.922 | DEBUG    | aurora.pipelines.process_mth5:update_dataset_df:252 - DATASET DF UPDATED\n",
      "2023-06-30 12:12:06.307 | WARNING  | aurora.pipelines.time_series_helpers:calibrate_stft_obj:275 - UNEXPECTED CHANNEL WITH NO FILTERS\n",
      "2023-06-30 12:12:06.331 | WARNING  | aurora.pipelines.time_series_helpers:calibrate_stft_obj:275 - UNEXPECTED CHANNEL WITH NO FILTERS\n",
      "2023-06-30 12:12:06.358 | WARNING  | aurora.pipelines.time_series_helpers:calibrate_stft_obj:275 - UNEXPECTED CHANNEL WITH NO FILTERS\n",
      "2023-06-30 12:12:06.385 | WARNING  | aurora.pipelines.time_series_helpers:calibrate_stft_obj:275 - UNEXPECTED CHANNEL WITH NO FILTERS\n",
      "2023-06-30 12:12:06.410 | WARNING  | aurora.pipelines.time_series_helpers:calibrate_stft_obj:275 - UNEXPECTED CHANNEL WITH NO FILTERS\n"
     ]
    },
    {
     "name": "stdout",
     "output_type": "stream",
     "text": [
      "2023-06-30T12:12:06 [line 133] aurora.transfer_function_helpers.get_band_for_tf_estimate - INFO: Processing band 161.568142s\n",
      "2023-06-30T12:12:06 [line 133] aurora.transfer_function_helpers.get_band_for_tf_estimate - INFO: Processing band 111.198822s\n",
      "2023-06-30T12:12:06 [line 133] aurora.transfer_function_helpers.get_band_for_tf_estimate - INFO: Processing band 77.159602s\n",
      "2023-06-30T12:12:06 [line 133] aurora.transfer_function_helpers.get_band_for_tf_estimate - INFO: Processing band 56.850300s\n"
     ]
    },
    {
     "ename": "AttributeError",
     "evalue": "'RunGroup' object has no attribute 'station_group'",
     "output_type": "error",
     "traceback": [
      "\u001b[1;31m---------------------------------------------------------------------------\u001b[0m",
      "\u001b[1;31mAttributeError\u001b[0m                            Traceback (most recent call last)",
      "\u001b[1;32m<timed exec>\u001b[0m in \u001b[0;36m<module>\u001b[1;34m\u001b[0m\n",
      "\u001b[1;32m~\\OneDrive - DOI\\Documents\\GitHub\\aurora\\aurora\\pipelines\\process_mth5.py\u001b[0m in \u001b[0;36mprocess_mth5\u001b[1;34m(config, tfk_dataset, units, show_plot, z_file_path, return_collection)\u001b[0m\n\u001b[0;32m    395\u001b[0m     \u001b[1;32melse\u001b[0m\u001b[1;33m:\u001b[0m\u001b[1;33m\u001b[0m\u001b[1;33m\u001b[0m\u001b[0m\n\u001b[0;32m    396\u001b[0m         \u001b[0mlocal_station_id\u001b[0m \u001b[1;33m=\u001b[0m \u001b[0mtfk\u001b[0m\u001b[1;33m.\u001b[0m\u001b[0mconfig\u001b[0m\u001b[1;33m.\u001b[0m\u001b[0mstations\u001b[0m\u001b[1;33m.\u001b[0m\u001b[0mlocal\u001b[0m\u001b[1;33m.\u001b[0m\u001b[0mid\u001b[0m\u001b[1;33m\u001b[0m\u001b[1;33m\u001b[0m\u001b[0m\n\u001b[1;32m--> 397\u001b[1;33m         \u001b[0mstation_metadata\u001b[0m \u001b[1;33m=\u001b[0m \u001b[0mtfk_dataset\u001b[0m\u001b[1;33m.\u001b[0m\u001b[0mget_station_metadata\u001b[0m\u001b[1;33m(\u001b[0m\u001b[0mlocal_station_id\u001b[0m\u001b[1;33m)\u001b[0m\u001b[1;33m\u001b[0m\u001b[1;33m\u001b[0m\u001b[0m\n\u001b[0m\u001b[0;32m    398\u001b[0m         \u001b[0mlocal_mth5_obj\u001b[0m \u001b[1;33m=\u001b[0m \u001b[0mmth5_objs\u001b[0m\u001b[1;33m[\u001b[0m\u001b[0mlocal_station_id\u001b[0m\u001b[1;33m]\u001b[0m\u001b[1;33m\u001b[0m\u001b[1;33m\u001b[0m\u001b[0m\n\u001b[0;32m    399\u001b[0m \u001b[1;33m\u001b[0m\u001b[0m\n",
      "\u001b[1;32m~\\OneDrive - DOI\\Documents\\GitHub\\aurora\\aurora\\transfer_function\\kernel_dataset.py\u001b[0m in \u001b[0;36mget_station_metadata\u001b[1;34m(self, local_station_id)\u001b[0m\n\u001b[0;32m    295\u001b[0m             \u001b[0mlocal_run_obj\u001b[0m \u001b[1;33m=\u001b[0m \u001b[0mself\u001b[0m\u001b[1;33m.\u001b[0m\u001b[0mget_run_object\u001b[0m\u001b[1;33m(\u001b[0m\u001b[0mrow\u001b[0m\u001b[1;33m)\u001b[0m\u001b[1;33m\u001b[0m\u001b[1;33m\u001b[0m\u001b[0m\n\u001b[0;32m    296\u001b[0m             \u001b[1;32mif\u001b[0m \u001b[0mstation_metadata\u001b[0m \u001b[1;32mis\u001b[0m \u001b[1;32mNone\u001b[0m\u001b[1;33m:\u001b[0m\u001b[1;33m\u001b[0m\u001b[1;33m\u001b[0m\u001b[0m\n\u001b[1;32m--> 297\u001b[1;33m                 \u001b[0mstation_metadata\u001b[0m \u001b[1;33m=\u001b[0m \u001b[0mlocal_run_obj\u001b[0m\u001b[1;33m.\u001b[0m\u001b[0mstation_group\u001b[0m\u001b[1;33m.\u001b[0m\u001b[0mmetadata\u001b[0m\u001b[1;33m\u001b[0m\u001b[1;33m\u001b[0m\u001b[0m\n\u001b[0m\u001b[0;32m    298\u001b[0m                 \u001b[0mstation_metadata\u001b[0m\u001b[1;33m.\u001b[0m\u001b[0mruns\u001b[0m \u001b[1;33m=\u001b[0m \u001b[0mListDict\u001b[0m\u001b[1;33m(\u001b[0m\u001b[1;33m)\u001b[0m\u001b[1;33m\u001b[0m\u001b[1;33m\u001b[0m\u001b[0m\n\u001b[0;32m    299\u001b[0m             \u001b[0mrun_metadata\u001b[0m \u001b[1;33m=\u001b[0m \u001b[0mlocal_run_obj\u001b[0m\u001b[1;33m.\u001b[0m\u001b[0mmetadata\u001b[0m\u001b[1;33m\u001b[0m\u001b[1;33m\u001b[0m\u001b[0m\n",
      "\u001b[1;31mAttributeError\u001b[0m: 'RunGroup' object has no attribute 'station_group'"
     ]
    }
   ],
   "source": [
    "%%time\n",
    "tf_cls = process_mth5(\n",
    "    config,\n",
    "    kernel_dataset,\n",
    "    units=\"MT\",\n",
    "    show_plot=False,\n",
    "    z_file_path=None,\n",
    ")\n",
    "print(\"=== FINISHED ===\")\n",
    "\n",
    "edi = tf_cls.write(local_mth5_path.parent.joinpath(f\"{local_station}_{sample_rate}.edi\"))\n",
    "\n",
    "# plot with MTpy\n",
    "mt_obj = MT()\n",
    "mt_obj.read(edi.fn)\n",
    "p1 = mt_obj.plot_mt_response(fig_num=1, plot_num=2)\n",
    "p1.save_plot(local_mth5_path.parent.joinpath(f\"{edi.fn.stem}.png\"), fig_dpi=300, close_plot=False)"
   ]
  },
  {
   "cell_type": "code",
   "execution_count": null,
   "id": "2845a482-8c2a-4cc4-b78a-d14a538e7000",
   "metadata": {},
   "outputs": [],
   "source": []
  }
 ],
 "metadata": {
  "kernelspec": {
   "display_name": "Python 3 (ipykernel)",
   "language": "python",
   "name": "python3"
  },
  "language_info": {
   "codemirror_mode": {
    "name": "ipython",
    "version": 3
   },
   "file_extension": ".py",
   "mimetype": "text/x-python",
   "name": "python",
   "nbconvert_exporter": "python",
   "pygments_lexer": "ipython3",
   "version": "3.8.13"
  }
 },
 "nbformat": 4,
 "nbformat_minor": 5
}
