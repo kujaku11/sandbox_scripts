{
 "cells": [
  {
   "cell_type": "markdown",
   "id": "72870aea",
   "metadata": {},
   "source": [
    "# Plot RMS changes \n",
    "\n",
    "This notebook will be plotting the differences in RMS due to a synthetic magma body at depth"
   ]
  },
  {
   "cell_type": "code",
   "execution_count": 1,
   "id": "31f36316",
   "metadata": {},
   "outputs": [],
   "source": [
    "from pathlib import Path\n",
    "from mtpy import MTData, MTCollection\n",
    "from mtpy.modeling.plots.plot_modem_rms import PlotRMS\n",
    "from mtpy.modeling.modem.data import Data\n",
    "import numpy as np"
   ]
  },
  {
   "cell_type": "code",
   "execution_count": 2,
   "id": "8feb93fc",
   "metadata": {},
   "outputs": [],
   "source": [
    "h5_path = Path(r\"c:\\Users\\jpeacock\\OneDrive - DOI\\ClearLake\\modem_inv\\magma_tests\\cl_magma_tests.h5\")"
   ]
  },
  {
   "cell_type": "code",
   "execution_count": 3,
   "id": "e6967dda",
   "metadata": {},
   "outputs": [
    {
     "name": "stdout",
     "output_type": "stream",
     "text": [
      "\u001b[1m25:05:09T15:13:23 | INFO | line:769 |mth5.mth5 | close_mth5 | Flushing and closing c:\\Users\\jpeacock\\OneDrive - DOI\\ClearLake\\modem_inv\\magma_tests\\cl_magma_tests.h5\u001b[0m\n"
     ]
    }
   ],
   "source": [
    "with MTCollection() as mc:\n",
    "    mc.open_collection(h5_path)\n",
    "    md = mc.to_mt_data()"
   ]
  },
  {
   "cell_type": "code",
   "execution_count": 4,
   "id": "f4df0a50",
   "metadata": {},
   "outputs": [],
   "source": [
    "def calculate_rms(data_df, model_df):\n",
    "    for col in [\"z_xx\", \"z_xy\", \"z_yx\", \"z_yy\", \"t_zx\", \"t_zy\"]:\n",
    "        with np.errstate(divide=\"ignore\", invalid=\"ignore\"):\n",
    "            model_df[f\"rms_{col.replace('_', '')}\"] = np.abs(\n",
    "                data_df[col] - model_df[col]\n",
    "            ) / (np.real(data_df[f\"{col}_model_error\"]) * np.sqrt(2))\n",
    "    return model_df"
   ]
  },
  {
   "cell_type": "code",
   "execution_count": 5,
   "id": "b4241f5b",
   "metadata": {},
   "outputs": [],
   "source": [
    "def calculate_rms_change(model_01_df, model_02_df):\n",
    "    \"\"\" \n",
    "    Assumes 1 is the original, 2 is the new and returns model 2 as 2 - 1\n",
    "\n",
    "    In that sense if the value is positive then 2 is larger rms and if\n",
    "    the value is negative then 2 got smaller.\n",
    "    \"\"\"\n",
    "    for col in [\"z_xx\", \"z_xy\", \"z_yx\", \"z_yy\", \"t_zx\", \"t_zy\"]:\n",
    "        key = f\"rms_{col.replace('_', '')}\"\n",
    "        with np.errstate(divide=\"ignore\", invalid=\"ignore\"):\n",
    "            model_02_df[key] = (model_02_df[key] - model_01_df[key]) / model_02_df[key]\n",
    "\n",
    "    return model_02_df"
   ]
  },
  {
   "cell_type": "code",
   "execution_count": 6,
   "id": "ed2485ae",
   "metadata": {},
   "outputs": [],
   "source": [
    "data_obj = Data()\n",
    "data_df = data_obj.read_data_file(Path(\n",
    "    r\"c:\\Users\\jpeacock\\OneDrive - DOI\\ClearLake\\modem_inv\\inv_05_topo\\cl_modem_data_z03_t02_tec_07.dat\"\n",
    "))"
   ]
  },
  {
   "cell_type": "code",
   "execution_count": 7,
   "id": "e760813f",
   "metadata": {},
   "outputs": [
    {
     "data": {
      "text/plain": [
       "['17km_10ohmm',\n",
       " '17km_20ohmm',\n",
       " '17km_30ohmm',\n",
       " '17km_3ohmm',\n",
       " '60km_10ohmm',\n",
       " '60km_30ohmm',\n",
       " '60km_3ohmm',\n",
       " 'data',\n",
       " 'gpc_10ohmm',\n",
       " 'gpc_20ohmm',\n",
       " 'gpc_30ohmm',\n",
       " 'gpc_3ohmm',\n",
       " 'inv_z03_t02_c02_040',\n",
       " 'inv_z03_t02_c02x2_028',\n",
       " 'li17km_10ohmm',\n",
       " 'li17km_30ohmm',\n",
       " 'li17km_3ohmm']"
      ]
     },
     "execution_count": 7,
     "metadata": {},
     "output_type": "execute_result"
    }
   ],
   "source": [
    "sorted(md.survey_ids)"
   ]
  },
  {
   "cell_type": "code",
   "execution_count": 8,
   "id": "d0e59f0d",
   "metadata": {},
   "outputs": [],
   "source": [
    "md_dict = {}\n",
    "for survey in sorted(md.survey_ids):\n",
    "    md_dict[survey] = md.get_survey(survey).to_mt_dataframe()"
   ]
  },
  {
   "cell_type": "code",
   "execution_count": 9,
   "id": "43ff7ca5",
   "metadata": {},
   "outputs": [],
   "source": [
    "md_dict[\"data\"] = data_df"
   ]
  },
  {
   "cell_type": "code",
   "execution_count": 10,
   "id": "6a4b1db8",
   "metadata": {},
   "outputs": [],
   "source": [
    "base_model_01 = calculate_rms(md_dict[\"data\"].dataframe, md_dict[\"inv_z03_t02_c02_040\"].dataframe)\n",
    "base_model_02 = calculate_rms(md_dict[\"data\"].dataframe, md_dict[\"inv_z03_t02_c02x2_028\"].dataframe)"
   ]
  },
  {
   "cell_type": "code",
   "execution_count": 11,
   "id": "621dc6d1",
   "metadata": {},
   "outputs": [],
   "source": [
    "import numpy as np\n",
    "import matplotlib.pyplot as plt\n",
    "import matplotlib.colors as colors\n",
    "from matplotlib.cm import ScalarMappable\n",
    "import matplotlib.ticker as ticker\n",
    "\n",
    "# Create a segmented colormap with white band in the middle\n",
    "def create_segmented_bwr_cmap():\n",
    "    # Define colors for segments (blue to white to red)\n",
    "    blues = plt.cm.Blues(np.linspace(0.3, 1, 5))  # 5 shades of blue\n",
    "    whites = np.array([[1, 1, 1, 1], [1, 1, 1, 1], [1, 1, 1, 1]])  # 2 white segments for -0.1 to 0.1\n",
    "    reds = plt.cm.Reds(np.linspace(0, 0.7, 5))  # 5 shades of red\n",
    "    \n",
    "    # Combine the colors\n",
    "    colors_array = np.vstack([blues[::-1], whites, reds])\n",
    "    \n",
    "    # Create nodes for the segments (ensure we have white at -0.1 to 0.1)\n",
    "    nodes = np.concatenate([\n",
    "        np.linspace(-1, -0.1, 6),  # 5 blue segments\n",
    "        np.linspace(-0.1, 0.1, 2),  # white segment\n",
    "        np.linspace(0.1, 1, 6)      # 5 red segments\n",
    "    ])\n",
    "    \n",
    "    # Create the colormap\n",
    "    # cmap = colors.LinearSegmentedColormap.from_list('SegmentedBWR', list(zip(nodes, colors_array)))\n",
    "    cmap = colors.LinearSegmentedColormap.from_list('SegmentedBWR', list(colors_array))\n",
    "    return cmap"
   ]
  },
  {
   "cell_type": "code",
   "execution_count": 12,
   "id": "367333e8",
   "metadata": {},
   "outputs": [],
   "source": [
    "rms_cmap = create_segmented_bwr_cmap()"
   ]
  },
  {
   "cell_type": "code",
   "execution_count": 13,
   "id": "d90d275b",
   "metadata": {},
   "outputs": [],
   "source": [
    "model_df = calculate_rms(md_dict[\"data\"].dataframe, md_dict[\"li17km_3ohmm\"].dataframe)\n",
    "delta_model_df = calculate_rms_change(base_model_01, model_df)"
   ]
  },
  {
   "cell_type": "code",
   "execution_count": 14,
   "id": "4ab9c389",
   "metadata": {},
   "outputs": [
    {
     "name": "stdout",
     "output_type": "stream",
     "text": [
      "Skipping 17km_10ohmm\n",
      "\u001b[33m\u001b[1m25:05:09T15:20:38 | WARNING | line:198 |mtpy.modeling.plots.plot_modem_rms | _plot_rms_map | Could not add base map because HTTPSConnectionPool(host='basemap.nationalmap.gov', port=443): Max retries exceeded with url: /arcgis/rest/services/USGSTopo/MapServer/tile/10/390/161 (Caused by SSLError(SSLCertVerificationError(1, '[SSL: CERTIFICATE_VERIFY_FAILED] certificate verify failed: self-signed certificate in certificate chain (_ssl.c:1006)')))\u001b[0m\n",
      "\u001b[1m25:05:09T15:20:41 | INFO | line:125 |mtpy.imaging.mtplot_tools.base | save_plot | Saved figure to: c:\\Users\\jpeacock\\OneDrive - DOI\\ClearLake\\modem_inv\\magma_tests\\17km_20ohmm_vs_40_delta_rms.png\u001b[0m\n",
      "\u001b[33m\u001b[1m25:05:09T15:20:44 | WARNING | line:198 |mtpy.modeling.plots.plot_modem_rms | _plot_rms_map | Could not add base map because HTTPSConnectionPool(host='basemap.nationalmap.gov', port=443): Max retries exceeded with url: /arcgis/rest/services/USGSTopo/MapServer/tile/10/390/161 (Caused by SSLError(SSLCertVerificationError(1, '[SSL: CERTIFICATE_VERIFY_FAILED] certificate verify failed: self-signed certificate in certificate chain (_ssl.c:1006)')))\u001b[0m\n",
      "\u001b[1m25:05:09T15:20:47 | INFO | line:125 |mtpy.imaging.mtplot_tools.base | save_plot | Saved figure to: c:\\Users\\jpeacock\\OneDrive - DOI\\ClearLake\\modem_inv\\magma_tests\\17km_20ohmm_vs_28_delta_rms.png\u001b[0m\n",
      "Skipping 17km_30ohmm\n",
      "Skipping 17km_3ohmm\n",
      "\u001b[33m\u001b[1m25:05:09T15:20:50 | WARNING | line:198 |mtpy.modeling.plots.plot_modem_rms | _plot_rms_map | Could not add base map because HTTPSConnectionPool(host='basemap.nationalmap.gov', port=443): Max retries exceeded with url: /arcgis/rest/services/USGSTopo/MapServer/tile/10/390/161 (Caused by SSLError(SSLCertVerificationError(1, '[SSL: CERTIFICATE_VERIFY_FAILED] certificate verify failed: self-signed certificate in certificate chain (_ssl.c:1006)')))\u001b[0m\n",
      "\u001b[1m25:05:09T15:20:53 | INFO | line:125 |mtpy.imaging.mtplot_tools.base | save_plot | Saved figure to: c:\\Users\\jpeacock\\OneDrive - DOI\\ClearLake\\modem_inv\\magma_tests\\60km_10ohmm_vs_40_delta_rms.png\u001b[0m\n",
      "\u001b[33m\u001b[1m25:05:09T15:20:56 | WARNING | line:198 |mtpy.modeling.plots.plot_modem_rms | _plot_rms_map | Could not add base map because HTTPSConnectionPool(host='basemap.nationalmap.gov', port=443): Max retries exceeded with url: /arcgis/rest/services/USGSTopo/MapServer/tile/10/390/161 (Caused by SSLError(SSLCertVerificationError(1, '[SSL: CERTIFICATE_VERIFY_FAILED] certificate verify failed: self-signed certificate in certificate chain (_ssl.c:1006)')))\u001b[0m\n",
      "\u001b[1m25:05:09T15:20:59 | INFO | line:125 |mtpy.imaging.mtplot_tools.base | save_plot | Saved figure to: c:\\Users\\jpeacock\\OneDrive - DOI\\ClearLake\\modem_inv\\magma_tests\\60km_10ohmm_vs_28_delta_rms.png\u001b[0m\n",
      "\u001b[33m\u001b[1m25:05:09T15:21:02 | WARNING | line:198 |mtpy.modeling.plots.plot_modem_rms | _plot_rms_map | Could not add base map because HTTPSConnectionPool(host='basemap.nationalmap.gov', port=443): Max retries exceeded with url: /arcgis/rest/services/USGSTopo/MapServer/tile/10/390/161 (Caused by SSLError(SSLCertVerificationError(1, '[SSL: CERTIFICATE_VERIFY_FAILED] certificate verify failed: self-signed certificate in certificate chain (_ssl.c:1006)')))\u001b[0m\n",
      "\u001b[1m25:05:09T15:21:05 | INFO | line:125 |mtpy.imaging.mtplot_tools.base | save_plot | Saved figure to: c:\\Users\\jpeacock\\OneDrive - DOI\\ClearLake\\modem_inv\\magma_tests\\60km_30ohmm_vs_40_delta_rms.png\u001b[0m\n",
      "\u001b[33m\u001b[1m25:05:09T15:21:08 | WARNING | line:198 |mtpy.modeling.plots.plot_modem_rms | _plot_rms_map | Could not add base map because HTTPSConnectionPool(host='basemap.nationalmap.gov', port=443): Max retries exceeded with url: /arcgis/rest/services/USGSTopo/MapServer/tile/10/390/161 (Caused by SSLError(SSLCertVerificationError(1, '[SSL: CERTIFICATE_VERIFY_FAILED] certificate verify failed: self-signed certificate in certificate chain (_ssl.c:1006)')))\u001b[0m\n",
      "\u001b[1m25:05:09T15:21:11 | INFO | line:125 |mtpy.imaging.mtplot_tools.base | save_plot | Saved figure to: c:\\Users\\jpeacock\\OneDrive - DOI\\ClearLake\\modem_inv\\magma_tests\\60km_30ohmm_vs_28_delta_rms.png\u001b[0m\n",
      "\u001b[33m\u001b[1m25:05:09T15:21:14 | WARNING | line:198 |mtpy.modeling.plots.plot_modem_rms | _plot_rms_map | Could not add base map because HTTPSConnectionPool(host='basemap.nationalmap.gov', port=443): Max retries exceeded with url: /arcgis/rest/services/USGSTopo/MapServer/tile/10/390/161 (Caused by SSLError(SSLCertVerificationError(1, '[SSL: CERTIFICATE_VERIFY_FAILED] certificate verify failed: self-signed certificate in certificate chain (_ssl.c:1006)')))\u001b[0m\n",
      "\u001b[1m25:05:09T15:21:17 | INFO | line:125 |mtpy.imaging.mtplot_tools.base | save_plot | Saved figure to: c:\\Users\\jpeacock\\OneDrive - DOI\\ClearLake\\modem_inv\\magma_tests\\60km_3ohmm_vs_40_delta_rms.png\u001b[0m\n",
      "\u001b[33m\u001b[1m25:05:09T15:21:20 | WARNING | line:198 |mtpy.modeling.plots.plot_modem_rms | _plot_rms_map | Could not add base map because HTTPSConnectionPool(host='basemap.nationalmap.gov', port=443): Max retries exceeded with url: /arcgis/rest/services/USGSTopo/MapServer/tile/10/390/161 (Caused by SSLError(SSLCertVerificationError(1, '[SSL: CERTIFICATE_VERIFY_FAILED] certificate verify failed: self-signed certificate in certificate chain (_ssl.c:1006)')))\u001b[0m\n",
      "\u001b[1m25:05:09T15:21:23 | INFO | line:125 |mtpy.imaging.mtplot_tools.base | save_plot | Saved figure to: c:\\Users\\jpeacock\\OneDrive - DOI\\ClearLake\\modem_inv\\magma_tests\\60km_3ohmm_vs_28_delta_rms.png\u001b[0m\n",
      "\u001b[33m\u001b[1m25:05:09T15:21:26 | WARNING | line:198 |mtpy.modeling.plots.plot_modem_rms | _plot_rms_map | Could not add base map because HTTPSConnectionPool(host='basemap.nationalmap.gov', port=443): Max retries exceeded with url: /arcgis/rest/services/USGSTopo/MapServer/tile/10/390/161 (Caused by SSLError(SSLCertVerificationError(1, '[SSL: CERTIFICATE_VERIFY_FAILED] certificate verify failed: self-signed certificate in certificate chain (_ssl.c:1006)')))\u001b[0m\n",
      "\u001b[1m25:05:09T15:21:29 | INFO | line:125 |mtpy.imaging.mtplot_tools.base | save_plot | Saved figure to: c:\\Users\\jpeacock\\OneDrive - DOI\\ClearLake\\modem_inv\\magma_tests\\gpc_10ohmm_vs_40_delta_rms.png\u001b[0m\n",
      "\u001b[33m\u001b[1m25:05:09T15:21:32 | WARNING | line:198 |mtpy.modeling.plots.plot_modem_rms | _plot_rms_map | Could not add base map because HTTPSConnectionPool(host='basemap.nationalmap.gov', port=443): Max retries exceeded with url: /arcgis/rest/services/USGSTopo/MapServer/tile/10/390/161 (Caused by SSLError(SSLCertVerificationError(1, '[SSL: CERTIFICATE_VERIFY_FAILED] certificate verify failed: self-signed certificate in certificate chain (_ssl.c:1006)')))\u001b[0m\n",
      "\u001b[1m25:05:09T15:21:35 | INFO | line:125 |mtpy.imaging.mtplot_tools.base | save_plot | Saved figure to: c:\\Users\\jpeacock\\OneDrive - DOI\\ClearLake\\modem_inv\\magma_tests\\gpc_10ohmm_vs_28_delta_rms.png\u001b[0m\n",
      "\u001b[33m\u001b[1m25:05:09T15:21:38 | WARNING | line:198 |mtpy.modeling.plots.plot_modem_rms | _plot_rms_map | Could not add base map because HTTPSConnectionPool(host='basemap.nationalmap.gov', port=443): Max retries exceeded with url: /arcgis/rest/services/USGSTopo/MapServer/tile/10/390/161 (Caused by SSLError(SSLCertVerificationError(1, '[SSL: CERTIFICATE_VERIFY_FAILED] certificate verify failed: self-signed certificate in certificate chain (_ssl.c:1006)')))\u001b[0m\n",
      "\u001b[1m25:05:09T15:21:41 | INFO | line:125 |mtpy.imaging.mtplot_tools.base | save_plot | Saved figure to: c:\\Users\\jpeacock\\OneDrive - DOI\\ClearLake\\modem_inv\\magma_tests\\gpc_20ohmm_vs_40_delta_rms.png\u001b[0m\n",
      "\u001b[33m\u001b[1m25:05:09T15:21:44 | WARNING | line:198 |mtpy.modeling.plots.plot_modem_rms | _plot_rms_map | Could not add base map because HTTPSConnectionPool(host='basemap.nationalmap.gov', port=443): Max retries exceeded with url: /arcgis/rest/services/USGSTopo/MapServer/tile/10/390/161 (Caused by SSLError(SSLCertVerificationError(1, '[SSL: CERTIFICATE_VERIFY_FAILED] certificate verify failed: self-signed certificate in certificate chain (_ssl.c:1006)')))\u001b[0m\n",
      "\u001b[1m25:05:09T15:21:47 | INFO | line:125 |mtpy.imaging.mtplot_tools.base | save_plot | Saved figure to: c:\\Users\\jpeacock\\OneDrive - DOI\\ClearLake\\modem_inv\\magma_tests\\gpc_20ohmm_vs_28_delta_rms.png\u001b[0m\n",
      "\u001b[33m\u001b[1m25:05:09T15:21:51 | WARNING | line:198 |mtpy.modeling.plots.plot_modem_rms | _plot_rms_map | Could not add base map because HTTPSConnectionPool(host='basemap.nationalmap.gov', port=443): Max retries exceeded with url: /arcgis/rest/services/USGSTopo/MapServer/tile/10/390/161 (Caused by SSLError(SSLCertVerificationError(1, '[SSL: CERTIFICATE_VERIFY_FAILED] certificate verify failed: self-signed certificate in certificate chain (_ssl.c:1006)')))\u001b[0m\n",
      "\u001b[1m25:05:09T15:21:53 | INFO | line:125 |mtpy.imaging.mtplot_tools.base | save_plot | Saved figure to: c:\\Users\\jpeacock\\OneDrive - DOI\\ClearLake\\modem_inv\\magma_tests\\gpc_30ohmm_vs_40_delta_rms.png\u001b[0m\n",
      "\u001b[33m\u001b[1m25:05:09T15:21:56 | WARNING | line:198 |mtpy.modeling.plots.plot_modem_rms | _plot_rms_map | Could not add base map because HTTPSConnectionPool(host='basemap.nationalmap.gov', port=443): Max retries exceeded with url: /arcgis/rest/services/USGSTopo/MapServer/tile/10/390/161 (Caused by SSLError(SSLCertVerificationError(1, '[SSL: CERTIFICATE_VERIFY_FAILED] certificate verify failed: self-signed certificate in certificate chain (_ssl.c:1006)')))\u001b[0m\n",
      "\u001b[1m25:05:09T15:21:59 | INFO | line:125 |mtpy.imaging.mtplot_tools.base | save_plot | Saved figure to: c:\\Users\\jpeacock\\OneDrive - DOI\\ClearLake\\modem_inv\\magma_tests\\gpc_30ohmm_vs_28_delta_rms.png\u001b[0m\n",
      "\u001b[33m\u001b[1m25:05:09T15:22:02 | WARNING | line:198 |mtpy.modeling.plots.plot_modem_rms | _plot_rms_map | Could not add base map because HTTPSConnectionPool(host='basemap.nationalmap.gov', port=443): Max retries exceeded with url: /arcgis/rest/services/USGSTopo/MapServer/tile/10/390/161 (Caused by SSLError(SSLCertVerificationError(1, '[SSL: CERTIFICATE_VERIFY_FAILED] certificate verify failed: self-signed certificate in certificate chain (_ssl.c:1006)')))\u001b[0m\n",
      "\u001b[1m25:05:09T15:22:05 | INFO | line:125 |mtpy.imaging.mtplot_tools.base | save_plot | Saved figure to: c:\\Users\\jpeacock\\OneDrive - DOI\\ClearLake\\modem_inv\\magma_tests\\gpc_3ohmm_vs_40_delta_rms.png\u001b[0m\n",
      "\u001b[33m\u001b[1m25:05:09T15:22:08 | WARNING | line:198 |mtpy.modeling.plots.plot_modem_rms | _plot_rms_map | Could not add base map because HTTPSConnectionPool(host='basemap.nationalmap.gov', port=443): Max retries exceeded with url: /arcgis/rest/services/USGSTopo/MapServer/tile/10/390/161 (Caused by SSLError(SSLCertVerificationError(1, '[SSL: CERTIFICATE_VERIFY_FAILED] certificate verify failed: self-signed certificate in certificate chain (_ssl.c:1006)')))\u001b[0m\n",
      "\u001b[1m25:05:09T15:22:12 | INFO | line:125 |mtpy.imaging.mtplot_tools.base | save_plot | Saved figure to: c:\\Users\\jpeacock\\OneDrive - DOI\\ClearLake\\modem_inv\\magma_tests\\gpc_3ohmm_vs_28_delta_rms.png\u001b[0m\n",
      "\u001b[33m\u001b[1m25:05:09T15:22:15 | WARNING | line:198 |mtpy.modeling.plots.plot_modem_rms | _plot_rms_map | Could not add base map because HTTPSConnectionPool(host='basemap.nationalmap.gov', port=443): Max retries exceeded with url: /arcgis/rest/services/USGSTopo/MapServer/tile/10/390/161 (Caused by SSLError(SSLCertVerificationError(1, '[SSL: CERTIFICATE_VERIFY_FAILED] certificate verify failed: self-signed certificate in certificate chain (_ssl.c:1006)')))\u001b[0m\n",
      "\u001b[1m25:05:09T15:22:17 | INFO | line:125 |mtpy.imaging.mtplot_tools.base | save_plot | Saved figure to: c:\\Users\\jpeacock\\OneDrive - DOI\\ClearLake\\modem_inv\\magma_tests\\li17km_10ohmm_vs_40_delta_rms.png\u001b[0m\n",
      "\u001b[33m\u001b[1m25:05:09T15:22:21 | WARNING | line:198 |mtpy.modeling.plots.plot_modem_rms | _plot_rms_map | Could not add base map because HTTPSConnectionPool(host='basemap.nationalmap.gov', port=443): Max retries exceeded with url: /arcgis/rest/services/USGSTopo/MapServer/tile/10/390/161 (Caused by SSLError(SSLCertVerificationError(1, '[SSL: CERTIFICATE_VERIFY_FAILED] certificate verify failed: self-signed certificate in certificate chain (_ssl.c:1006)')))\u001b[0m\n",
      "\u001b[1m25:05:09T15:22:23 | INFO | line:125 |mtpy.imaging.mtplot_tools.base | save_plot | Saved figure to: c:\\Users\\jpeacock\\OneDrive - DOI\\ClearLake\\modem_inv\\magma_tests\\li17km_10ohmm_vs_28_delta_rms.png\u001b[0m\n",
      "\u001b[33m\u001b[1m25:05:09T15:22:26 | WARNING | line:198 |mtpy.modeling.plots.plot_modem_rms | _plot_rms_map | Could not add base map because HTTPSConnectionPool(host='basemap.nationalmap.gov', port=443): Max retries exceeded with url: /arcgis/rest/services/USGSTopo/MapServer/tile/10/390/161 (Caused by SSLError(SSLCertVerificationError(1, '[SSL: CERTIFICATE_VERIFY_FAILED] certificate verify failed: self-signed certificate in certificate chain (_ssl.c:1006)')))\u001b[0m\n",
      "\u001b[1m25:05:09T15:22:29 | INFO | line:125 |mtpy.imaging.mtplot_tools.base | save_plot | Saved figure to: c:\\Users\\jpeacock\\OneDrive - DOI\\ClearLake\\modem_inv\\magma_tests\\li17km_30ohmm_vs_40_delta_rms.png\u001b[0m\n",
      "\u001b[33m\u001b[1m25:05:09T15:22:32 | WARNING | line:198 |mtpy.modeling.plots.plot_modem_rms | _plot_rms_map | Could not add base map because HTTPSConnectionPool(host='basemap.nationalmap.gov', port=443): Max retries exceeded with url: /arcgis/rest/services/USGSTopo/MapServer/tile/10/390/161 (Caused by SSLError(SSLCertVerificationError(1, '[SSL: CERTIFICATE_VERIFY_FAILED] certificate verify failed: self-signed certificate in certificate chain (_ssl.c:1006)')))\u001b[0m\n",
      "\u001b[1m25:05:09T15:22:35 | INFO | line:125 |mtpy.imaging.mtplot_tools.base | save_plot | Saved figure to: c:\\Users\\jpeacock\\OneDrive - DOI\\ClearLake\\modem_inv\\magma_tests\\li17km_30ohmm_vs_28_delta_rms.png\u001b[0m\n",
      "\u001b[33m\u001b[1m25:05:09T15:22:38 | WARNING | line:198 |mtpy.modeling.plots.plot_modem_rms | _plot_rms_map | Could not add base map because HTTPSConnectionPool(host='basemap.nationalmap.gov', port=443): Max retries exceeded with url: /arcgis/rest/services/USGSTopo/MapServer/tile/10/390/161 (Caused by SSLError(SSLCertVerificationError(1, '[SSL: CERTIFICATE_VERIFY_FAILED] certificate verify failed: self-signed certificate in certificate chain (_ssl.c:1006)')))\u001b[0m\n",
      "\u001b[1m25:05:09T15:22:41 | INFO | line:125 |mtpy.imaging.mtplot_tools.base | save_plot | Saved figure to: c:\\Users\\jpeacock\\OneDrive - DOI\\ClearLake\\modem_inv\\magma_tests\\li17km_3ohmm_vs_40_delta_rms.png\u001b[0m\n",
      "\u001b[33m\u001b[1m25:05:09T15:22:44 | WARNING | line:198 |mtpy.modeling.plots.plot_modem_rms | _plot_rms_map | Could not add base map because HTTPSConnectionPool(host='basemap.nationalmap.gov', port=443): Max retries exceeded with url: /arcgis/rest/services/USGSTopo/MapServer/tile/10/390/161 (Caused by SSLError(SSLCertVerificationError(1, '[SSL: CERTIFICATE_VERIFY_FAILED] certificate verify failed: self-signed certificate in certificate chain (_ssl.c:1006)')))\u001b[0m\n",
      "\u001b[1m25:05:09T15:22:46 | INFO | line:125 |mtpy.imaging.mtplot_tools.base | save_plot | Saved figure to: c:\\Users\\jpeacock\\OneDrive - DOI\\ClearLake\\modem_inv\\magma_tests\\li17km_3ohmm_vs_28_delta_rms.png\u001b[0m\n"
     ]
    }
   ],
   "source": [
    "for key in md_dict.keys():\n",
    "    if key in [\"data\", 'inv_z03_t02_c02_040', 'inv_z03_t02_c02x2_028']:\n",
    "        continue\n",
    "    try:\n",
    "        model_df = calculate_rms(md_dict[\"data\"].dataframe, md_dict[key].dataframe)\n",
    "    except ValueError:\n",
    "        print(f\"Skipping {key}\")\n",
    "        continue\n",
    "    for base_df, base_id in zip([base_model_01, base_model_02], [40, 28]):\n",
    "        delta_model_df = calculate_rms_change(base_df, model_df)\n",
    "\n",
    "        dp = PlotRMS(delta_model_df)\n",
    "        dp.rms_min = -.1\n",
    "        dp.rms_max = .08\n",
    "        dp.rms_step = .02\n",
    "        dp.fig_num = 4\n",
    "        dp.fig_size = [20, 10]\n",
    "        #dp.rms_cmap = \"mt_rd2wh2bl\"\n",
    "        dp.rms_cmap = rms_cmap\n",
    "        dp.plot_station = False\n",
    "        dp.box_size = 20\n",
    "        dp.dx = .0175\n",
    "\n",
    "        dp.plot()\n",
    "        dp.save_plot(h5_path.parent.joinpath(f\"{key}_vs_{base_id}_delta_rms.png\"), fig_dpi=300)"
   ]
  }
 ],
 "metadata": {
  "kernelspec": {
   "display_name": "py311",
   "language": "python",
   "name": "python3"
  },
  "language_info": {
   "codemirror_mode": {
    "name": "ipython",
    "version": 3
   },
   "file_extension": ".py",
   "mimetype": "text/x-python",
   "name": "python",
   "nbconvert_exporter": "python",
   "pygments_lexer": "ipython3",
   "version": "3.11.11"
  }
 },
 "nbformat": 4,
 "nbformat_minor": 5
}
