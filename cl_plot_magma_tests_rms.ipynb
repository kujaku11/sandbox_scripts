{
 "cells": [
  {
   "cell_type": "markdown",
   "id": "72870aea",
   "metadata": {},
   "source": [
    "# Plot RMS changes \n",
    "\n",
    "This notebook will be plotting the differences in RMS due to a synthetic magma body at depth"
   ]
  },
  {
   "cell_type": "code",
   "execution_count": 1,
   "id": "31f36316",
   "metadata": {},
   "outputs": [],
   "source": [
    "from pathlib import Path\n",
    "from mtpy import MTData, MTCollection\n",
    "from mtpy.modeling.plots.plot_modem_rms import PlotRMS\n",
    "from mtpy.modeling.modem.data import Data\n",
    "import numpy as np"
   ]
  },
  {
   "cell_type": "code",
   "execution_count": 2,
   "id": "8feb93fc",
   "metadata": {},
   "outputs": [],
   "source": [
    "h5_path = Path(r\"c:\\Users\\jpeacock\\OneDrive - DOI\\ClearLake\\modem_inv\\magma_tests\\cl_magma_tests.h5\")"
   ]
  },
  {
   "cell_type": "code",
   "execution_count": 4,
   "id": "8648df1a",
   "metadata": {},
   "outputs": [],
   "source": [
    "survey_names = [\n",
    "    \"data\",\n",
    "    \"inv_z03_t02_c02_040\",\n",
    "    \"doi_25km\",\n",
    "    \"doi_30km\",\n",
    "    \"doi_35km\",\n",
    "    \"doi_40km\",\n",
    "    \"doi_45km\",\n",
    "    \"doi_55km\",\n",
    "    \"doi_70km\",\n",
    "    \"doi_80km\",\n",
    "    \"lp_melt\",\n",
    "]"
   ]
  },
  {
   "cell_type": "code",
   "execution_count": 6,
   "id": "e6967dda",
   "metadata": {},
   "outputs": [
    {
     "name": "stdout",
     "output_type": "stream",
     "text": [
      "\u001b[1m25:05:15T13:31:51 | INFO | line:769 |mth5.mth5 | close_mth5 | Flushing and closing c:\\Users\\jpeacock\\OneDrive - DOI\\ClearLake\\modem_inv\\magma_tests\\cl_magma_tests.h5\u001b[0m\n"
     ]
    }
   ],
   "source": [
    "md_dict = {}\n",
    "with MTCollection() as mc:\n",
    "    mc.open_collection(h5_path)\n",
    "    for survey_id in survey_names:\n",
    "        mc.working_dataframe = mc.master_dataframe[mc.master_dataframe.survey==survey_id]\n",
    "        md_dict[survey_id] = mc.to_mt_data().to_dataframe()"
   ]
  },
  {
   "cell_type": "code",
   "execution_count": 4,
   "id": "f4df0a50",
   "metadata": {},
   "outputs": [],
   "source": [
    "def calculate_rms(data_df, model_df):\n",
    "    for col in [\"z_xx\", \"z_xy\", \"z_yx\", \"z_yy\", \"t_zx\", \"t_zy\"]:\n",
    "        with np.errstate(divide=\"ignore\", invalid=\"ignore\"):\n",
    "            model_df[f\"rms_{col.replace('_', '')}\"] = np.abs(\n",
    "                data_df[col] - model_df[col]\n",
    "            ) / (np.real(data_df[f\"{col}_model_error\"]) * np.sqrt(2))\n",
    "    return model_df"
   ]
  },
  {
   "cell_type": "code",
   "execution_count": 3,
   "id": "b4241f5b",
   "metadata": {},
   "outputs": [],
   "source": [
    "def calculate_rms_change(model_01_df, model_02_df):\n",
    "    \"\"\" \n",
    "    Assumes 1 is the original, 2 is the new and returns model 2 as 2 - 1\n",
    "\n",
    "    In that sense if the value is positive then 2 is larger rms and if\n",
    "    the value is negative then 2 got smaller.\n",
    "    \"\"\"\n",
    "    for col in [\"z_xx\", \"z_xy\", \"z_yx\", \"z_yy\", \"t_zx\", \"t_zy\"]:\n",
    "        key = f\"rms_{col.replace('_', '')}\"\n",
    "        with np.errstate(divide=\"ignore\", invalid=\"ignore\"):\n",
    "            model_02_df[key] = (model_02_df[key] - model_01_df[key]) / model_02_df[key]\n",
    "\n",
    "    return model_02_df"
   ]
  },
  {
   "cell_type": "code",
   "execution_count": 5,
   "id": "ed2485ae",
   "metadata": {},
   "outputs": [],
   "source": [
    "data_obj = Data()\n",
    "data_df = data_obj.read_data_file(Path(\n",
    "    r\"c:\\Users\\jpeacock\\OneDrive - DOI\\ClearLake\\modem_inv\\inv_05_topo\\cl_modem_data_z03_t02_tec_07.dat\"\n",
    "))"
   ]
  },
  {
   "cell_type": "code",
   "execution_count": 6,
   "id": "01511255",
   "metadata": {},
   "outputs": [],
   "source": [
    "model_data_obj = Data()\n",
    "model_data_df = data_obj.read_data_file(\n",
    "    Path(\n",
    "        r\"c:\\Users\\jpeacock\\OneDrive - DOI\\ClearLake\\modem_inv\\magma_tests\\cl_test_doi_80km.dat\"\n",
    "    )\n",
    ")\n",
    "\n",
    "test_data_obj = Data()\n",
    "test_data_df = data_obj.read_data_file(\n",
    "    Path(\n",
    "        r\"c:\\Users\\jpeacock\\OneDrive - DOI\\ClearLake\\modem_inv\\magma_tests\\cl_outside_test.dat\"\n",
    "    )\n",
    ")"
   ]
  },
  {
   "cell_type": "code",
   "execution_count": 7,
   "id": "e760813f",
   "metadata": {},
   "outputs": [
    {
     "data": {
      "text/plain": [
       "['17km_10ohmm',\n",
       " '17km_20ohmm',\n",
       " '17km_30ohmm',\n",
       " '17km_3ohmm',\n",
       " '60km_10ohmm',\n",
       " '60km_30ohmm',\n",
       " '60km_3ohmm',\n",
       " 'data',\n",
       " 'gpc_10ohmm',\n",
       " 'gpc_20ohmm',\n",
       " 'gpc_30ohmm',\n",
       " 'gpc_3ohmm',\n",
       " 'inv_z03_t02_c02_040',\n",
       " 'inv_z03_t02_c02x2_028',\n",
       " 'li17km_10ohmm',\n",
       " 'li17km_30ohmm',\n",
       " 'li17km_3ohmm']"
      ]
     },
     "execution_count": 7,
     "metadata": {},
     "output_type": "execute_result"
    }
   ],
   "source": [
    "sorted(md.survey_ids)"
   ]
  },
  {
   "cell_type": "code",
   "execution_count": 8,
   "id": "d0e59f0d",
   "metadata": {},
   "outputs": [],
   "source": [
    "md_dict = {}\n",
    "for survey in sorted(md.survey_ids):\n",
    "    md_dict[survey] = md.get_survey(survey).to_mt_dataframe()"
   ]
  },
  {
   "cell_type": "code",
   "execution_count": 18,
   "id": "43ff7ca5",
   "metadata": {},
   "outputs": [],
   "source": [
    "md_dict[\"data\"] = data_df"
   ]
  },
  {
   "cell_type": "code",
   "execution_count": 7,
   "id": "6a4b1db8",
   "metadata": {},
   "outputs": [],
   "source": [
    "base_model_01 = calculate_rms(data_df.dataframe, model_data_df.dataframe)\n",
    "# base_model_02 = calculate_rms(md_dict[\"data\"].dataframe, md_dict[\"inv_z03_t02_c02x2_028\"].dataframe)"
   ]
  },
  {
   "cell_type": "code",
   "execution_count": 8,
   "id": "621dc6d1",
   "metadata": {},
   "outputs": [],
   "source": [
    "import numpy as np\n",
    "import matplotlib.pyplot as plt\n",
    "import matplotlib.colors as colors\n",
    "from matplotlib.cm import ScalarMappable\n",
    "import matplotlib.ticker as ticker\n",
    "\n",
    "# Create a segmented colormap with white band in the middle\n",
    "def create_segmented_bwr_cmap():\n",
    "    # Define colors for segments (blue to white to red)\n",
    "    blues = plt.cm.Blues(np.linspace(0.3, 1, 5))  # 5 shades of blue\n",
    "    whites = np.array([[1, 1, 1, 1], [1, 1, 1, 1], [1, 1, 1, 1]])  # 2 white segments for -0.1 to 0.1\n",
    "    reds = plt.cm.Reds(np.linspace(0, 0.7, 5))  # 5 shades of red\n",
    "    \n",
    "    # Combine the colors\n",
    "    colors_array = np.vstack([blues[::-1], whites, reds])\n",
    "    \n",
    "    # Create nodes for the segments (ensure we have white at -0.1 to 0.1)\n",
    "    nodes = np.concatenate([\n",
    "        np.linspace(-1, -0.1, 6),  # 5 blue segments\n",
    "        np.linspace(-0.1, 0.1, 2),  # white segment\n",
    "        np.linspace(0.1, 1, 6)      # 5 red segments\n",
    "    ])\n",
    "    \n",
    "    # Create the colormap\n",
    "    # cmap = colors.LinearSegmentedColormap.from_list('SegmentedBWR', list(zip(nodes, colors_array)))\n",
    "    cmap = colors.LinearSegmentedColormap.from_list('SegmentedBWR', list(colors_array))\n",
    "    return cmap"
   ]
  },
  {
   "cell_type": "code",
   "execution_count": 9,
   "id": "367333e8",
   "metadata": {},
   "outputs": [],
   "source": [
    "rms_cmap = create_segmented_bwr_cmap()"
   ]
  },
  {
   "cell_type": "code",
   "execution_count": 10,
   "id": "19ad3def",
   "metadata": {},
   "outputs": [],
   "source": [
    "test_df = calculate_rms(data_df.dataframe, test_data_df.dataframe)\n",
    "delta_model_df = calculate_rms_change(base_model_01, test_df)"
   ]
  },
  {
   "cell_type": "code",
   "execution_count": 11,
   "id": "fff33129",
   "metadata": {},
   "outputs": [
    {
     "name": "stdout",
     "output_type": "stream",
     "text": [
      "\u001b[33m\u001b[1m25:05:21T15:21:40 | WARNING | line:198 |mtpy.modeling.plots.plot_modem_rms | _plot_rms_map | Could not add base map because HTTPSConnectionPool(host='basemap.nationalmap.gov', port=443): Max retries exceeded with url: /arcgis/rest/services/USGSTopo/MapServer/tile/10/390/161 (Caused by SSLError(SSLCertVerificationError(1, '[SSL: CERTIFICATE_VERIFY_FAILED] certificate verify failed: self-signed certificate in certificate chain (_ssl.c:1006)')))\u001b[0m\n",
      "\u001b[1m25:05:21T15:21:43 | INFO | line:125 |mtpy.imaging.mtplot_tools.base | save_plot | Saved figure to: c:\\Users\\jpeacock\\OneDrive - DOI\\ClearLake\\modem_inv\\magma_tests\\data_vs_ouside_purged_rms.png\u001b[0m\n"
     ]
    }
   ],
   "source": [
    "dp = PlotRMS(delta_model_df)\n",
    "dp.rms_min = -.1\n",
    "dp.rms_max = .08\n",
    "dp.rms_step = .02\n",
    "dp.fig_num = 4\n",
    "dp.fig_size = [20, 10]\n",
    "#dp.rms_cmap = \"mt_rd2wh2bl\"\n",
    "dp.rms_cmap = rms_cmap\n",
    "dp.plot_station = False\n",
    "dp.box_size = 20\n",
    "dp.dx = .0175\n",
    "\n",
    "dp.plot()\n",
    "dp.save_plot(h5_path.parent.joinpath(f\"{'data'}_vs_{'ouside_purged'}_rms.png\"), fig_dpi=300)"
   ]
  },
  {
   "cell_type": "code",
   "execution_count": 12,
   "id": "4ab9c389",
   "metadata": {},
   "outputs": [
    {
     "ename": "NameError",
     "evalue": "name 'md_dict' is not defined",
     "output_type": "error",
     "traceback": [
      "\u001b[1;31m---------------------------------------------------------------------------\u001b[0m",
      "\u001b[1;31mNameError\u001b[0m                                 Traceback (most recent call last)",
      "Cell \u001b[1;32mIn[12], line 1\u001b[0m\n\u001b[1;32m----> 1\u001b[0m \u001b[38;5;28;01mfor\u001b[39;00m key \u001b[38;5;129;01min\u001b[39;00m \u001b[43mmd_dict\u001b[49m\u001b[38;5;241m.\u001b[39mkeys():\n\u001b[0;32m      2\u001b[0m     \u001b[38;5;28;01mif\u001b[39;00m key \u001b[38;5;129;01min\u001b[39;00m [\u001b[38;5;124m\"\u001b[39m\u001b[38;5;124mdata\u001b[39m\u001b[38;5;124m\"\u001b[39m, \u001b[38;5;124m'\u001b[39m\u001b[38;5;124minv_z03_t02_c02_040\u001b[39m\u001b[38;5;124m'\u001b[39m]:\n\u001b[0;32m      3\u001b[0m         \u001b[38;5;28;01mcontinue\u001b[39;00m\n",
      "\u001b[1;31mNameError\u001b[0m: name 'md_dict' is not defined"
     ]
    }
   ],
   "source": [
    "for key in md_dict.keys():\n",
    "    if key in [\"data\", 'inv_z03_t02_c02_040']:\n",
    "        continue\n",
    "    try:\n",
    "        model_df = calculate_rms(md_dict[\"data\"].dataframe, md_dict[key])\n",
    "    except ValueError:\n",
    "        print(f\"Skipping {key}\")\n",
    "        continue\n",
    "    for base_df, base_id in zip([base_model_01], [40]):\n",
    "        delta_model_df = calculate_rms_change(base_df, model_df)\n",
    "\n",
    "        dp = PlotRMS(delta_model_df)\n",
    "        dp.rms_min = -.1\n",
    "        dp.rms_max = .08\n",
    "        dp.rms_step = .02\n",
    "        dp.fig_num = 4\n",
    "        dp.fig_size = [20, 10]\n",
    "        #dp.rms_cmap = \"mt_rd2wh2bl\"\n",
    "        dp.rms_cmap = rms_cmap\n",
    "        dp.plot_station = False\n",
    "        dp.box_size = 20\n",
    "        dp.dx = .0175\n",
    "\n",
    "        dp.plot()\n",
    "        dp.save_plot(h5_path.parent.joinpath(f\"{key}_vs_{base_id}_delta_rms.png\"), fig_dpi=300)"
   ]
  },
  {
   "cell_type": "code",
   "execution_count": 13,
   "id": "015780f7",
   "metadata": {},
   "outputs": [
    {
     "ename": "NameError",
     "evalue": "name 'md_dict' is not defined",
     "output_type": "error",
     "traceback": [
      "\u001b[1;31m---------------------------------------------------------------------------\u001b[0m",
      "\u001b[1;31mNameError\u001b[0m                                 Traceback (most recent call last)",
      "Cell \u001b[1;32mIn[13], line 1\u001b[0m\n\u001b[1;32m----> 1\u001b[0m \u001b[38;5;28;01mfor\u001b[39;00m key \u001b[38;5;129;01min\u001b[39;00m \u001b[43mmd_dict\u001b[49m\u001b[38;5;241m.\u001b[39mkeys():\n\u001b[0;32m      2\u001b[0m     \u001b[38;5;28;01mif\u001b[39;00m key \u001b[38;5;129;01min\u001b[39;00m [\u001b[38;5;124m\"\u001b[39m\u001b[38;5;124mdata\u001b[39m\u001b[38;5;124m\"\u001b[39m, \u001b[38;5;124m'\u001b[39m\u001b[38;5;124minv_z03_t02_c02_040\u001b[39m\u001b[38;5;124m'\u001b[39m]:\n\u001b[0;32m      3\u001b[0m         \u001b[38;5;28;01mcontinue\u001b[39;00m\n",
      "\u001b[1;31mNameError\u001b[0m: name 'md_dict' is not defined"
     ]
    }
   ],
   "source": [
    "for key in md_dict.keys():\n",
    "    if key in [\"data\", 'inv_z03_t02_c02_040']:\n",
    "        continue\n",
    "    try:\n",
    "        model_df = calculate_rms(md_dict[\"data\"].dataframe, md_dict[key])\n",
    "    except ValueError:\n",
    "        print(f\"Skipping {key}\")\n",
    "        continue\n",
    "    for base_df, base_id in zip([base_model_01], [40]):\n",
    "        delta_model_df = calculate_rms_change(base_df, model_df)\n",
    "        print(f\"Mean RMS by component: {key}\")\n",
    "        print(f\"{delta_model_df[['rms_zxx', 'rms_zyy', 'rms_zxy', 'rms_zyx', 'rms_tzx', 'rms_tzy']].mean()}\")\n",
    "        print(\"\\n\")\n",
    "        print(f\"Mean RMS: {delta_model_df[['rms_zxx', 'rms_zyy', 'rms_zxy', 'rms_zyx', 'rms_tzx', 'rms_tzy']].mean().mean()}\")\n",
    "        print(\"=\"*20)"
   ]
  },
  {
   "cell_type": "code",
   "execution_count": 44,
   "id": "72255772",
   "metadata": {},
   "outputs": [
    {
     "data": {
      "text/plain": [
       "'lp_melt'"
      ]
     },
     "execution_count": 44,
     "metadata": {},
     "output_type": "execute_result"
    }
   ],
   "source": [
    "key"
   ]
  },
  {
   "cell_type": "code",
   "execution_count": 47,
   "id": "1bd7eda2",
   "metadata": {},
   "outputs": [],
   "source": [
    "from mtpy.modeling import StructuredGrid3D"
   ]
  },
  {
   "cell_type": "code",
   "execution_count": 53,
   "id": "a00b2eff",
   "metadata": {},
   "outputs": [],
   "source": [
    "model_path = Path(r\"c:\\Users\\jpeacock\\OneDrive - DOI\\ClearLake\\modem_inv\\inv_05_topo\")\n",
    "mfn_list = (\n",
    "    list(model_path.glob(\"cl_gpc*.rho\"))\n",
    "    + list(model_path.glob(\"*cl_li_17km*.rho\"))\n",
    "    + [model_path.joinpath(\"cl_test_lp_melt.rho\")]\n",
    ")"
   ]
  },
  {
   "cell_type": "code",
   "execution_count": 54,
   "id": "06550657",
   "metadata": {},
   "outputs": [
    {
     "data": {
      "text/plain": [
       "[WindowsPath('c:/Users/jpeacock/OneDrive - DOI/ClearLake/modem_inv/inv_05_topo/cl_gpc_magma_test_10_ohmm.rho'),\n",
       " WindowsPath('c:/Users/jpeacock/OneDrive - DOI/ClearLake/modem_inv/inv_05_topo/cl_gpc_magma_test_20_ohmm.rho'),\n",
       " WindowsPath('c:/Users/jpeacock/OneDrive - DOI/ClearLake/modem_inv/inv_05_topo/cl_gpc_magma_test_30_ohmm.rho'),\n",
       " WindowsPath('c:/Users/jpeacock/OneDrive - DOI/ClearLake/modem_inv/inv_05_topo/cl_gpc_magma_test_3_ohmm.rho'),\n",
       " WindowsPath('c:/Users/jpeacock/OneDrive - DOI/ClearLake/modem_inv/inv_05_topo/cl_li_17km_magma_test_10_ohmm.rho'),\n",
       " WindowsPath('c:/Users/jpeacock/OneDrive - DOI/ClearLake/modem_inv/inv_05_topo/cl_li_17km_magma_test_30_ohmm.rho'),\n",
       " WindowsPath('c:/Users/jpeacock/OneDrive - DOI/ClearLake/modem_inv/inv_05_topo/cl_li_17km_magma_test_3_ohmm.rho'),\n",
       " WindowsPath('c:/Users/jpeacock/OneDrive - DOI/ClearLake/modem_inv/inv_05_topo/cl_test_lp_melt.rho')]"
      ]
     },
     "execution_count": 54,
     "metadata": {},
     "output_type": "execute_result"
    }
   ],
   "source": [
    "mfn_list"
   ]
  },
  {
   "cell_type": "code",
   "execution_count": 55,
   "id": "9bf3093f",
   "metadata": {},
   "outputs": [],
   "source": [
    "s1 = StructuredGrid3D()\n",
    "s1.from_modem(r\"c:\\Users\\jpeacock\\OneDrive - DOI\\ClearLake\\modem_inv\\inv_05_topo\\cl_z03_t02_c02_040.rho\")"
   ]
  },
  {
   "cell_type": "code",
   "execution_count": 56,
   "id": "02e5dd4c",
   "metadata": {},
   "outputs": [
    {
     "name": "stdout",
     "output_type": "stream",
     "text": [
      "\u001b[1m25:05:15T16:11:23 | INFO | line:873 |mtpy.modeling.structured_mesh_3d | to_modem | Wrote file to: c:\\Users\\jpeacock\\OneDrive - DOI\\ClearLake\\modem_inv\\inv_05_topo\\cl_sm_test_avg.rho\u001b[0m\n"
     ]
    }
   ],
   "source": [
    "for mfn in mfn_list:\n",
    "    s2 = StructuredGrid3D()\n",
    "    s2.from_modem(mfn)\n",
    "    s1.res_model *= s2.res_model\n",
    "\n",
    "s1.res_model = s1.res_model **(1/(len(mfn_list) + 1))\n",
    "s1.to_modem(model_fn=model_path.joinpath(\"cl_sm_test_avg.rho\"))"
   ]
  },
  {
   "cell_type": "code",
   "execution_count": null,
   "id": "538aa5bf",
   "metadata": {},
   "outputs": [],
   "source": []
  }
 ],
 "metadata": {
  "kernelspec": {
   "display_name": "py311",
   "language": "python",
   "name": "python3"
  },
  "language_info": {
   "codemirror_mode": {
    "name": "ipython",
    "version": 3
   },
   "file_extension": ".py",
   "mimetype": "text/x-python",
   "name": "python",
   "nbconvert_exporter": "python",
   "pygments_lexer": "ipython3",
   "version": "3.11.11"
  }
 },
 "nbformat": 4,
 "nbformat_minor": 5
}
