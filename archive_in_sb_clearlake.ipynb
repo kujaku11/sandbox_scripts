{
 "cells": [
  {
   "cell_type": "markdown",
   "metadata": {},
   "source": [
    "# Archive in Sciencebase\n"
   ]
  },
  {
   "cell_type": "code",
   "execution_count": 1,
   "metadata": {},
   "outputs": [],
   "source": [
    "from loguru import logger\n",
    "from pathlib import Path\n",
    "from mth5.mth5 import MTH5\n",
    "from mth5.clients import MakeMTH5\n",
    "\n",
    "from mt_metadata.timeseries import Survey, Station, Run, Electric, Magnetic\n",
    "\n",
    "from mtpy import MT"
   ]
  },
  {
   "cell_type": "markdown",
   "metadata": {},
   "source": [
    "## Set paths\n",
    "\n",
    "Set the data directory, here I have all stations under one folder."
   ]
  },
  {
   "cell_type": "code",
   "execution_count": 2,
   "metadata": {},
   "outputs": [],
   "source": [
    "data_directory = Path(r\"c:\\Users\\jpeacock\\OneDrive - DOI\\MTData\\CL2021\")\n",
    "\n",
    "# Calibration path\n",
    "calibration_path = Path(r\"c:\\Users\\jpeacock\\OneDrive - DOI\\MTData\\antenna_20190411.cal\")\n",
    "\n",
    "# processed transfer functions\n",
    "edi_path = Path(r\"c:\\Users\\jpeacock\\OneDrive - DOI\\MTData\\transfer_function_archive\\Clearlake\")\n",
    "\n",
    "# archive path\n",
    "archive_path = data_directory.joinpath(\"archive\")\n",
    "archive_path.mkdir(exist_ok=True)\n",
    "\n",
    "# survey ID\n",
    "survey_id = \"Clearlake2022\""
   ]
  },
  {
   "cell_type": "markdown",
   "metadata": {},
   "source": [
    "## Survey Metadata"
   ]
  },
  {
   "cell_type": "code",
   "execution_count": 3,
   "metadata": {},
   "outputs": [],
   "source": [
    "survey_metadata = Survey(id=survey_id)\n",
    "survey_metadata.acquired_by.author = (\n",
    "    \"Jared Peacock and Mike Mitchell (U.S. Geological Survey)\"\n",
    ")\n",
    "survey_metadata.citation_dataset.doi = r\"https://doi.org/doi:10.5066/P14KAQ3M\"\n",
    "survey_metadata.country = \"USA\"\n",
    "survey_metadata.datum = \"WGS84\"\n",
    "survey_metadata.funding_source.comments = \"Project Lead is Seth Burgess\"\n",
    "survey_metadata.funding_source.email = \"sburgess@usgs.gov\"\n",
    "survey_metadata.funding_source.grant_id = None\n",
    "survey_metadata.funding_source.name = \"California Volcano Observatory\"\n",
    "survey_metadata.funding_source.organization = \"U.S. Geological Survey\"\n",
    "survey_metadata.funding_source.url = \"https://www.usgs.gov/observatories/calvo\"\n",
    "survey_metadata.geographic_name = \"Clear Lake, northern California\"\n",
    "survey_metadata.name = \"Clear Lake 2022\"\n",
    "survey_metadata.project = \"Understanding the Clear Lake Volcanic Field\"\n",
    "survey_metadata.project_lead.author = \"Jared Peacock\"\n",
    "survey_metadata.project_lead.email = \"jpeacock@usgs.gov\"\n",
    "survey_metadata.project_lead.organization = \"U.S. Geological Survey\"\n",
    "survey_metadata.release_license = \"CC0-1.0\"\n",
    "survey_metadata.summary = (\n",
    "    \"The project is funded by the California Volcano Observatory to understand the magmatic system of the Clear Lake Volcanic \"\n",
    "    \"Field using magnetotelluric data to image the subsurface in 3D.\"\n",
    ")\n",
    "survey_metadata.northwest_corner.latitude = 39.322\n",
    "survey_metadata.northwest_corner.longitude = -123.200 \n",
    "survey_metadata.southeast_corner.latitude = 38.545\n",
    "survey_metadata.southeast_corner.longitude = -122.360\n",
    "survey_metadata.time_period.start = \"2021-04-06T18:19:58+00:00\"\n",
    "survey_metadata.time_period.end = \"2022-11-04T16:32:00+00:00\""
   ]
  },
  {
   "cell_type": "markdown",
   "metadata": {},
   "source": [
    "## Station Metadata"
   ]
  },
  {
   "cell_type": "code",
   "execution_count": 4,
   "metadata": {},
   "outputs": [],
   "source": [
    "station_metadata = Station()\n",
    "station_metadata.to_dict(single=True, required=False)\n",
    "station_metadata.acquired_by.author = \"Jared Peacock, Mike Mitchell, and Seth Burgess\"\n",
    "station_metadata.acquired_by.comments = None\n",
    "station_metadata.acquired_by.organization = \"U.S. Geological Survey\"\n",
    "station_metadata.channel_layout = \"L\"\n",
    "station_metadata.comments = None\n",
    "station_metadata.data_type = \"BBMT\"\n",
    "station_metadata.location.declination.comments = \"from https://ngdc.noaa.gov/geomag/calculators/magcalc.shtml#declination\"\n",
    "station_metadata.location.declination.model = \"WMM-2021\"\n",
    "station_metadata.location.declination.value = 12.5\n",
    "station_metadata.orientation.method = \"compass\"\n",
    "station_metadata.orientation.reference_frame = \"geomagnetic\"\n",
    "station_metadata.provenance.comments = \"Time series converted from Zen format to MTH5\"\n",
    "station_metadata.provenance.software.author = \"Jared Peacock\"\n",
    "station_metadata.provenance.software.name = \"MTH5\"\n",
    "station_metadata.provenance.software.version = \"0.4.9\"\n",
    "station_metadata.provenance.submitter.author = \"Jared Peacock\"\n",
    "station_metadata.provenance.submitter.email = \"jpeacock@usgs\"\n",
    "station_metadata.provenance.submitter.organization = \"U.S. Geological Survey\"\n",
    "station_metadata.location.state = \"California\""
   ]
  },
  {
   "cell_type": "markdown",
   "metadata": {},
   "source": [
    "## Run Metadata"
   ]
  },
  {
   "cell_type": "code",
   "execution_count": 10,
   "metadata": {},
   "outputs": [],
   "source": [
    "run_metadata = Run()\n",
    "run_metadata.data_logger.firmware.author = \"Zonge International\"\n",
    "run_metadata.data_logger.firmware.name = \"ZEN\"\n",
    "run_metadata.data_logger.firmware.version = \"5357\"\n",
    "run_metadata.data_logger.manufacturer = \"Zonge International\"\n",
    "run_metadata.data_logger.model = \"ZEN\"\n",
    "run_metadata.data_logger.id = \"ZEN046\"\n",
    "run_metadata.data_logger.power_source.comments = \"rechargable lithium batteries\"\n",
    "run_metadata.data_logger.power_source.id = None\n",
    "run_metadata.data_logger.power_source.type = \"Li 30 Amp-hr\"\n",
    "run_metadata.data_logger.power_source.voltage.end = 15.3\n",
    "run_metadata.data_logger.power_source.voltage.start = 17.0\n",
    "run_metadata.data_logger.timing_system.comments = \"internal clock updated by GPS timing\"\n",
    "run_metadata.data_logger.timing_system.drift = 0.0\n",
    "run_metadata.data_logger.timing_system.type = \"GPS lock\"\n",
    "run_metadata.data_logger.timing_system.uncertainty = 0.0\n",
    "run_metadata.data_logger.type = \"MT\"\n",
    "run_metadata.metadata_by.author = \"Jared Peacock\"\n",
    "run_metadata.metadata_by.comments = \"Most pulled from Z3D files, the rest from written field notes.\"\n",
    "run_metadata.metadata_by.organization = \"U.S. Geological Survey\""
   ]
  },
  {
   "cell_type": "markdown",
   "metadata": {},
   "source": [
    "## Electric Channel Metadata"
   ]
  },
  {
   "cell_type": "code",
   "execution_count": 6,
   "metadata": {},
   "outputs": [],
   "source": [
    "electric_metadata = Electric()\n",
    "electric_metadata.negative.manufacturer = \"Borin\"\n",
    "electric_metadata.negative.model = \"Stelth1\"\n",
    "electric_metadata.negative.type = \"Ag-AgCl\"\n",
    "electric_metadata.positive.manufacturer = \"Borin\"\n",
    "electric_metadata.positive.model = \"Stelth1\"\n",
    "electric_metadata.positive.type = \"Ag-AgCl\"\n",
    "electric_metadata.type = \"electric\"\n",
    "electric_metadata.units = \"digital counts\""
   ]
  },
  {
   "cell_type": "markdown",
   "metadata": {},
   "source": [
    "## Magnetic Channel Metadata\n",
    "Already updated from Z3D"
   ]
  },
  {
   "cell_type": "markdown",
   "metadata": {},
   "source": [
    "## Create Station MTH5s\n",
    "\n",
    "1. Loop over each folder in the directory, make sure that it is a station\n",
    "2. Save transfer function \n",
    "3. Move MTH5 to archive directory\n"
   ]
  },
  {
   "cell_type": "code",
   "execution_count": 11,
   "metadata": {},
   "outputs": [
    {
     "name": "stdout",
     "output_type": "stream",
     "text": [
      "\u001b[1m25:03:11T14:57:27 | INFO | line:769 |mth5.mth5 | close_mth5 | Flushing and closing c:\\Users\\jpeacock\\OneDrive - DOI\\MTData\\CL2021\\archive\\cl060.h5\u001b[0m\n",
      "\u001b[1m25:03:11T14:57:27 | INFO | line:61 |__main__ | <module> | Updated metadata for cl060.h5\u001b[0m\n"
     ]
    }
   ],
   "source": [
    "# for station_folder in [\n",
    "#     station_folder\n",
    "#     for station_folder in data_directory.iterdir()\n",
    "#     if station_folder.is_dir()\n",
    "# ]:\n",
    "station_folders = [Path(r\"c:\\Users\\jpeacock\\OneDrive - DOI\\MTData\\CL2021\\cl060\")]\n",
    "for station_folder in station_folders:\n",
    "    if station_folder.name.startswith(\"cl\"):\n",
    "        station_name = station_folder.name\n",
    "        save_path = archive_path.joinpath(f\"{station_name}.h5\")\n",
    "        if not save_path.exists():\n",
    "            new_mth5 = MakeMTH5.from_zen(\n",
    "                station_folder,\n",
    "                sample_rates=[4096, 256],\n",
    "                calibration_path=calibration_path,\n",
    "                survey_id=survey_id,\n",
    "                combine=True,\n",
    "                **{\"save_path\": save_path},\n",
    "            )\n",
    "            logger.info(f\"Created {new_mth5.name}\")\n",
    "            edi_fn = edi_path.joinpath(f\"USGS-GMEG.2022.{station_name}.edi\")\n",
    "            if edi_fn.exists():\n",
    "                mt_obj = MT()\n",
    "                mt_obj.read(edi_fn)\n",
    "                mt_obj.survey = survey_id\n",
    "                mt_obj.station = station_name\n",
    "                mt_obj.tf_id = mt_obj.station\n",
    "                with MTH5() as m:\n",
    "                    m.open_mth5(new_mth5)\n",
    "                    m.add_transfer_function(mt_obj)\n",
    "                logger.info(f\"Added TF {mt_obj.station} to MTH5 {new_mth5.name}\")\n",
    "            else:\n",
    "                logger.warning(f\"Could not find transfer function for {station_name}\")\n",
    "        else:\n",
    "            with MTH5() as m:\n",
    "                m = m.open_mth5(save_path)\n",
    "                ch_summary = m.channel_summary.to_dataframe()\n",
    "\n",
    "                # update survey metadata\n",
    "                survey_group = m.get_survey(ch_summary.survey.unique()[0])\n",
    "                survey_group.metadata.update(survey_metadata)\n",
    "                survey_group.write_metadata()\n",
    "\n",
    "                # update station metadata\n",
    "                station_group = survey_group.stations_group.get_station(ch_summary.station.unique()[0])\n",
    "                station_group.metadata.update(station_metadata)\n",
    "                station_group.write_metadata()\n",
    "\n",
    "                # update runs\n",
    "                for row in m.run_summary.itertuples():\n",
    "                    run_group = m.from_reference(row.run_hdf5_reference)\n",
    "                    run_group.metadata.update(run_metadata)\n",
    "                    run_group.write_metadata()\n",
    "\n",
    "                for row in ch_summary.itertuples():\n",
    "                    if row.component in [\"ex\", \"ey\"]:\n",
    "                        ch = m.from_reference(row.hdf5_reference)\n",
    "                        if ch.metadata.type in [\"electric\"]:\n",
    "                            ch.metadata.update(electric_metadata)\n",
    "                            ch.write_metadata()\n",
    "            logger.info(f\"Updated metadata for {save_path.name}\")\n",
    "                \n",
    "        "
   ]
  },
  {
   "cell_type": "code",
   "execution_count": null,
   "metadata": {},
   "outputs": [],
   "source": []
  }
 ],
 "metadata": {
  "kernelspec": {
   "display_name": "py311",
   "language": "python",
   "name": "python3"
  },
  "language_info": {
   "codemirror_mode": {
    "name": "ipython",
    "version": 3
   },
   "file_extension": ".py",
   "mimetype": "text/x-python",
   "name": "python",
   "nbconvert_exporter": "python",
   "pygments_lexer": "ipython3",
   "version": "3.11.11"
  }
 },
 "nbformat": 4,
 "nbformat_minor": 2
}
