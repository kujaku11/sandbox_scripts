{
 "cells": [
  {
   "cell_type": "markdown",
   "id": "681a97fa-0294-4a5a-8f3f-8d6d709773f9",
   "metadata": {},
   "source": [
    "# MT Metadata Example 7\n",
    "\n",
    "## Convert to EMTF XML\n",
    "\n",
    "To archive on [SPUD EMTF](https://ds.iris.edu/spud/emtf) the preferred format is [EMTF XML](https://doi.org/10.1190/geo2018-0679.1).  MT-metadata has been developed to contain MT transfer functions in a generic container that has similar metadata as the time series.  Then a series of translators have been developed to read/write various formats including EMTF XML.  \n",
    "\n",
    "The main object is `mt_metadata.transfer_functions.core.TF`.  This object has:\n",
    "\n",
    "- `TF.survey_metadata`\n",
    "- `TF.station_metadata`\n",
    "  - `TF.station_metadata.runs`\n",
    "  - `TF.station_metadata.transfer_function`\n",
    "\n",
    "Each of these can be translated to EMTF XML.  \n",
    "\n",
    "This example demonstrates how to read in a transfer function and output it in an EMTF XML format.  "
   ]
  },
  {
   "cell_type": "code",
   "execution_count": 13,
   "id": "8a3704d0-c0bb-4227-b755-c65cc1712535",
   "metadata": {},
   "outputs": [],
   "source": [
    "from mt_metadata.transfer_functions.core import TF"
   ]
  },
  {
   "cell_type": "markdown",
   "id": "00608700-8791-40be-8d7e-c31539ad9cb8",
   "metadata": {},
   "source": [
    "### Read EDI\n",
    "\n",
    "Here we will read in an EDI file from the Granite Springs project.  The down side of EDI is the metadata is not standard, so most of the useful metadata is in the `Notes` section of the EDI.  Some of this gets translated, some doesn't so we will have to update as needed.   We can do this a couple of ways.  The first will be to update the metadata of the `TF` object.  "
   ]
  },
  {
   "cell_type": "code",
   "execution_count": 14,
   "id": "cbe12506-184e-4998-9ef3-7cc577c3c8c0",
   "metadata": {},
   "outputs": [],
   "source": [
    "edi_tf = TF(r\"E:\\MNWI_2023\\EMTF\\SPLP_field_merge\\EDI_geographic_N\\MW001.edi\")"
   ]
  },
  {
   "cell_type": "code",
   "execution_count": 15,
   "id": "d2a8c3c6-394f-4d8c-a952-4cbf37591225",
   "metadata": {},
   "outputs": [],
   "source": [
    "edi_tf.read()"
   ]
  },
  {
   "cell_type": "code",
   "execution_count": 16,
   "id": "662b6e57-1cec-432c-8eeb-c834a73eed10",
   "metadata": {},
   "outputs": [
    {
     "name": "stdout",
     "output_type": "stream",
     "text": [
      "Station: MW001\n",
      "--------------------------------------------------\n",
      "\tSurvey:            USGS\n",
      "\tProject:           MNWI_2021\n",
      "\tAcquired by:       USGS\n",
      "\tAcquired date:     2023-09-15\n",
      "\tLatitude:          46.738\n",
      "\tLongitude:         -93.468\n",
      "\tElevation:         374.430\n",
      "\tDeclination:   \n",
      "\t\tValue:     0.0\n",
      "\t\tModel:     WMM\n",
      "\tCoordinate System: geographic\n",
      "\tImpedance:         True\n",
      "\tTipper:            True\n",
      "\tN Periods:     55\n",
      "\tPeriod Range:\n",
      "\t\tMin:   1.14000E-03 s\n",
      "\t\tMax:   4.09601E+03 s\n",
      "\tFrequency Range:\n",
      "\t\tMin:   2.44140E-04 Hz\n",
      "\t\tMax:   8.77190E+02 Hz\n"
     ]
    }
   ],
   "source": [
    "print(edi_tf)"
   ]
  },
  {
   "cell_type": "markdown",
   "id": "ca57a127-2ac8-4a03-a7fd-12368f01adbd",
   "metadata": {},
   "source": [
    "### Survey Metadata\n",
    "\n",
    "Survey metadata contains information on the overall survey."
   ]
  },
  {
   "cell_type": "code",
   "execution_count": 17,
   "id": "2bf620b3-a0c6-41c7-bdd4-43659057d074",
   "metadata": {},
   "outputs": [
    {
     "name": "stdout",
     "output_type": "stream",
     "text": [
      "survey:\n",
      "\tacquired_by.author = USGS\n",
      "\tcitation_dataset.doi = None\n",
      "\tcitation_journal.doi = None\n",
      "\tcountry = ['USA']\n",
      "\tdatum = WGS84\n",
      "\tgeographic_name = None\n",
      "\tid = USGS\n",
      "\tname = None\n",
      "\tnorthwest_corner.latitude = 46.738\n",
      "\tnorthwest_corner.longitude = -93.468\n",
      "\tproject = MNWI_2021\n",
      "\tproject_lead.email = None\n",
      "\tproject_lead.organization = None\n",
      "\trelease_license = CC0-1.0\n",
      "\tsoutheast_corner.latitude = 46.738\n",
      "\tsoutheast_corner.longitude = -93.468\n",
      "\tsummary = None\n",
      "\ttime_period.end_date = 1980-01-01\n",
      "\ttime_period.start_date = 2023-01-01\n"
     ]
    }
   ],
   "source": [
    "print(edi_tf.survey_metadata)"
   ]
  },
  {
   "cell_type": "markdown",
   "id": "570f8b3e-8739-40bb-a165-716264360a35",
   "metadata": {},
   "source": [
    "### Station Metadata\n",
    "\n",
    "The bulk of the metadata will be accessed through this attribute.  This includes run information, which has channel information and transfer function information.  \n",
    "\n",
    "Notice that the `Notes` section of the EDI file are now in `TF.station_metadata.comments`.  Some of this has been translated but not all."
   ]
  },
  {
   "cell_type": "code",
   "execution_count": 18,
   "id": "adca966c-6c0e-4e3a-9a76-bb4317518b58",
   "metadata": {},
   "outputs": [
    {
     "name": "stdout",
     "output_type": "stream",
     "text": [
      "station:\n",
      "\tacquired_by.author = USGS\n",
      "\tchannels_recorded = ['ex', 'ey', 'hx', 'hy', 'hz']\n",
      "\tcomments = *.png files have been rotated to geographic\n",
      "Ag-AgCl electrodes were used to collect long-period\n",
      "Multi-site remote-reference processing for long-period data\n",
      "Processing steps: Time-series: electric and\n",
      "TRANSFER FUNCTIONS HAVE BEEN ROTATED INTO GEOGRAPHIC COORDINATES.\n",
      "Transfer function estimates provided in the *.zmm files\n",
      "Zonge International) at each site location. The Zen\n",
      "and converted into EDI files. Site locations and\n",
      "are in acquisition coordinates while *.edi and\n",
      "calculate cross- and auto-power spectra.\n",
      "calculated from windowed time-series data and used to\n",
      "combinations. Transfer function estimation: Final\n",
      "coordinates (X=north) using site-specific declination values\n",
      "developed by Egbert (1996). Fourier spectra were\n",
      "either 4096 or 256 samples per second and a series\n",
      "electric field data. Wideband data were recorded\n",
      "elevations have been extracted from the averaged\n",
      "for 1-2 days. Time-series Processing: Wideband data\n",
      "instrument includes a data logger that records at\n",
      "magnetic field data were collected in a geomagnetic\n",
      "magnetotelluric instrumentation (Zen receivers from\n",
      "north and east coordinate system using wideband\n",
      "of induction-coil magnetometers. Borin Stelth 3\n",
      "reference combinations. Wideband recordings provide\n",
      "respectively.\n",
      "series of processing runs using different\n",
      "site GPS coordinates and the National Map,\n",
      "transfer function estimates at each period from a\n",
      "transfer function estimates from 0.0002-1000 Hz.\n",
      "transfer function were constructed by selecting optimal\n",
      "was carried out using all possible station\n",
      "were processed with the EMTF processing suite\n",
      "\tdata_type = MT\n",
      "\tgeographic_name = None\n",
      "\tid = MW001\n",
      "\tlocation.datum = WGS84\n",
      "\tlocation.declination.model = WMM\n",
      "\tlocation.declination.value = 0.0\n",
      "\tlocation.elevation = 374.43\n",
      "\tlocation.latitude = 46.738\n",
      "\tlocation.longitude = -93.468\n",
      "\torientation.method = None\n",
      "\torientation.reference_frame = geographic\n",
      "\tprovenance.archive.name = None\n",
      "\tprovenance.creation_time = 2024-03-25T00:00:00+00:00\n",
      "\tprovenance.creator.name = None\n",
      "\tprovenance.software.author = None\n",
      "\tprovenance.software.name = USGS\n",
      "\tprovenance.software.version = edi_converter_beta.m\n",
      "\tprovenance.submitter.author = USGS\n",
      "\tprovenance.submitter.email = None\n",
      "\tprovenance.submitter.name = USGS\n",
      "\tprovenance.submitter.organization = None\n",
      "\trelease_license = CC0-1.0\n",
      "\trun_list = ['MW001a']\n",
      "\ttime_period.end = 1980-01-01T00:00:00+00:00\n",
      "\ttime_period.start = 2023-09-15T00:00:00+00:00\n",
      "\ttransfer_function.coordinate_system = geopgraphic\n",
      "\ttransfer_function.data_quality.rating.value = 0\n",
      "\ttransfer_function.id = MW001\n",
      "\ttransfer_function.processed_by.author = PAB\n",
      "\ttransfer_function.processed_by.name = PAB\n",
      "\ttransfer_function.processed_date = 2024-03-25\n",
      "\ttransfer_function.processing_parameters = ['were processed with the emtf processing suite=None']\n",
      "\ttransfer_function.processing_type = None\n",
      "\ttransfer_function.remote_references = []\n",
      "\ttransfer_function.runs_processed = ['MW001a']\n",
      "\ttransfer_function.sign_convention = None\n",
      "\ttransfer_function.software.author = None\n",
      "\ttransfer_function.software.name = EMTF\n",
      "\ttransfer_function.software.version = None\n",
      "\ttransfer_function.units = None\n"
     ]
    }
   ],
   "source": [
    "print(edi_tf.station_metadata)"
   ]
  },
  {
   "cell_type": "markdown",
   "id": "be0b62dc-1679-42bb-a88a-f639359fc331",
   "metadata": {},
   "source": [
    "#### Transfer Function metadata"
   ]
  },
  {
   "cell_type": "code",
   "execution_count": 19,
   "id": "aadc6af9-74a5-4671-9a58-e78e9739d2aa",
   "metadata": {},
   "outputs": [
    {
     "name": "stdout",
     "output_type": "stream",
     "text": [
      "transfer_function:\n",
      "\tcoordinate_system = geopgraphic\n",
      "\tdata_quality.rating.value = 0\n",
      "\tid = MW001\n",
      "\tprocessed_by.author = PAB\n",
      "\tprocessed_by.name = PAB\n",
      "\tprocessed_date = 2024-03-25\n",
      "\tprocessing_parameters = ['were processed with the emtf processing suite=None']\n",
      "\tprocessing_type = None\n",
      "\tremote_references = []\n",
      "\truns_processed = ['MW001a']\n",
      "\tsign_convention = None\n",
      "\tsoftware.author = None\n",
      "\tsoftware.name = EMTF\n",
      "\tsoftware.version = None\n",
      "\tunits = None\n"
     ]
    }
   ],
   "source": [
    "print(edi_tf.station_metadata.transfer_function)"
   ]
  },
  {
   "cell_type": "markdown",
   "id": "410f59f6-46c7-4567-ad0c-adf14b8702d0",
   "metadata": {},
   "source": [
    "#### Run Metadata\n",
    "\n",
    "Run metadata is containe in `TF.station_metadata.runs` which is a list of `run` metadata objects.  Within each run there is a subsequent list of channels, which contain the channel metadata."
   ]
  },
  {
   "cell_type": "code",
   "execution_count": 20,
   "id": "5a05a0ec-9689-4d5f-a0bf-e8dbe9ad4731",
   "metadata": {},
   "outputs": [
    {
     "name": "stdout",
     "output_type": "stream",
     "text": [
      "Contents:\n",
      "------------\n",
      "\tMW001a = run:\n",
      "\tchannels_recorded_auxiliary = []\n",
      "\tchannels_recorded_electric = ['ex', 'ey']\n",
      "\tchannels_recorded_magnetic = ['hx', 'hy', 'hz']\n",
      "\tdata_logger.firmware.author = None\n",
      "\tdata_logger.firmware.name = None\n",
      "\tdata_logger.firmware.version = None\n",
      "\tdata_logger.id = None\n",
      "\tdata_logger.manufacturer = None\n",
      "\tdata_logger.timing_system.drift = 0.0\n",
      "\tdata_logger.timing_system.type = GPS\n",
      "\tdata_logger.timing_system.uncertainty = 0.0\n",
      "\tdata_logger.type = None\n",
      "\tdata_type = BBMT\n",
      "\tid = MW001a\n",
      "\tsample_rate = 0.0\n",
      "\ttime_period.end = 1980-01-01T00:00:00+00:00\n",
      "\ttime_period.start = 2023-09-15T00:00:00+00:00\n"
     ]
    }
   ],
   "source": [
    "print(edi_tf.station_metadata.runs)"
   ]
  },
  {
   "cell_type": "markdown",
   "id": "d97c3199-00f8-49c0-97dc-dc25c22cf19b",
   "metadata": {},
   "source": [
    "#### Channel Metadata"
   ]
  },
  {
   "cell_type": "code",
   "execution_count": 21,
   "id": "4a678e58-7a0f-45d3-9c6e-153ab79277a2",
   "metadata": {},
   "outputs": [
    {
     "name": "stdout",
     "output_type": "stream",
     "text": [
      "Contents:\n",
      "------------\n",
      "\thx = magnetic:\n",
      "\tchannel_id = 11.001\n",
      "\tchannel_number = 0\n",
      "\tcomponent = hx\n",
      "\tdata_quality.rating.value = 0\n",
      "\tfilter.applied = [True]\n",
      "\tfilter.name = []\n",
      "\tlocation.elevation = 0.0\n",
      "\tlocation.latitude = 0.0\n",
      "\tlocation.longitude = 0.0\n",
      "\tlocation.x = 0.0\n",
      "\tlocation.y = 0.0\n",
      "\tlocation.z = 0.0\n",
      "\tmeasurement_azimuth = 0.0\n",
      "\tmeasurement_tilt = 0.0\n",
      "\tsample_rate = 0.0\n",
      "\tsensor.id = None\n",
      "\tsensor.manufacturer = None\n",
      "\tsensor.type = magnetic\n",
      "\ttime_period.end = 1980-01-01T00:00:00+00:00\n",
      "\ttime_period.start = 1980-01-01T00:00:00+00:00\n",
      "\ttranslated_azimuth = 0.0\n",
      "\ttype = magnetic\n",
      "\tunits = None\n",
      "\thy = magnetic:\n",
      "\tchannel_id = 12.001\n",
      "\tchannel_number = 0\n",
      "\tcomponent = hy\n",
      "\tdata_quality.rating.value = 0\n",
      "\tfilter.applied = [True]\n",
      "\tfilter.name = []\n",
      "\tlocation.elevation = 0.0\n",
      "\tlocation.latitude = 0.0\n",
      "\tlocation.longitude = 0.0\n",
      "\tlocation.x = 0.0\n",
      "\tlocation.y = 0.0\n",
      "\tlocation.z = 0.0\n",
      "\tmeasurement_azimuth = 90.0\n",
      "\tmeasurement_tilt = 0.0\n",
      "\tsample_rate = 0.0\n",
      "\tsensor.id = None\n",
      "\tsensor.manufacturer = None\n",
      "\tsensor.type = magnetic\n",
      "\ttime_period.end = 1980-01-01T00:00:00+00:00\n",
      "\ttime_period.start = 1980-01-01T00:00:00+00:00\n",
      "\ttranslated_azimuth = 90.0\n",
      "\ttype = magnetic\n",
      "\tunits = None\n",
      "\thz = magnetic:\n",
      "\tchannel_id = 13.001\n",
      "\tchannel_number = 0\n",
      "\tcomponent = hz\n",
      "\tdata_quality.rating.value = 0\n",
      "\tfilter.applied = [True]\n",
      "\tfilter.name = []\n",
      "\tlocation.elevation = 0.0\n",
      "\tlocation.latitude = 0.0\n",
      "\tlocation.longitude = 0.0\n",
      "\tlocation.x = 0.0\n",
      "\tlocation.y = 0.0\n",
      "\tlocation.z = 0.0\n",
      "\tmeasurement_azimuth = 0.0\n",
      "\tmeasurement_tilt = 0.0\n",
      "\tsample_rate = 0.0\n",
      "\tsensor.id = None\n",
      "\tsensor.manufacturer = None\n",
      "\tsensor.type = magnetic\n",
      "\ttime_period.end = 1980-01-01T00:00:00+00:00\n",
      "\ttime_period.start = 1980-01-01T00:00:00+00:00\n",
      "\ttranslated_azimuth = 0.0\n",
      "\ttype = magnetic\n",
      "\tunits = None\n",
      "\tex = electric:\n",
      "\tchannel_id = 14.001\n",
      "\tchannel_number = 0\n",
      "\tcomponent = ex\n",
      "\tdata_quality.rating.value = 0\n",
      "\tdipole_length = 50.0\n",
      "\tfilter.applied = [True]\n",
      "\tfilter.name = []\n",
      "\tmeasurement_azimuth = 0.0\n",
      "\tmeasurement_tilt = 0.0\n",
      "\tnegative.elevation = 0.0\n",
      "\tnegative.id = None\n",
      "\tnegative.latitude = 0.0\n",
      "\tnegative.longitude = 0.0\n",
      "\tnegative.manufacturer = None\n",
      "\tnegative.type = electric\n",
      "\tnegative.x = 0.0\n",
      "\tnegative.y = 0.0\n",
      "\tpositive.elevation = 0.0\n",
      "\tpositive.id = None\n",
      "\tpositive.latitude = 0.0\n",
      "\tpositive.longitude = 0.0\n",
      "\tpositive.manufacturer = None\n",
      "\tpositive.type = electric\n",
      "\tpositive.x2 = 50.0\n",
      "\tpositive.y2 = 0.0\n",
      "\tsample_rate = 0.0\n",
      "\ttime_period.end = 1980-01-01T00:00:00+00:00\n",
      "\ttime_period.start = 1980-01-01T00:00:00+00:00\n",
      "\ttranslated_azimuth = 0.0\n",
      "\ttype = electric\n",
      "\tunits = None\n",
      "\tey = electric:\n",
      "\tchannel_id = 15.001\n",
      "\tchannel_number = 0\n",
      "\tcomponent = ey\n",
      "\tdata_quality.rating.value = 0\n",
      "\tdipole_length = 50.0\n",
      "\tfilter.applied = [True]\n",
      "\tfilter.name = []\n",
      "\tmeasurement_azimuth = 90.0\n",
      "\tmeasurement_tilt = 0.0\n",
      "\tnegative.elevation = 0.0\n",
      "\tnegative.id = None\n",
      "\tnegative.latitude = 0.0\n",
      "\tnegative.longitude = 0.0\n",
      "\tnegative.manufacturer = None\n",
      "\tnegative.type = electric\n",
      "\tnegative.x = 0.0\n",
      "\tnegative.y = 0.0\n",
      "\tpositive.elevation = 0.0\n",
      "\tpositive.id = None\n",
      "\tpositive.latitude = 0.0\n",
      "\tpositive.longitude = 0.0\n",
      "\tpositive.manufacturer = None\n",
      "\tpositive.type = electric\n",
      "\tpositive.x2 = 0.0\n",
      "\tpositive.y2 = 50.0\n",
      "\tsample_rate = 0.0\n",
      "\ttime_period.end = 1980-01-01T00:00:00+00:00\n",
      "\ttime_period.start = 1980-01-01T00:00:00+00:00\n",
      "\ttranslated_azimuth = 90.0\n",
      "\ttype = electric\n",
      "\tunits = None\n"
     ]
    }
   ],
   "source": [
    "print(edi_tf.station_metadata.runs[0].channels)"
   ]
  },
  {
   "cell_type": "markdown",
   "id": "ed82f9eb-9f26-4c88-81ab-9d548a5cacbf",
   "metadata": {},
   "source": [
    "## Update metadata\n",
    "\n",
    "Here we will demonstrate how to change metadata values.  "
   ]
  },
  {
   "cell_type": "markdown",
   "id": "72e1b3b0-8cb3-4d17-9304-cbeae8ee547d",
   "metadata": {},
   "source": [
    "### Transfer Function\n",
    "\n",
    "We will get this information from `TF.station_metadata.comments`"
   ]
  },
  {
   "cell_type": "code",
   "execution_count": 22,
   "id": "a56c436c-a87c-44b3-8218-8030ad206a19",
   "metadata": {},
   "outputs": [
    {
     "name": "stdout",
     "output_type": "stream",
     "text": [
      "Multi-site remote-reference processing for long-period data\n",
      "series of processing runs using different\n",
      "were processed with the EMTF processing suite\n"
     ]
    }
   ],
   "source": [
    "print(\"\\n\".join([comment for comment in edi_tf.station_metadata.comments.split(\"\\n\") if \"processing\" in comment]))"
   ]
  },
  {
   "cell_type": "code",
   "execution_count": 23,
   "id": "a3795813-984f-4622-a01c-e36b96cdd502",
   "metadata": {},
   "outputs": [],
   "source": [
    "edi_tf.station_metadata.transfer_function.software.author = \"Alan Chave\"\n",
    "edi_tf.station_metadata.transfer_function.software.name = \"BIRRP\"\n",
    "edi_tf.station_metadata.transfer_function.software.version = \"5.3.2\"\n",
    "edi_tf.station_metadata.transfer_function.sign_convention = \"+\"\n",
    "edi_tf.station_metadata.transfer_function.processed_by.name = \"J. Peacock\"\n",
    "edi_tf.station_metadata.transfer_function.processed_by.name = \"J. Peacock\""
   ]
  },
  {
   "cell_type": "code",
   "execution_count": 24,
   "id": "fe4163d0-4178-4dfa-bf19-1a4a9a7f3fce",
   "metadata": {},
   "outputs": [
    {
     "name": "stdout",
     "output_type": "stream",
     "text": [
      "transfer_function:\n",
      "\tcoordinate_system = geopgraphic\n",
      "\tdata_quality.rating.value = 0\n",
      "\tid = MW001\n",
      "\tprocessed_by.author = J. Peacock\n",
      "\tprocessed_by.name = J. Peacock\n",
      "\tprocessed_date = 2024-03-25\n",
      "\tprocessing_parameters = ['were processed with the emtf processing suite=None']\n",
      "\tprocessing_type = None\n",
      "\tremote_references = []\n",
      "\truns_processed = ['MW001a']\n",
      "\tsign_convention = +\n",
      "\tsoftware.author = Alan Chave\n",
      "\tsoftware.name = BIRRP\n",
      "\tsoftware.version = 5.3.2\n",
      "\tunits = None\n"
     ]
    }
   ],
   "source": [
    "print(edi_tf.station_metadata.transfer_function)"
   ]
  },
  {
   "cell_type": "markdown",
   "id": "7ac6e3b3-617c-4f26-950f-b5270580818b",
   "metadata": {},
   "source": [
    "## Write EMFT XML"
   ]
  },
  {
   "cell_type": "code",
   "execution_count": 25,
   "id": "ddd9e121-7e47-45bf-8c2d-8f4d4528be19",
   "metadata": {},
   "outputs": [
    {
     "name": "stdout",
     "output_type": "stream",
     "text": [
      "Help on method write_tf_file in module mt_metadata.transfer_functions.core:\n",
      "\n",
      "write_tf_file(**kwargs) method of mt_metadata.transfer_functions.core.TF instance\n",
      "\n"
     ]
    }
   ],
   "source": [
    "help(edi_tf.write_tf_file)"
   ]
  },
  {
   "cell_type": "code",
   "execution_count": 29,
   "id": "b2d786d8-8c4b-4ddc-af46-3cb25824af65",
   "metadata": {},
   "outputs": [
    {
     "name": "stdout",
     "output_type": "stream",
     "text": [
      "\u001b[31m\u001b[1m2024-04-23T14:18:10.365295-0600 | ERROR | mt_metadata.base.metadata | set_attr_from_name | combinations. Transfer function estimation is not in the current standards.  To properly add the attribute use add_base_attribute.\u001b[0m\n",
      "\u001b[33m\u001b[1m2024-04-23T14:18:10.366266-0600 | WARNING | mt_metadata.transfer_functions.io.emtfxml.emtfxml | _parse_comments | Cannot set attribute combinations. Transfer function estimation.\u001b[0m\n",
      "\u001b[31m\u001b[1m2024-04-23T14:18:10.367306-0600 | ERROR | mt_metadata.base.metadata | set_attr_from_name | for 1-2 days. Time-series Processing is not in the current standards.  To properly add the attribute use add_base_attribute.\u001b[0m\n",
      "\u001b[33m\u001b[1m2024-04-23T14:18:10.368270-0600 | WARNING | mt_metadata.transfer_functions.io.emtfxml.emtfxml | _parse_comments | Cannot set attribute for 1-2 days. Time-series Processing.\u001b[0m\n"
     ]
    }
   ],
   "source": [
    "emtf_xml_object = edi_tf.write(file_type=\"xml\")"
   ]
  },
  {
   "cell_type": "code",
   "execution_count": 30,
   "id": "b92dee91-a13f-4bdb-b4af-45ca2c99c9ea",
   "metadata": {},
   "outputs": [
    {
     "name": "stdout",
     "output_type": "stream",
     "text": [
      "Station: MW001\n",
      "--------------------------------------------------\n",
      "\tSurvey:        USGS\n",
      "\tProject:       MNWI_2021\n",
      "\tAcquired by:   USGS\n",
      "\tAcquired date: 2023-09-15\n",
      "\tLatitude:      46.738\n",
      "\tLongitude:     -93.468\n",
      "\tElevation:     374.430\n",
      "\tDeclination:   \n",
      "\t\tValue:     0.0\n",
      "\t\tModel:     WMM\n",
      "\tImpedance:     True\n",
      "\ttipper:        True\n",
      "\tN Periods:     55\n",
      "\tPeriod Range:\n",
      "\t\tMin:   1.14000E-03 s\n",
      "\t\tMax:   4.09601E+03 s\n",
      "\tFrequency Range:\n",
      "\t\tMin:   2.44140E-04 Hz\n",
      "\t\tMax:   8.77190E+02 Hz\n"
     ]
    }
   ],
   "source": [
    "print(emtf_xml_object)"
   ]
  },
  {
   "cell_type": "markdown",
   "id": "4371d20c-31de-420a-af76-cad91de7f0ff",
   "metadata": {},
   "source": [
    "### Change EMTF XML Metadata\n",
    "\n",
    "We can change directly the metadata in the EMTF object"
   ]
  },
  {
   "cell_type": "code",
   "execution_count": 31,
   "id": "b7f6ca94-6fbd-4a4c-b559-25ae29dd3ee9",
   "metadata": {},
   "outputs": [
    {
     "data": {
      "text/plain": [
       "run:\n",
       "\tend = 1980-01-01T00:00:00+00:00\n",
       "\tinstrument.id = None\n",
       "\tinstrument.manufacturer = None\n",
       "\tinstrument.type = None\n",
       "\trun = MW001a\n",
       "\tsampling_rate = 0.0\n",
       "\tstart = 2023-09-15T00:00:00+00:00"
      ]
     },
     "execution_count": 31,
     "metadata": {},
     "output_type": "execute_result"
    }
   ],
   "source": [
    "emtf_xml_object.field_notes"
   ]
  },
  {
   "cell_type": "code",
   "execution_count": 32,
   "id": "44fe94c7-af53-4260-ae0c-f49b36e3be1e",
   "metadata": {},
   "outputs": [
    {
     "ename": "TypeError",
     "evalue": "EMTFXML.write() missing 1 required positional argument: 'fn'",
     "output_type": "error",
     "traceback": [
      "\u001b[1;31m---------------------------------------------------------------------------\u001b[0m",
      "\u001b[1;31mTypeError\u001b[0m                                 Traceback (most recent call last)",
      "Cell \u001b[1;32mIn[32], line 1\u001b[0m\n\u001b[1;32m----> 1\u001b[0m \u001b[43memtf_xml_object\u001b[49m\u001b[38;5;241;43m.\u001b[39;49m\u001b[43mwrite\u001b[49m\u001b[43m(\u001b[49m\u001b[43m)\u001b[49m\n",
      "\u001b[1;31mTypeError\u001b[0m: EMTFXML.write() missing 1 required positional argument: 'fn'"
     ]
    }
   ],
   "source": [
    "emtf_xml_object.write()"
   ]
  },
  {
   "cell_type": "code",
   "execution_count": null,
   "id": "1447d212-0e7c-4931-935d-f346b9993890",
   "metadata": {},
   "outputs": [],
   "source": []
  }
 ],
 "metadata": {
  "kernelspec": {
   "display_name": "Python 3 (ipykernel)",
   "language": "python",
   "name": "python3"
  },
  "language_info": {
   "codemirror_mode": {
    "name": "ipython",
    "version": 3
   },
   "file_extension": ".py",
   "mimetype": "text/x-python",
   "name": "python",
   "nbconvert_exporter": "python",
   "pygments_lexer": "ipython3",
   "version": "3.11.8"
  }
 },
 "nbformat": 4,
 "nbformat_minor": 5
}
