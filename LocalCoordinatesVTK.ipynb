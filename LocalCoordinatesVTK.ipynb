{
 "cells": [
  {
   "cell_type": "code",
   "execution_count": 1,
   "metadata": {},
   "outputs": [
    {
     "name": "stdout",
     "output_type": "stream",
     "text": [
      "0.8.2\n",
      "['C:\\\\Users\\\\jpeacock\\\\Anaconda3\\\\envs\\\\em\\\\lib\\\\site-packages\\\\discretize']\n",
      "0.17.0\n",
      "['C:\\\\Users\\\\jpeacock\\\\Anaconda3\\\\envs\\\\em\\\\lib\\\\site-packages\\\\SimPEG']\n",
      "['C:\\\\Users\\\\jpeacock\\\\OneDrive - DOI\\\\Documents\\\\GitHub\\\\sandbox_scripts', 'C:\\\\Users\\\\jpeacock\\\\OneDrive - DOI\\\\Documents\\\\GitHub\\\\mt_sb_archiving', 'C:\\\\Users\\\\jpeacock\\\\OneDrive - DOI\\\\Documents\\\\GitHub\\\\aurora', 'C:\\\\Users\\\\jpeacock\\\\OneDrive - DOI\\\\Documents\\\\GitHub\\\\mtpy', 'C:\\\\Users\\\\jpeacock\\\\OneDrive - DOI\\\\Documents\\\\GitHub\\\\mt_metadata', 'C:\\\\Users\\\\jpeacock\\\\OneDrive - DOI\\\\Documents\\\\GitHub\\\\mth5', 'C:\\\\Users\\\\jpeacock\\\\Anaconda3\\\\envs\\\\em\\\\python38.zip', 'C:\\\\Users\\\\jpeacock\\\\Anaconda3\\\\envs\\\\em\\\\DLLs', 'C:\\\\Users\\\\jpeacock\\\\Anaconda3\\\\envs\\\\em\\\\lib', 'C:\\\\Users\\\\jpeacock\\\\Anaconda3\\\\envs\\\\em', '', 'C:\\\\Users\\\\jpeacock\\\\Anaconda3\\\\envs\\\\em\\\\lib\\\\site-packages', 'C:\\\\Users\\\\jpeacock\\\\Anaconda3\\\\envs\\\\em\\\\lib\\\\site-packages\\\\win32', 'C:\\\\Users\\\\jpeacock\\\\Anaconda3\\\\envs\\\\em\\\\lib\\\\site-packages\\\\win32\\\\lib', 'C:\\\\Users\\\\jpeacock\\\\Anaconda3\\\\envs\\\\em\\\\lib\\\\site-packages\\\\Pythonwin', 'C:\\\\Users\\\\jpeacock\\\\Anaconda3\\\\envs\\\\em\\\\lib\\\\site-packages\\\\IPython\\\\extensions', 'C:\\\\Users\\\\jpeacock\\\\.ipython']\n"
     ]
    }
   ],
   "source": [
    "import sys\n",
    "# sys.path.insert(0,'C:\\\\Users\\\\mamitchell\\\\git\\\\simpeg\\\\discretize')\n",
    "# # # sys.path.remove('/path/to/mod_directory')\n",
    "import discretize\n",
    "print(discretize.__version__)\n",
    "print(discretize.__path__)\n",
    "\n",
    "# sys.path.insert(1,'C:\\\\Users\\\\mamitchell\\\\git\\\\simpeg\\\\simpeg')\n",
    "import SimPEG\n",
    "print(SimPEG.__version__)\n",
    "print(SimPEG.__path__)\n",
    "\n",
    "print(sys.path)"
   ]
  },
  {
   "cell_type": "code",
   "execution_count": 2,
   "metadata": {},
   "outputs": [],
   "source": [
    "from discretize import TreeMesh\n",
    "import numpy as np\n"
   ]
  },
  {
   "cell_type": "code",
   "execution_count": 24,
   "metadata": {},
   "outputs": [
    {
     "name": "stdout",
     "output_type": "stream",
     "text": [
      "6428832\n"
     ]
    }
   ],
   "source": [
    "# Load mesh\n",
    "mesh = TreeMesh.read_UBC(r\"c:\\Users\\jpeacock\\OneDrive - DOI\\ClearLake\\Gravity\\GroundGravCombined_InvMesh_BaseCell_200_200_50_50kmPad_JaredLocal.msh\")\n",
    "\n",
    "print(mesh.nC)"
   ]
  },
  {
   "cell_type": "code",
   "execution_count": 4,
   "metadata": {},
   "outputs": [],
   "source": [
    "local_mesh_center = np.array([521533.15, 4315434.93, 0])"
   ]
  },
  {
   "cell_type": "code",
   "execution_count": 16,
   "metadata": {},
   "outputs": [
    {
     "data": {
      "text/plain": [
       "array([1.71798692e+13, 1.71798692e+13, 1.71798692e+13, ...,\n",
       "       1.71798692e+13, 1.71798692e+13, 1.71798692e+13])"
      ]
     },
     "execution_count": 16,
     "metadata": {},
     "output_type": "execute_result"
    }
   ],
   "source": [
    "meshCC = mesh.cell_volumes / 1000\n",
    "meshCC"
   ]
  },
  {
   "cell_type": "code",
   "execution_count": 6,
   "metadata": {},
   "outputs": [
    {
     "name": "stdout",
     "output_type": "stream",
     "text": [
      "\n",
      "OcTreeMesh: 0.00% filled\n",
      "\n",
      "Level : Number of cells               Mesh Extent               Cell Widths    \n",
      "-----------------------           min     ,     max            min   ,   max   \n",
      "  2   :       12             ---------------------------   --------------------\n",
      "  3   :       106         x:  107357.329  , 926557.329       200.0   ,  409600.0 \n",
      "  4   :       340         y:  3887596.623 , 4706796.623      200.0   ,  409600.0 \n",
      "  5   :       484         z:   -408875.0  ,  410325.0         50.0   ,  102400.0 \n",
      "  6   :      1179      \n",
      "  7   :      3467      \n",
      "  8   :      11123     \n",
      "  9   :      55181     \n",
      " 10   :     316176     \n",
      " 11   :     1356818    \n",
      " 12   :     773454     \n",
      " 13   :     1057040    \n",
      "-----------------------\n",
      "Total :     3575380    \n"
     ]
    }
   ],
   "source": [
    "mesh_local = mesh.copy()\n",
    "print(mesh_local)"
   ]
  },
  {
   "cell_type": "code",
   "execution_count": 7,
   "metadata": {},
   "outputs": [
    {
     "name": "stdout",
     "output_type": "stream",
     "text": [
      "x0 set? [-414175.821 -427838.307 -408875.   ]\n"
     ]
    }
   ],
   "source": [
    "mesh_local.x0 = mesh.x0 - local_mesh_center"
   ]
  },
  {
   "cell_type": "code",
   "execution_count": 9,
   "metadata": {},
   "outputs": [
    {
     "name": "stdout",
     "output_type": "stream",
     "text": [
      "(3575380,)\n"
     ]
    }
   ],
   "source": [
    "# Load density model\n",
    "rhoInv = np.load(r\"c:\\Users\\jpeacock\\OneDrive - DOI\\ClearLake\\Gravity\\rhoInv_groundGravCombined_generalBounds_PGI5_depthWeight_dObsNeg.npy\")\n",
    "# rhoInv = -rhoInv\n",
    "print(rhoInv.shape)"
   ]
  },
  {
   "cell_type": "markdown",
   "metadata": {},
   "source": [
    "## crop and have z positive down, units of km"
   ]
  },
  {
   "cell_type": "code",
   "execution_count": 23,
   "metadata": {},
   "outputs": [
    {
     "data": {
      "text/plain": [
       "3"
      ]
     },
     "execution_count": 23,
     "metadata": {},
     "output_type": "execute_result"
    }
   ],
   "source": [
    "len(mesh_local.h)"
   ]
  },
  {
   "cell_type": "code",
   "execution_count": 9,
   "metadata": {
    "scrolled": true
   },
   "outputs": [
    {
     "name": "stderr",
     "output_type": "stream",
     "text": [
      "C:\\Users\\mamitchell\\Anaconda3\\lib\\site-packages\\vtkmodules\\util\\numpy_support.py:66: DeprecationWarning: Converting `np.character` to a dtype is deprecated. The current result is `np.dtype(np.str_)` which is not strictly correct. Note that `np.character` is generally deprecated and 'S1' should be used.\n",
      "  if numpy_array_type == key or \\\n",
      "C:\\Users\\mamitchell\\Anaconda3\\lib\\site-packages\\vtkmodules\\util\\numpy_support.py:68: DeprecationWarning: Converting `np.character` to a dtype is deprecated. The current result is `np.dtype(np.str_)` which is not strictly correct. Note that `np.character` is generally deprecated and 'S1' should be used.\n",
      "  numpy_array_type == numpy.dtype(key):\n",
      "\n",
      "            Sentinel is not a public part of the traitlets API.\n",
      "            It was published by mistake, and may be removed in the future.\n",
      "            \n"
     ]
    }
   ],
   "source": [
    "mesh_local.writeVTK('rhoInv_groundGravCombined_generalBounds_PGI5_depthWeight_dObsNeg_local.vtu', models={\"rho\":rhoInv})\n"
   ]
  },
  {
   "cell_type": "code",
   "execution_count": null,
   "metadata": {},
   "outputs": [],
   "source": []
  }
 ],
 "metadata": {
  "anaconda-cloud": {},
  "kernelspec": {
   "display_name": "Python 3 (ipykernel)",
   "language": "python",
   "name": "python3"
  },
  "language_info": {
   "codemirror_mode": {
    "name": "ipython",
    "version": 3
   },
   "file_extension": ".py",
   "mimetype": "text/x-python",
   "name": "python",
   "nbconvert_exporter": "python",
   "pygments_lexer": "ipython3",
   "version": "3.8.13"
  }
 },
 "nbformat": 4,
 "nbformat_minor": 4
}
