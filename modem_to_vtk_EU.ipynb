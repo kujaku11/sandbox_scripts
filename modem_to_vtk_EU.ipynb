{
 "cells": [
  {
   "cell_type": "markdown",
   "id": "b4cf52c9",
   "metadata": {},
   "source": [
    "# Convert ModEM files to VTK\n",
    "\n",
    "For this you should clone MTpy `metadata` branch: https://github.com/MTgeophysics/mtpy/tree/metadata\n",
    "\n",
    "If you `cd` into the folder containing the cloned branch you can use `pip install -e .` or just link your `PYTHONPATH` to the folder."
   ]
  },
  {
   "cell_type": "code",
   "execution_count": 1,
   "id": "33aad1ba",
   "metadata": {},
   "outputs": [
    {
     "name": "stderr",
     "output_type": "stream",
     "text": [
      "GDAL_DATA environment variable is not set  Please see https://trac.osgeo.org/gdal/wiki/FAQInstallationAndBuilding#HowtosetGDAL_DATAvariable \n",
      "2022-04-04 11:53:12,072 [line 133] error.get_mtpy_logger - INFO: Logging file can be found C:\\Users\\jpeacock\\Documents\\GitHub\\mtpy\\logs\\mtpy_error.log\n",
      "2022-04-04 11:53:12,073 [line 133] matplotlib.get_mtpy_logger - INFO: Logging file can be found C:\\Users\\jpeacock\\Documents\\GitHub\\mtpy\\logs\\matplotlib_warn.log\n"
     ]
    },
    {
     "name": "stdout",
     "output_type": "stream",
     "text": [
      "Ignore GDAL as it is not working. Will use pyproj\n",
      "2022-04-04T11:53:12 [line 157] numexpr.utils._init_num_threads - INFO: NumExpr defaulting to 8 threads.\n"
     ]
    },
    {
     "name": "stderr",
     "output_type": "stream",
     "text": [
      "C:\\Users\\jpeacock\\Anaconda3\\envs\\mt\\lib\\_collections_abc.py:720: MatplotlibDeprecationWarning: The global colormaps dictionary is no longer considered public API.\n",
      "  yield from self._mapping\n",
      "C:\\Users\\jpeacock\\Documents\\GitHub\\mtpy\\mtpy\\imaging\\mtcolors.py:283: MatplotlibDeprecationWarning: The global colormaps dictionary is no longer considered public API.\n",
      "  cmapdict.update(cm.cmap_d)\n"
     ]
    }
   ],
   "source": [
    "from mtpy.modeling.modem import Model, Data"
   ]
  },
  {
   "cell_type": "code",
   "execution_count": 2,
   "id": "bbae19ea",
   "metadata": {},
   "outputs": [],
   "source": [
    "d = Data()\n",
    "d.read_data_file(r\"c:\\Users\\jpeacock\\OneDrive - DOI\\Geysers\\modem_inv\\inv03\\gz_data_err03_tec_edit.dat\")\n",
    "#d.read_data_file(r\"C:\\TeleWork_2020_2021\\CEC\\MT_2017_inversion_results\\gz_data_err03_tec_edit.dat\")\n",
    "\n"
   ]
  },
  {
   "cell_type": "markdown",
   "id": "1b404d56",
   "metadata": {},
   "source": [
    "## This is for UTM coordinates\n",
    "\n",
    "This will convert to UTM coordinates in a coordinate systems with x=North, y=East, z +downward. If you want geographic coordinates you can set the keyword `geographic=True`.  If you want relative coordinates you can leave the shift keywords set to 0. Be careful with the `shift_elev` and `shift_z` because the model center is relative to an elevation ceiling, which I think is set to 1100m.  Might need to play around with this value to make the elevations relative to sea level."
   ]
  },
  {
   "cell_type": "code",
   "execution_count": 3,
   "id": "9b9eb0bb",
   "metadata": {},
   "outputs": [
    {
     "name": "stderr",
     "output_type": "stream",
     "text": [
      "2022-04-04 11:53:23,814 [line 2012] mtpy.modeling.modem.data.Data.write_vtk_station_file - INFO: Wrote station VTK file to c:\\Users\\jpeacock\\OneDrive - DOI\\Geysers\\modem_inv\\inv03\\geysers_stations_utm\n"
     ]
    },
    {
     "data": {
      "text/plain": [
       "WindowsPath('c:/Users/jpeacock/OneDrive - DOI/Geysers/modem_inv/inv03/geysers_stations_utm')"
      ]
     },
     "execution_count": 3,
     "metadata": {},
     "output_type": "execute_result"
    }
   ],
   "source": [
    "d.write_vtk_station_file(\n",
    "    vtk_fn_basename=\"geysers_stations_utm\",\n",
    "    shift_north=d.center_point.north[0], \n",
    "    shift_east=d.center_point.east[0], \n",
    "    shift_elev=d.center_point.elev[0]\n",
    ")"
   ]
  },
  {
   "cell_type": "code",
   "execution_count": 4,
   "id": "9d95ac70",
   "metadata": {},
   "outputs": [
    {
     "name": "stdout",
     "output_type": "stream",
     "text": [
      "     -175000.000     -175000.000           -1083.929\n",
      "\n",
      "    0.000\n",
      "\n"
     ]
    }
   ],
   "source": [
    "m = Model()\n",
    "m.read_model_file(r\"C:\\TeleWork_2020_2021\\CEC\\MT_2017_inversion_results\\gz_err03_cov02_NLCG_057.rho\")"
   ]
  },
  {
   "cell_type": "code",
   "execution_count": 5,
   "id": "e87a5eef",
   "metadata": {},
   "outputs": [
    {
     "ename": "TypeError",
     "evalue": "write_vtk_file() got an unexpected keyword argument 'shift_north'",
     "output_type": "error",
     "traceback": [
      "\u001b[1;31m---------------------------------------------------------------------------\u001b[0m",
      "\u001b[1;31mTypeError\u001b[0m                                 Traceback (most recent call last)",
      "Input \u001b[1;32mIn [5]\u001b[0m, in \u001b[0;36m<cell line: 1>\u001b[1;34m()\u001b[0m\n\u001b[1;32m----> 1\u001b[0m \u001b[43mm\u001b[49m\u001b[38;5;241;43m.\u001b[39;49m\u001b[43mwrite_vtk_file\u001b[49m\u001b[43m(\u001b[49m\n\u001b[0;32m      2\u001b[0m \u001b[43m    \u001b[49m\u001b[43mvtk_fn_basename\u001b[49m\u001b[38;5;241;43m=\u001b[39;49m\u001b[38;5;124;43m\"\u001b[39;49m\u001b[38;5;124;43mgeysers_model_utm\u001b[39;49m\u001b[38;5;124;43m\"\u001b[39;49m\u001b[43m,\u001b[49m\n\u001b[0;32m      3\u001b[0m \u001b[43m    \u001b[49m\u001b[43mshift_north\u001b[49m\u001b[38;5;241;43m=\u001b[39;49m\u001b[43md\u001b[49m\u001b[38;5;241;43m.\u001b[39;49m\u001b[43mcenter_point\u001b[49m\u001b[38;5;241;43m.\u001b[39;49m\u001b[43mnorth\u001b[49m\u001b[43m[\u001b[49m\u001b[38;5;241;43m0\u001b[39;49m\u001b[43m]\u001b[49m\u001b[43m,\u001b[49m\u001b[43m \u001b[49m\n\u001b[0;32m      4\u001b[0m \u001b[43m    \u001b[49m\u001b[43mshift_east\u001b[49m\u001b[38;5;241;43m=\u001b[39;49m\u001b[43md\u001b[49m\u001b[38;5;241;43m.\u001b[39;49m\u001b[43mcenter_point\u001b[49m\u001b[38;5;241;43m.\u001b[39;49m\u001b[43meast\u001b[49m\u001b[43m[\u001b[49m\u001b[38;5;241;43m0\u001b[39;49m\u001b[43m]\u001b[49m\u001b[43m,\u001b[49m\u001b[43m \u001b[49m\n\u001b[0;32m      5\u001b[0m \u001b[43m    \u001b[49m\u001b[43mshift_z\u001b[49m\u001b[38;5;241;43m=\u001b[39;49m\u001b[43md\u001b[49m\u001b[38;5;241;43m.\u001b[39;49m\u001b[43mcenter_point\u001b[49m\u001b[38;5;241;43m.\u001b[39;49m\u001b[43melev\u001b[49m\u001b[43m[\u001b[49m\u001b[38;5;241;43m0\u001b[39;49m\u001b[43m]\u001b[49m\n\u001b[0;32m      6\u001b[0m \u001b[43m)\u001b[49m\n",
      "\u001b[1;31mTypeError\u001b[0m: write_vtk_file() got an unexpected keyword argument 'shift_north'"
     ]
    }
   ],
   "source": [
    "m.write_vtk_file(\n",
    "    vtk_fn_basename=\"geysers_model_utm\",\n",
    "    shift_north=d.center_point.north[0], \n",
    "    shift_east=d.center_point.east[0], \n",
    "    shift_z=d.center_point.elev[0]\n",
    ")"
   ]
  },
  {
   "cell_type": "code",
   "execution_count": 4,
   "id": "3fb02656",
   "metadata": {},
   "outputs": [
    {
     "name": "stdout",
     "output_type": "stream",
     "text": [
      "Wrote ModEM control file to control.fwd\n",
      "Wrote ModEM control file to control.inv\n"
     ]
    }
   ],
   "source": [
    "from mtpy.modeling.modem import ControlFwd, ControlInv\n",
    "\n",
    "cfwd = ControlFwd()\n",
    "cfwd.write_control_file(\"control.fwd\")\n",
    "\n",
    "cfwd = ControlInv()\n",
    "cfwd.write_control_file(\"control.inv\")\n"
   ]
  },
  {
   "cell_type": "code",
   "execution_count": null,
   "id": "ab59b3da",
   "metadata": {},
   "outputs": [],
   "source": []
  }
 ],
 "metadata": {
  "kernelspec": {
   "display_name": "Python 3 (ipykernel)",
   "language": "python",
   "name": "python3"
  },
  "language_info": {
   "codemirror_mode": {
    "name": "ipython",
    "version": 3
   },
   "file_extension": ".py",
   "mimetype": "text/x-python",
   "name": "python",
   "nbconvert_exporter": "python",
   "pygments_lexer": "ipython3",
   "version": "3.7.11"
  }
 },
 "nbformat": 4,
 "nbformat_minor": 5
}
