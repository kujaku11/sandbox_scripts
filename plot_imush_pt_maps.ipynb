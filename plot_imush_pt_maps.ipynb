{
 "cells": [
  {
   "cell_type": "code",
   "execution_count": 1,
   "metadata": {
    "collapsed": true
   },
   "outputs": [],
   "source": [
    "import os\n",
    "import mtpy.imaging.mtplot as mtplot"
   ]
  },
  {
   "cell_type": "code",
   "execution_count": 2,
   "metadata": {
    "collapsed": false
   },
   "outputs": [],
   "source": [
    "edi_path_imush = r\"c:\\Users\\jpeacock\\Documents\\iMush\\iMush_edited_edi_files_JRP\\Interpolated\"\n",
    "edi_list_imush = [os.path.join(edi_path_imush, edi_fn) for edi_fn in os.listdir(edi_path_imush) if edi_fn.endswith('.edi')]"
   ]
  },
  {
   "cell_type": "code",
   "execution_count": 3,
   "metadata": {
    "collapsed": true
   },
   "outputs": [],
   "source": [
    "edi_path_mshn = r\"c:\\Users\\jpeacock\\Documents\\Geothermal\\Washington\\MSH\\INV_EDI_Files\\Interpolated\"\n",
    "edi_list_mshn = [os.path.join(edi_path_mshn, edi_fn) for edi_fn in os.listdir(edi_path_mshn) if edi_fn.endswith('.edi')]"
   ]
  },
  {
   "cell_type": "code",
   "execution_count": null,
   "metadata": {
    "collapsed": false
   },
   "outputs": [],
   "source": [
    "%%capture\n",
    "ptm = mtplot.plot_pt_map(fn_list=edi_list_imush+edi_list_mshn, plot_freq=1.15, plot_yn='y')"
   ]
  },
  {
   "cell_type": "code",
   "execution_count": null,
   "metadata": {
    "collapsed": false
   },
   "outputs": [],
   "source": [
    "ptm.fig_size = [5, 5]\n",
    "ptm.plot_tipper = 'yri'\n",
    "ptm.arrow_head_length = .0025\n",
    "ptm.arrow_head_width = .0025\n",
    "ptm.arrow_lw = .5\n",
    "ptm.ellipse_size = .025\n",
    "ptm.redraw_plot()"
   ]
  },
  {
   "cell_type": "code",
   "execution_count": null,
   "metadata": {
    "collapsed": true
   },
   "outputs": [],
   "source": []
  }
 ],
 "metadata": {
  "kernelspec": {
   "display_name": "Python 2",
   "language": "python",
   "name": "python2"
  },
  "language_info": {
   "codemirror_mode": {
    "name": "ipython",
    "version": 2
   },
   "file_extension": ".py",
   "mimetype": "text/x-python",
   "name": "python",
   "nbconvert_exporter": "python",
   "pygments_lexer": "ipython2",
   "version": "2.7.12"
  }
 },
 "nbformat": 4,
 "nbformat_minor": 0
}
