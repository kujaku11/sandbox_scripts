{
 "cells": [
  {
   "cell_type": "code",
   "execution_count": 1,
   "metadata": {},
   "outputs": [],
   "source": [
    "import mth5\n",
    "import xarray as xr\n",
    "import numpy as np\n",
    "from mth5.timeseries.ts_helpers import make_dt_coordinates"
   ]
  },
  {
   "cell_type": "code",
   "execution_count": 2,
   "metadata": {},
   "outputs": [],
   "source": [
    "dt = 4096\n",
    "n = dt*5\n",
    "a = np.arange(n)\n",
    "t = make_dt_coordinates(\"2020-01-01T12:00:00\", dt, n)\n",
    "\n",
    "x = xr.DataArray(a, coords=[(\"time\", t)])"
   ]
  },
  {
   "cell_type": "code",
   "execution_count": 3,
   "metadata": {},
   "outputs": [
    {
     "name": "stdout",
     "output_type": "stream",
     "text": [
      "\u001b[33m\u001b[1m2024-08-25T12:02:41.831326-0700 | WARNING | mth5.timeseries.scipy_filters | resample_poly | New sample rate is not an even number of original sample rate. The ratio is 2.7306665898629183.  Use the new dimensions with caution.\u001b[0m\n"
     ]
    }
   ],
   "source": [
    "xd = x.sps_filters.resample_poly(1500)"
   ]
  },
  {
   "cell_type": "code",
   "execution_count": 8,
   "metadata": {},
   "outputs": [
    {
     "name": "stdout",
     "output_type": "stream",
     "text": [
      "2020-01-01T12:00:05.000000000\n",
      "2020-01-01T12:00:04.999756000\n"
     ]
    }
   ],
   "source": [
    "print(xd.time[-1].data)\n",
    "print(x.time[-1].data)\n"
   ]
  },
  {
   "cell_type": "code",
   "execution_count": null,
   "metadata": {},
   "outputs": [],
   "source": []
  }
 ],
 "metadata": {
  "kernelspec": {
   "display_name": "py39",
   "language": "python",
   "name": "python3"
  },
  "language_info": {
   "codemirror_mode": {
    "name": "ipython",
    "version": 3
   },
   "file_extension": ".py",
   "mimetype": "text/x-python",
   "name": "python",
   "nbconvert_exporter": "python",
   "pygments_lexer": "ipython3",
   "version": "3.9.18"
  }
 },
 "nbformat": 4,
 "nbformat_minor": 2
}
