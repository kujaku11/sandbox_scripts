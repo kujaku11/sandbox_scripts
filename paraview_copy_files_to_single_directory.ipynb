{
 "cells": [
  {
   "cell_type": "code",
   "execution_count": 1,
   "id": "f972c6ea",
   "metadata": {},
   "outputs": [],
   "source": [
    "from pathlib import Path\n",
    "import shutil"
   ]
  },
  {
   "cell_type": "code",
   "execution_count": 2,
   "id": "33a6a536",
   "metadata": {},
   "outputs": [],
   "source": [
    "fn = Path(r\"c:\\Users\\jpeacock\\OneDrive - DOI\\Geothermal\\GreatBasin\\modem_inv\\gb_01\\grl_figures.pvsm\")"
   ]
  },
  {
   "cell_type": "code",
   "execution_count": 3,
   "id": "e754b2e6",
   "metadata": {},
   "outputs": [],
   "source": [
    "with open(fn, \"r\") as f:\n",
    "    lines = f.readlines()"
   ]
  },
  {
   "cell_type": "code",
   "execution_count": 12,
   "id": "2ad95dd7",
   "metadata": {},
   "outputs": [],
   "source": [
    "files = []\n",
    "for line in lines:\n",
    "    if \"C:\" in line:\n",
    "        files.append(Path(line.split(\"value=\")[1].replace('\"', '').split(\"/>\")[0]))"
   ]
  },
  {
   "cell_type": "code",
   "execution_count": 15,
   "id": "0e06ed2b",
   "metadata": {},
   "outputs": [
    {
     "name": "stdout",
     "output_type": "stream",
     "text": [
      "--> copied C:\\Users\\jpeacock\\OneDrive - DOI\\ClearLake\\modem_inv\\cl_basemap_stations.png to c:\\Users\\jpeacock\\zips\\great_basin_thumb_paraview\\cl_basemap_stations.png\n",
      "--> copied C:\\Users\\jpeacock\\OneDrive - DOI\\Geothermal\\GreatBasin\\modem_inv\\volcanoes.vtu to c:\\Users\\jpeacock\\zips\\great_basin_thumb_paraview\\volcanoes.vtu\n",
      "--> copied C:\\Users\\jpeacock\\OneDrive - DOI\\Geothermal\\GreatBasin\\modem_inv\\western_us_s_waves_Casc19-VS.vtr to c:\\Users\\jpeacock\\zips\\great_basin_thumb_paraview\\western_us_s_waves_Casc19-VS.vtr\n",
      "--> copied C:\\Users\\jpeacock\\OneDrive - DOI\\earth_models\\WUS324.r0.0_nez_32611_km_depth.vtr to c:\\Users\\jpeacock\\zips\\great_basin_thumb_paraview\\WUS324.r0.0_nez_32611_km_depth.vtr\n",
      "--> copied C:\\Users\\jpeacock\\OneDrive - DOI\\earth_models\\WUS256.r0.0_nez_32611_km_depth.vtr to c:\\Users\\jpeacock\\zips\\great_basin_thumb_paraview\\WUS256.r0.0_nez_32611_km_depth.vtr\n",
      "--> copied C:\\Users\\jpeacock\\OneDrive - DOI\\Geothermal\\GreatBasin\\modem_inv\\western_us_s_waves_wUS-SH-2010_percent.vtr to c:\\Users\\jpeacock\\zips\\great_basin_thumb_paraview\\western_us_s_waves_wUS-SH-2010_percent.vtr\n",
      "--> copied C:\\Users\\jpeacock\\OneDrive - DOI\\Geothermal\\GreatBasin\\figures\\gb_mt_inversion_stations.png to c:\\Users\\jpeacock\\zips\\great_basin_thumb_paraview\\gb_mt_inversion_stations.png\n",
      "--> copied C:\\Users\\jpeacock\\OneDrive - DOI\\Geothermal\\GreatBasin\\modem_inv\\gb_01\\gb_z03_t02_c02_046_stations.vtu to c:\\Users\\jpeacock\\zips\\great_basin_thumb_paraview\\gb_z03_t02_c02_046_stations.vtu\n",
      "--> copied C:\\Users\\jpeacock\\OneDrive - DOI\\Geothermal\\GreatBasin\\modem_inv\\moho_temperatures_great_basin.vtu to c:\\Users\\jpeacock\\zips\\great_basin_thumb_paraview\\moho_temperatures_great_basin.vtu\n",
      "--> copied C:\\Users\\jpeacock\\OneDrive - DOI\\earth_models\\LITHO_gb_interp_nez_32611_km_bounded.vtu to c:\\Users\\jpeacock\\zips\\great_basin_thumb_paraview\\LITHO_gb_interp_nez_32611_km_bounded.vtu\n",
      "--> copied C:\\Users\\jpeacock\\OneDrive - DOI\\Geothermal\\GreatBasin\\modem_inv\\gb_01\\gb_z03_t02_c02_046_res.vtr to c:\\Users\\jpeacock\\zips\\great_basin_thumb_paraview\\gb_z03_t02_c02_046_res.vtr\n",
      "--> copied C:\\Users\\jpeacock\\OneDrive - DOI\\Geothermal\\GreatBasin\\modem_inv\\gb_01\\gb_z03_t02_c02_013_stations.vtu to c:\\Users\\jpeacock\\zips\\great_basin_thumb_paraview\\gb_z03_t02_c02_013_stations.vtu\n",
      "--> copied C:\\Users\\jpeacock\\OneDrive - DOI\\Geothermal\\GreatBasin\\modem_inv\\gb_01\\gb_z03_t02_c02_013_res.vtr to c:\\Users\\jpeacock\\zips\\great_basin_thumb_paraview\\gb_z03_t02_c02_013_res.vtr\n",
      "--> copied C:\\Users\\jpeacock\\OneDrive - DOI\\Geothermal\\GreatBasin\\modem_inv\\active_geothermal.vtu to c:\\Users\\jpeacock\\zips\\great_basin_thumb_paraview\\active_geothermal.vtu\n",
      "--> copied C:\\Users\\jpeacock\\OneDrive - DOI\\Geothermal\\GreatBasin\\modem_inv\\western_us_NWUS11-vp_vs.vtr to c:\\Users\\jpeacock\\zips\\great_basin_thumb_paraview\\western_us_NWUS11-vp_vs.vtr\n",
      "--> copied C:\\Users\\jpeacock\\OneDrive - DOI\\Geothermal\\GreatBasin\\modem_inv\\gold.vtu to c:\\Users\\jpeacock\\zips\\great_basin_thumb_paraview\\gold.vtu\n"
     ]
    }
   ],
   "source": [
    "for fp in set(files):\n",
    "    if fp.exists():\n",
    "        new_file_path = Path(r\"c:\\Users\\jpeacock\\zips\\great_basin_thumb_paraview\").joinpath(fp.name)\n",
    "        shutil.copy(fp, new_file_path)\n",
    "        print(f\"--> copied {fp} to {new_file_path}\")\n",
    "    else:\n",
    "        print(f\"File does not exist: {fp}\")"
   ]
  },
  {
   "cell_type": "code",
   "execution_count": 16,
   "id": "dc7da0e7",
   "metadata": {},
   "outputs": [],
   "source": [
    "new_fn = Path(r\"c:\\Users\\jpeacock\\zips\\great_basin_thumb_paraview\\grl_figures.pvsm\")"
   ]
  },
  {
   "cell_type": "code",
   "execution_count": 31,
   "id": "b16257ec",
   "metadata": {},
   "outputs": [
    {
     "name": "stdout",
     "output_type": "stream",
     "text": [
      "        <Element index=\"0\" value=\"C:\\Users\\jpeacock\\OneDrive - DOI\\earth_models\\LITHO_gb_interp_nez_32611_km_bounded.vtu\"/>\n",
      "\n",
      "replaced:         <Element index=\"0\" value=\".\\LITHO_gb_interp_nez_32611_km_bounded.vtu\"/>\n",
      "\n",
      "        <Element index=\"0\" value=\"C:\\Users\\jpeacock\\OneDrive - DOI\\earth_models\\LITHO_gb_interp_nez_32611_km_bounded.vtu\"/>\n",
      "\n",
      "replaced:         <Element index=\"0\" value=\".\\LITHO_gb_interp_nez_32611_km_bounded.vtu\"/>\n",
      "\n",
      "        <Element index=\"0\" value=\"C:\\Users\\jpeacock\\OneDrive - DOI\\earth_models\\WUS256.r0.0_nez_32611_km_depth.vtr\"/>\n",
      "\n",
      "replaced:         <Element index=\"0\" value=\".\\WUS256.r0.0_nez_32611_km_depth.vtr\"/>\n",
      "\n",
      "        <Element index=\"0\" value=\"C:\\Users\\jpeacock\\OneDrive - DOI\\earth_models\\WUS256.r0.0_nez_32611_km_depth.vtr\"/>\n",
      "\n",
      "replaced:         <Element index=\"0\" value=\".\\WUS256.r0.0_nez_32611_km_depth.vtr\"/>\n",
      "\n",
      "        <Element index=\"0\" value=\"C:\\Users\\jpeacock\\OneDrive - DOI\\earth_models\\WUS324.r0.0_nez_32611_km_depth.vtr\"/>\n",
      "\n",
      "replaced:         <Element index=\"0\" value=\".\\WUS324.r0.0_nez_32611_km_depth.vtr\"/>\n",
      "\n",
      "        <Element index=\"0\" value=\"C:\\Users\\jpeacock\\OneDrive - DOI\\earth_models\\WUS324.r0.0_nez_32611_km_depth.vtr\"/>\n",
      "\n",
      "replaced:         <Element index=\"0\" value=\".\\WUS324.r0.0_nez_32611_km_depth.vtr\"/>\n",
      "\n",
      "        <Element index=\"0\" value=\"C:\\Users\\jpeacock\\OneDrive - DOI\\Geothermal\\GreatBasin\\modem_inv\\active_geothermal.vtu\"/>\n",
      "\n",
      "replaced:         <Element index=\"0\" value=\".\\active_geothermal.vtu\"/>\n",
      "\n",
      "        <Element index=\"0\" value=\"C:\\Users\\jpeacock\\OneDrive - DOI\\Geothermal\\GreatBasin\\modem_inv\\active_geothermal.vtu\"/>\n",
      "\n",
      "replaced:         <Element index=\"0\" value=\".\\active_geothermal.vtu\"/>\n",
      "\n",
      "        <Element index=\"0\" value=\"C:\\Users\\jpeacock\\OneDrive - DOI\\Geothermal\\GreatBasin\\modem_inv\\gb_01\\gb_z03_t02_c02_013_res.vtr\"/>\n",
      "\n",
      "replaced:         <Element index=\"0\" value=\".\\gb_z03_t02_c02_013_res.vtr\"/>\n",
      "\n",
      "        <Element index=\"0\" value=\"C:\\Users\\jpeacock\\OneDrive - DOI\\Geothermal\\GreatBasin\\modem_inv\\gb_01\\gb_z03_t02_c02_013_res.vtr\"/>\n",
      "\n",
      "replaced:         <Element index=\"0\" value=\".\\gb_z03_t02_c02_013_res.vtr\"/>\n",
      "\n",
      "        <Element index=\"0\" value=\"C:\\Users\\jpeacock\\OneDrive - DOI\\Geothermal\\GreatBasin\\modem_inv\\gb_01\\gb_z03_t02_c02_013_stations.vtu\"/>\n",
      "\n",
      "replaced:         <Element index=\"0\" value=\".\\gb_z03_t02_c02_013_stations.vtu\"/>\n",
      "\n",
      "        <Element index=\"0\" value=\"C:\\Users\\jpeacock\\OneDrive - DOI\\Geothermal\\GreatBasin\\modem_inv\\gb_01\\gb_z03_t02_c02_013_stations.vtu\"/>\n",
      "\n",
      "replaced:         <Element index=\"0\" value=\".\\gb_z03_t02_c02_013_stations.vtu\"/>\n",
      "\n",
      "        <Element index=\"0\" value=\"C:\\Users\\jpeacock\\OneDrive - DOI\\Geothermal\\GreatBasin\\modem_inv\\gb_01\\gb_z03_t02_c02_046_res.vtr\"/>\n",
      "\n",
      "replaced:         <Element index=\"0\" value=\".\\gb_z03_t02_c02_046_res.vtr\"/>\n",
      "\n",
      "        <Element index=\"0\" value=\"C:\\Users\\jpeacock\\OneDrive - DOI\\Geothermal\\GreatBasin\\modem_inv\\gb_01\\gb_z03_t02_c02_046_res.vtr\"/>\n",
      "\n",
      "replaced:         <Element index=\"0\" value=\".\\gb_z03_t02_c02_046_res.vtr\"/>\n",
      "\n",
      "        <Element index=\"0\" value=\"C:\\Users\\jpeacock\\OneDrive - DOI\\Geothermal\\GreatBasin\\modem_inv\\gb_01\\gb_z03_t02_c02_046_stations.vtu\"/>\n",
      "\n",
      "replaced:         <Element index=\"0\" value=\".\\gb_z03_t02_c02_046_stations.vtu\"/>\n",
      "\n",
      "        <Element index=\"0\" value=\"C:\\Users\\jpeacock\\OneDrive - DOI\\Geothermal\\GreatBasin\\modem_inv\\gb_01\\gb_z03_t02_c02_046_stations.vtu\"/>\n",
      "\n",
      "replaced:         <Element index=\"0\" value=\".\\gb_z03_t02_c02_046_stations.vtu\"/>\n",
      "\n",
      "        <Element index=\"0\" value=\"C:\\Users\\jpeacock\\OneDrive - DOI\\Geothermal\\GreatBasin\\modem_inv\\gold.vtu\"/>\n",
      "\n",
      "replaced:         <Element index=\"0\" value=\".\\gold.vtu\"/>\n",
      "\n",
      "        <Element index=\"0\" value=\"C:\\Users\\jpeacock\\OneDrive - DOI\\Geothermal\\GreatBasin\\modem_inv\\gold.vtu\"/>\n",
      "\n",
      "replaced:         <Element index=\"0\" value=\".\\gold.vtu\"/>\n",
      "\n",
      "        <Element index=\"0\" value=\"C:\\Users\\jpeacock\\OneDrive - DOI\\Geothermal\\GreatBasin\\modem_inv\\moho_temperatures_great_basin.vtu\"/>\n",
      "\n",
      "replaced:         <Element index=\"0\" value=\".\\moho_temperatures_great_basin.vtu\"/>\n",
      "\n",
      "        <Element index=\"0\" value=\"C:\\Users\\jpeacock\\OneDrive - DOI\\Geothermal\\GreatBasin\\modem_inv\\moho_temperatures_great_basin.vtu\"/>\n",
      "\n",
      "replaced:         <Element index=\"0\" value=\".\\moho_temperatures_great_basin.vtu\"/>\n",
      "\n",
      "        <Element index=\"0\" value=\"C:\\Users\\jpeacock\\OneDrive - DOI\\Geothermal\\GreatBasin\\modem_inv\\volcanoes.vtu\"/>\n",
      "\n",
      "replaced:         <Element index=\"0\" value=\".\\volcanoes.vtu\"/>\n",
      "\n",
      "        <Element index=\"0\" value=\"C:\\Users\\jpeacock\\OneDrive - DOI\\Geothermal\\GreatBasin\\modem_inv\\volcanoes.vtu\"/>\n",
      "\n",
      "replaced:         <Element index=\"0\" value=\".\\volcanoes.vtu\"/>\n",
      "\n",
      "        <Element index=\"0\" value=\"C:\\Users\\jpeacock\\OneDrive - DOI\\Geothermal\\GreatBasin\\modem_inv\\western_us_NWUS11-vp_vs.vtr\"/>\n",
      "\n",
      "replaced:         <Element index=\"0\" value=\".\\western_us_NWUS11-vp_vs.vtr\"/>\n",
      "\n",
      "        <Element index=\"0\" value=\"C:\\Users\\jpeacock\\OneDrive - DOI\\Geothermal\\GreatBasin\\modem_inv\\western_us_NWUS11-vp_vs.vtr\"/>\n",
      "\n",
      "replaced:         <Element index=\"0\" value=\".\\western_us_NWUS11-vp_vs.vtr\"/>\n",
      "\n",
      "        <Element index=\"0\" value=\"C:\\Users\\jpeacock\\OneDrive - DOI\\Geothermal\\GreatBasin\\modem_inv\\western_us_s_waves_Casc19-VS.vtr\"/>\n",
      "\n",
      "replaced:         <Element index=\"0\" value=\".\\western_us_s_waves_Casc19-VS.vtr\"/>\n",
      "\n",
      "        <Element index=\"0\" value=\"C:\\Users\\jpeacock\\OneDrive - DOI\\Geothermal\\GreatBasin\\modem_inv\\western_us_s_waves_Casc19-VS.vtr\"/>\n",
      "\n",
      "replaced:         <Element index=\"0\" value=\".\\western_us_s_waves_Casc19-VS.vtr\"/>\n",
      "\n",
      "        <Element index=\"0\" value=\"C:\\Users\\jpeacock\\OneDrive - DOI\\Geothermal\\GreatBasin\\modem_inv\\western_us_s_waves_wUS-SH-2010_percent.vtr\"/>\n",
      "\n",
      "replaced:         <Element index=\"0\" value=\".\\western_us_s_waves_wUS-SH-2010_percent.vtr\"/>\n",
      "\n",
      "        <Element index=\"0\" value=\"C:\\Users\\jpeacock\\OneDrive - DOI\\Geothermal\\GreatBasin\\modem_inv\\western_us_s_waves_wUS-SH-2010_percent.vtr\"/>\n",
      "\n",
      "replaced:         <Element index=\"0\" value=\".\\western_us_s_waves_wUS-SH-2010_percent.vtr\"/>\n",
      "\n",
      "        <Element index=\"0\" value=\"C:\\Users\\jpeacock\\OneDrive - DOI\\ClearLake\\modem_inv\\cl_basemap_stations.png\"/>\n",
      "\n",
      "replaced:         <Element index=\"0\" value=\".\\cl_basemap_stations.png\"/>\n",
      "\n",
      "        <Element index=\"0\" value=\"C:\\Users\\jpeacock\\OneDrive - DOI\\Geothermal\\GreatBasin\\figures\\gb_mt_inversion_stations.png\"/>\n",
      "\n",
      "replaced:         <Element index=\"0\" value=\".\\gb_mt_inversion_stations.png\"/>\n",
      "\n"
     ]
    }
   ],
   "source": [
    "with open(new_fn, \"w\") as f:\n",
    "    for line in lines:\n",
    "        if \"C:\" in line:\n",
    "            for fp in set(files):\n",
    "                if fp.name in line:\n",
    "                    print(line)\n",
    "                    line = f'{line.split(\"value=\")[0]}value=\".\\\\{fp.name}\"/>\\n'\n",
    "                    print(\"replaced:\", line)\n",
    "        f.write(line)"
   ]
  },
  {
   "cell_type": "code",
   "execution_count": 24,
   "id": "d1f7ee0a",
   "metadata": {},
   "outputs": [
    {
     "data": {
      "text/plain": [
       "'C:\\\\\\\\Users\\\\\\\\jpeacock\\\\\\\\OneDrive - DOI\\\\\\\\Geothermal\\\\\\\\GreatBasin\\\\\\\\modem_inv'"
      ]
     },
     "execution_count": 24,
     "metadata": {},
     "output_type": "execute_result"
    }
   ],
   "source": [
    "fp.parent.as_posix().replace(\"/\", r\"\\\\\")"
   ]
  },
  {
   "cell_type": "code",
   "execution_count": null,
   "id": "40195b36",
   "metadata": {},
   "outputs": [],
   "source": []
  }
 ],
 "metadata": {
  "kernelspec": {
   "display_name": "py311",
   "language": "python",
   "name": "python3"
  },
  "language_info": {
   "codemirror_mode": {
    "name": "ipython",
    "version": 3
   },
   "file_extension": ".py",
   "mimetype": "text/x-python",
   "name": "python",
   "nbconvert_exporter": "python",
   "pygments_lexer": "ipython3",
   "version": "3.11.11"
  }
 },
 "nbformat": 4,
 "nbformat_minor": 5
}
