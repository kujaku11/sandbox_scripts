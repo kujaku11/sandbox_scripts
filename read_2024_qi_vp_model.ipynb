{
 "cells": [
  {
   "cell_type": "markdown",
   "metadata": {},
   "source": [
    "# Convert Li2024 seismic to VTK"
   ]
  },
  {
   "cell_type": "code",
   "execution_count": 2,
   "metadata": {},
   "outputs": [],
   "source": [
    "# =============================================================================\n",
    "# Imports\n",
    "# =============================================================================\n",
    "from pathlib import Path\n",
    "import numpy as np\n",
    "import pandas as pd\n",
    "from scipy import interpolate\n",
    "import geopandas as gpd\n",
    "from pyevtk.hl import gridToVTK, pointsToVTK\n",
    "\n",
    "\n",
    "# ============================================================================="
   ]
  },
  {
   "cell_type": "code",
   "execution_count": 3,
   "metadata": {},
   "outputs": [],
   "source": [
    "units = \"m\"\n",
    "epsg = 32610"
   ]
  },
  {
   "cell_type": "code",
   "execution_count": 4,
   "metadata": {},
   "outputs": [],
   "source": [
    "fn = Path(\n",
    "    r\"c:\\Users\\jpeacock\\OneDrive - DOI\\ClearLake\\2022_qi_seismic_model_ClearLake\\ModelinGEOS\"\n",
    ")"
   ]
  },
  {
   "cell_type": "code",
   "execution_count": 5,
   "metadata": {},
   "outputs": [],
   "source": [
    "df = pd.read_csv(\n",
    "    fn,\n",
    "    sep=\"\\s+\",\n",
    "    header=None,\n",
    "    usecols=[0, 1, 2, 3, 5],\n",
    "    names=[\"lon\", \"lat\", \"z\", \"vp\", \"moho\"],\n",
    ")"
   ]
  },
  {
   "cell_type": "code",
   "execution_count": 6,
   "metadata": {},
   "outputs": [],
   "source": [
    "gdf = gpd.GeoDataFrame(df, geometry=gpd.points_from_xy(df.lon, df.lat), crs=4326)"
   ]
  },
  {
   "cell_type": "code",
   "execution_count": 15,
   "metadata": {},
   "outputs": [
    {
     "data": {
      "text/plain": [
       "Index(['lon', 'lat', 'z', 'vp', 'moho', 'geometry'], dtype='object')"
      ]
     },
     "execution_count": 15,
     "metadata": {},
     "output_type": "execute_result"
    }
   ],
   "source": [
    "gdf.columns"
   ]
  },
  {
   "cell_type": "code",
   "execution_count": 46,
   "metadata": {},
   "outputs": [],
   "source": [
    "# clip the gdf to the area of interest\n",
    "gdf_clip = gdf[\n",
    "    (gdf.lat <= 39.5)\n",
    "    & (gdf.lat >= 38.5)\n",
    "    & (gdf.lon <= -122.15)\n",
    "    & (gdf.lon >= -123.25)\n",
    "]"
   ]
  },
  {
   "cell_type": "code",
   "execution_count": 47,
   "metadata": {},
   "outputs": [],
   "source": [
    "utm_gdf = gdf_clip.to_crs(epsg=32610)\n",
    "utm_gdf[\"easting\"] = utm_gdf.geometry.x\n",
    "utm_gdf[\"northing\"] = utm_gdf.geometry.y"
   ]
  },
  {
   "cell_type": "code",
   "execution_count": 48,
   "metadata": {},
   "outputs": [
    {
     "name": "stdout",
     "output_type": "stream",
     "text": [
      "dx: 191\n",
      "dy: 222\n"
     ]
    }
   ],
   "source": [
    "dx = int((utm_gdf.easting.max() - utm_gdf.easting.min()) / 500)\n",
    "dy = int((utm_gdf.northing.max() - utm_gdf.northing.min()) / 500)\n",
    "\n",
    "print(f\"dx: {dx}\\ndy: {dy}\")"
   ]
  },
  {
   "cell_type": "code",
   "execution_count": 49,
   "metadata": {},
   "outputs": [],
   "source": [
    "x = np.linspace(utm_gdf.easting.min(), utm_gdf.easting.max(), dx + 1)\n",
    "y = np.linspace(utm_gdf.northing.min(), utm_gdf.northing.max(), dy + 1)\n",
    "depth = np.append(utm_gdf.z.unique() * 1000 * -1, [36000])\n",
    "\n",
    "nx = x.size\n",
    "ny = y.size\n",
    "nz = depth.size"
   ]
  },
  {
   "cell_type": "code",
   "execution_count": 50,
   "metadata": {},
   "outputs": [],
   "source": [
    "# interpolate onto a regular grid\n",
    "new_vp = np.zeros((dx, dy, depth.size - 1))\n",
    "for index, z in enumerate(utm_gdf.z.unique()):\n",
    "    zdf = utm_gdf[utm_gdf.z == z]\n",
    "\n",
    "\n",
    "    new_vp[:, :, index] = interpolate.griddata(\n",
    "        (zdf.easting.to_numpy(), zdf.northing.to_numpy()),\n",
    "        zdf.vp,\n",
    "        (x[:-1, None], y[None, :-1]),\n",
    "    )"
   ]
  },
  {
   "cell_type": "code",
   "execution_count": 51,
   "metadata": {},
   "outputs": [
    {
     "data": {
      "text/plain": [
       "'c:\\\\Users\\\\jpeacock\\\\OneDrive - DOI\\\\ClearLake\\\\2022_qi_seismic_model_ClearLake\\\\2024_li_vp.vtr'"
      ]
     },
     "execution_count": 51,
     "metadata": {},
     "output_type": "execute_result"
    }
   ],
   "source": [
    "# estimate vp/vs\n",
    "cell_data = {\"vp\": new_vp}\n",
    "\n",
    "gridToVTK(\n",
    "    fn.parent.joinpath(\"2024_li_vp\").as_posix(),\n",
    "    x,\n",
    "    y,\n",
    "    depth,\n",
    "    cellData=cell_data,\n",
    ")"
   ]
  },
  {
   "cell_type": "code",
   "execution_count": 52,
   "metadata": {},
   "outputs": [
    {
     "data": {
      "text/plain": [
       "<Axes: xlabel='easting', ylabel='northing'>"
      ]
     },
     "execution_count": 52,
     "metadata": {},
     "output_type": "execute_result"
    },
    {
     "data": {
      "image/png": "[encoded data removed]",
      "text/plain": [
       "<Figure size 640x480 with 1 Axes>"
      ]
     },
     "metadata": {},
     "output_type": "display_data"
    }
   ],
   "source": [
    "zdf.plot.scatter(\"easting\", \"northing\")"
   ]
  },
  {
   "cell_type": "code",
   "execution_count": null,
   "metadata": {},
   "outputs": [],
   "source": []
  }
 ],
 "metadata": {
  "kernelspec": {
   "display_name": "py311",
   "language": "python",
   "name": "python3"
  },
  "language_info": {
   "codemirror_mode": {
    "name": "ipython",
    "version": 3
   },
   "file_extension": ".py",
   "mimetype": "text/x-python",
   "name": "python",
   "nbconvert_exporter": "python",
   "pygments_lexer": "ipython3",
   "version": "3.11.11"
  }
 },
 "nbformat": 4,
 "nbformat_minor": 2
}
