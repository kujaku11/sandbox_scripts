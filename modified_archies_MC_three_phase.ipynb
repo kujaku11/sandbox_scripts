{
 "cells": [
  {
   "cell_type": "code",
   "execution_count": 281,
   "metadata": {
    "collapsed": true
   },
   "outputs": [],
   "source": [
    "import pymc\n",
    "import numpy as np\n",
    "import matplotlib.pyplot as plt\n",
    "import scipy.stats as stats\n",
    "%matplotlib inline"
   ]
  },
  {
   "cell_type": "code",
   "execution_count": 282,
   "metadata": {
    "collapsed": true
   },
   "outputs": [],
   "source": [
    "num_obs = 100\n"
   ]
  },
  {
   "cell_type": "code",
   "execution_count": 283,
   "metadata": {
    "collapsed": false
   },
   "outputs": [],
   "source": [
    "data_obs = np.random.poisson(1./50., size=num_obs)"
   ]
  },
  {
   "cell_type": "code",
   "execution_count": 284,
   "metadata": {
    "collapsed": false
   },
   "outputs": [],
   "source": [
    "sigma_r = np.random.normal(loc=.01, scale=.003, size=num_obs)\n",
    "sigma_f = np.random.normal(loc=1./.05, scale=5, size=num_obs)\n",
    "sigma_m = np.random.normal(loc=.001, scale=.005, size=num_obs)\n",
    "\n",
    "m_r = np.random.normal(loc=.03, scale=.02, size=num_obs)\n",
    "m_f = np.random.normal(loc=1.7, scale=.2, size=num_obs)\n",
    "m_m = np.random.normal(loc=1.7, scale=.3, size=num_obs)"
   ]
  },
  {
   "cell_type": "code",
   "execution_count": 285,
   "metadata": {
    "collapsed": false
   },
   "outputs": [
    {
     "data": {
      "image/png": "[encoded data removed]",
      "text/plain": [
       "<matplotlib.figure.Figure at 0x1be678b0>"
      ]
     },
     "metadata": {},
     "output_type": "display_data"
    }
   ],
   "source": [
    "fig = plt.figure(1, [12, 6], dpi=300)\n",
    "fig.subplots_adjust(hspace=.3)\n",
    "ax1 = fig.add_subplot(2,4,1)\n",
    "counts, bins, ignored = ax1.hist(data_obs, normed=False, color='black')\n",
    "ax1.set_xlabel(r'$\\sigma_{obs}$', fontdict={'size':18})\n",
    "ax1.set_xscale('log')\n",
    "\n",
    "ax2 = fig.add_subplot(2,4,2)\n",
    "counts, bins, ignored = ax2.hist(sigma_r, normed=False, color='blue')\n",
    "ax2.set_xlabel(r'$\\sigma_{rock}$', fontdict={'size':18})\n",
    "\n",
    "ax3 = fig.add_subplot(2,4,3)\n",
    "counts, bins, ignored = ax3.hist(sigma_f, normed=False, color='red')\n",
    "ax3.set_xlabel(r'$\\sigma_{fluid}$', fontdict={'size':18})\n",
    "\n",
    "ax4 = fig.add_subplot(2,4,4)\n",
    "counts, bins, ignored = ax4.hist(sigma_m, normed=False, color='green')\n",
    "ax4.set_xlabel(r'$\\sigma_{mineral}$', fontdict={'size':18})\n",
    "\n",
    "ax6 = fig.add_subplot(2,4,6)\n",
    "counts, bins, ignored = ax6.hist(m_r, normed=False, color='blue')\n",
    "ax6.set_xlabel(r'$m_{rock}$', fontdict={'size':18})\n",
    "\n",
    "ax7 = fig.add_subplot(2,4,7)\n",
    "counts, bins, ignored = ax7.hist(m_f, normed=False, color='red')\n",
    "ax7.set_xlabel(r'$m_{fluid}$', fontdict={'size':18})\n",
    "\n",
    "ax8 = fig.add_subplot(2,4,8)\n",
    "counts, bins, ignored = ax8.hist(m_m, normed=False, color='green')\n",
    "ax8.set_xlabel(r'$m_{mineral}$', fontdict={'size':18})\n",
    "plt.show()"
   ]
  },
  {
   "cell_type": "code",
   "execution_count": 286,
   "metadata": {
    "collapsed": false
   },
   "outputs": [
    {
     "name": "stderr",
     "output_type": "stream",
     "text": [
      "C:\\Python27\\lib\\site-packages\\ipykernel\\__main__.py:17: RuntimeWarning: invalid value encountered in power\n"
     ]
    }
   ],
   "source": [
    "\n",
    "    \n",
    "# prior information of unknown model parameters\n",
    "phi_r = pymc.Normal('phi_r', .7, .2)\n",
    "phi_f = pymc.Normal('phi_f', .5, .3)\n",
    "phi_m = pymc.Normal('phi_m', .5, .3)\n",
    "\n",
    "#m_r = pymc.Normal('m_r', .03, .015)\n",
    "#m_f = pymc.Normal('m_f', 2, .3)\n",
    "#m_m = pymc.Normal('m_m', 3.5, .3)\n",
    "\n",
    "# expected outcome is governed by Archies equation of Glove 2010\n",
    "@pymc.deterministic\n",
    "def archies(s_r=sigma_r, s_f=sigma_f, s_m=sigma_m, \n",
    "            p_r=phi_r, p_f=phi_f, p_m=phi_m, \n",
    "            m_r=m_r, m_f=m_f, m_m=m_m):\n",
    "    archie_return = (s_r*p_r**m_r)+(s_f*p_f**m_f)+(s_m*p_m**m_m)\n",
    "    return archie_return\n",
    "\n",
    "\n",
    "# likelihood of the observations is a normal distribution\n",
    "# and is the data itself\n",
    "sigma_obs = pymc.Normal('sigma_obs', mu=archies, value=data_obs, observed=True)\n",
    "\n",
    "archie_model = pymc.Model([archies, sigma_r, sigma_f, sigma_m, \n",
    "                           phi_r, phi_f, phi_m, \n",
    "                           m_r, m_f, m_m, \n",
    "                           sigma_obs, \n",
    "                           data_obs])\n"
   ]
  },
  {
   "cell_type": "code",
   "execution_count": 287,
   "metadata": {
    "collapsed": false
   },
   "outputs": [
    {
     "name": "stdout",
     "output_type": "stream",
     "text": [
      " [-----------------100%-----------------] 10000 of 10000 complete in 3.0 sec"
     ]
    },
    {
     "name": "stderr",
     "output_type": "stream",
     "text": [
      "C:\\Python27\\lib\\site-packages\\ipykernel\\__main__.py:17: RuntimeWarning: invalid value encountered in power\n"
     ]
    }
   ],
   "source": [
    "model_fit = pymc.MCMC(archie_model)\n",
    "model_fit.sample(iter=10000)"
   ]
  },
  {
   "cell_type": "code",
   "execution_count": 288,
   "metadata": {
    "collapsed": false
   },
   "outputs": [
    {
     "name": "stdout",
     "output_type": "stream",
     "text": [
      "             Rock   Fluid    Mineral\n",
      "Mean Percent   0.61   0.12   0.52\n",
      "Median Percent 0.56   0.05   0.60\n",
      "Mode Percent   0.54   0.05   0.63\n",
      "Min Percent    0.18   0.00   0.00\n",
      "Max Percent    1.00   0.85   1.00\n",
      "STD            0.24   0.22   0.30\n"
     ]
    },
    {
     "data": {
      "image/png": "[encoded data removed]",
      "text/plain": [
       "<matplotlib.figure.Figure at 0x29469c70>"
      ]
     },
     "metadata": {},
     "output_type": "display_data"
    }
   ],
   "source": [
    "pr_arr = model_fit.trace('phi_r')[:]\n",
    "pf_arr = model_fit.trace('phi_f')[:]\n",
    "pm_arr = model_fit.trace('phi_m')[:]\n",
    "\n",
    "pr_arr = pr_arr[np.where((pr_arr>=0)& (pr_arr<=1))]\n",
    "pf_arr = pf_arr[np.where((pf_arr>=0)& (pf_arr<=1))]\n",
    "pm_arr = pm_arr[np.where((pm_arr>=0)& (pm_arr<=1))]\n",
    "\n",
    "# make sure that the rock percentage is confined to values where the \n",
    "# total proportion is equal to 1\n",
    "pr_arr = pr_arr[np.where(pr_arr > 1-(stats.mode(pf_arr)[0][0]+stats.mode(pm_arr)[0][0])*1.2)]\n",
    "\n",
    "fig_2 = plt.figure(2, [12, 6], dpi=300)\n",
    "ax1 = fig_2.add_subplot(1, 3, 1)\n",
    "h1 = ax1.hist(pr_arr, bins=20, color='blue')\n",
    "ax1.set_xlim(0, 1)\n",
    "ax1.set_xlabel(r'$\\phi_{rock}$', fontdict={'size':18})\n",
    "\n",
    "ax2 = fig_2.add_subplot(1, 3, 2)\n",
    "h2 = ax2.hist(pf_arr, bins=20, color='red')\n",
    "ax2.set_xlim(0, 1)\n",
    "ax2.set_xlabel(r'$\\phi_{fluid}$', fontdict={'size':18})\n",
    "\n",
    "\n",
    "ax3 = fig_2.add_subplot(1, 3, 3)\n",
    "h3 = ax3.hist(pm_arr, bins=20, color='green')\n",
    "ax3.set_xlim(0, 1)\n",
    "ax3.set_xlabel(r'$\\phi_{mineral}$', fontdict={'size':18})\n",
    "\n",
    "\n",
    "print '             Rock   Fluid    Mineral'\n",
    "print 'Mean Percent   {0:.2f}   {1:.2f}   {2:.2f}'.format(pr_arr.mean(),\n",
    "                                                          pf_arr.mean(),\n",
    "                                                          pm_arr.mean())\n",
    "print 'Median Percent {0:.2f}   {1:.2f}   {2:.2f}'.format(np.median(pr_arr),\n",
    "                                                          np.median(pf_arr),\n",
    "                                                          np.median(pm_arr))\n",
    "print 'Mode Percent   {0:.2f}   {1:.2f}   {2:.2f}'.format(stats.mode(pr_arr)[0][0],\n",
    "                                                          stats.mode(pf_arr)[0][0],\n",
    "                                                          stats.mode(pm_arr)[0][0])\n",
    "print 'Min Percent    {0:.2f}   {1:.2f}   {2:.2f}'.format(pr_arr.min(),\n",
    "                                                          pf_arr.min(),\n",
    "                                                          pm_arr.min())\n",
    "print 'Max Percent    {0:.2f}   {1:.2f}   {2:.2f}'.format(pr_arr.max(),\n",
    "                                                          pf_arr.max(),\n",
    "                                                          pm_arr.max())\n",
    "print 'STD            {0:.2f}   {1:.2f}   {2:.2f}'.format(pr_arr.std(),\n",
    "                                                          pf_arr.std(),\n",
    "                                                          pm_arr.std()) "
   ]
  }
 ],
 "metadata": {
  "kernelspec": {
   "display_name": "Python 2",
   "language": "python",
   "name": "python2"
  },
  "language_info": {
   "codemirror_mode": {
    "name": "ipython",
    "version": 2
   },
   "file_extension": ".py",
   "mimetype": "text/x-python",
   "name": "python",
   "nbconvert_exporter": "python",
   "pygments_lexer": "ipython2",
   "version": "2.7.6"
  }
 },
 "nbformat": 4,
 "nbformat_minor": 0
}
